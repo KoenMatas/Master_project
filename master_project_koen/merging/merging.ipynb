{
 "metadata": {
  "language_info": {
   "codemirror_mode": {
    "name": "ipython",
    "version": 3
   },
   "file_extension": ".py",
   "mimetype": "text/x-python",
   "name": "python",
   "nbconvert_exporter": "python",
   "pygments_lexer": "ipython3",
   "version": "3.9.5"
  },
  "orig_nbformat": 2,
  "kernelspec": {
   "name": "python395jvsc74a57bd081e1f5df5c7d84a9530967da31609a1625d589fbc5ca7ab8ade995e2c5fae065",
   "display_name": "Python 3.9.5 64-bit"
  }
 },
 "nbformat": 4,
 "nbformat_minor": 2,
 "cells": [
  {
   "cell_type": "code",
   "execution_count": 1,
   "metadata": {},
   "outputs": [],
   "source": [
    "import pandas as pd\n",
    "import math"
   ]
  },
  {
   "cell_type": "code",
   "execution_count": 2,
   "metadata": {},
   "outputs": [],
   "source": [
    "#load first 2 files to merge\n",
    "metacritic = pd.read_csv(r'C:\\Users\\koenm\\OneDrive\\Bureaublad\\Thesis\\Metacritic_thesis\\5. files_to_merge\\input\\metacritic.csv', delimiter=\";\")\n",
    "criticvolume = pd.read_csv(r'C:\\Users\\koenm\\OneDrive\\Bureaublad\\Thesis\\Metacritic_thesis\\5. files_to_merge\\input\\criticvolume.csv', delimiter=\",\")"
   ]
  },
  {
   "cell_type": "code",
   "execution_count": 3,
   "metadata": {},
   "outputs": [
    {
     "output_type": "execute_result",
     "data": {
      "text/plain": [
       "   Unnamed: 0                                                url  \\\n",
       "0           0  https://www.metacritic.com/music/the-order-of-...   \n",
       "1           1  https://www.metacritic.com/music/an-overview-o...   \n",
       "2           2  https://www.metacritic.com/music/platinum/mira...   \n",
       "3           3  https://www.metacritic.com/music/the-meadowlan...   \n",
       "4           4         https://www.metacritic.com/music/play/moby   \n",
       "\n",
       "                              title             artist Date_Published  \\\n",
       "0                the  order of time       valerie june   Mar 10, 2017   \n",
       "1  an overview on phenomenal nature  cassandra jenkins   Feb 19, 2021   \n",
       "2                          platinum    miranda lambert   Jun  3, 2014   \n",
       "3                   the meadowlands          the wrens   Sep  9, 2003   \n",
       "4                              play               moby   Jun  1, 1999   \n",
       "\n",
       "   Meta_Score User_Score       Genre  \n",
       "0        89.0        7.9    Pop/Rock  \n",
       "1        87.0        7.9    Pop/Rock  \n",
       "2        86.0        8.1     Country  \n",
       "3        85.0        8.9       Indie  \n",
       "4        84.0        8.8  Electronic  "
      ],
      "text/html": "<div>\n<style scoped>\n    .dataframe tbody tr th:only-of-type {\n        vertical-align: middle;\n    }\n\n    .dataframe tbody tr th {\n        vertical-align: top;\n    }\n\n    .dataframe thead th {\n        text-align: right;\n    }\n</style>\n<table border=\"1\" class=\"dataframe\">\n  <thead>\n    <tr style=\"text-align: right;\">\n      <th></th>\n      <th>Unnamed: 0</th>\n      <th>url</th>\n      <th>title</th>\n      <th>artist</th>\n      <th>Date_Published</th>\n      <th>Meta_Score</th>\n      <th>User_Score</th>\n      <th>Genre</th>\n    </tr>\n  </thead>\n  <tbody>\n    <tr>\n      <th>0</th>\n      <td>0</td>\n      <td>https://www.metacritic.com/music/the-order-of-...</td>\n      <td>the  order of time</td>\n      <td>valerie june</td>\n      <td>Mar 10, 2017</td>\n      <td>89.0</td>\n      <td>7.9</td>\n      <td>Pop/Rock</td>\n    </tr>\n    <tr>\n      <th>1</th>\n      <td>1</td>\n      <td>https://www.metacritic.com/music/an-overview-o...</td>\n      <td>an overview on phenomenal nature</td>\n      <td>cassandra jenkins</td>\n      <td>Feb 19, 2021</td>\n      <td>87.0</td>\n      <td>7.9</td>\n      <td>Pop/Rock</td>\n    </tr>\n    <tr>\n      <th>2</th>\n      <td>2</td>\n      <td>https://www.metacritic.com/music/platinum/mira...</td>\n      <td>platinum</td>\n      <td>miranda lambert</td>\n      <td>Jun  3, 2014</td>\n      <td>86.0</td>\n      <td>8.1</td>\n      <td>Country</td>\n    </tr>\n    <tr>\n      <th>3</th>\n      <td>3</td>\n      <td>https://www.metacritic.com/music/the-meadowlan...</td>\n      <td>the meadowlands</td>\n      <td>the wrens</td>\n      <td>Sep  9, 2003</td>\n      <td>85.0</td>\n      <td>8.9</td>\n      <td>Indie</td>\n    </tr>\n    <tr>\n      <th>4</th>\n      <td>4</td>\n      <td>https://www.metacritic.com/music/play/moby</td>\n      <td>play</td>\n      <td>moby</td>\n      <td>Jun  1, 1999</td>\n      <td>84.0</td>\n      <td>8.8</td>\n      <td>Electronic</td>\n    </tr>\n  </tbody>\n</table>\n</div>"
     },
     "metadata": {},
     "execution_count": 3
    }
   ],
   "source": [
    "metacritic.head()"
   ]
  },
  {
   "cell_type": "code",
   "execution_count": 5,
   "metadata": {},
   "outputs": [
    {
     "output_type": "execute_result",
     "data": {
      "text/plain": [
       "   Unnamed: 0                                                url  \\\n",
       "0           0  https://www.metacritic.com/music/the-order-of-...   \n",
       "1           1  https://www.metacritic.com/music/an-overview-o...   \n",
       "2           2  https://www.metacritic.com/music/platinum/mira...   \n",
       "3           3  https://www.metacritic.com/music/the-meadowlan...   \n",
       "4           4         https://www.metacritic.com/music/play/moby   \n",
       "\n",
       "                              title             artist Date_Published  \\\n",
       "0                the  order of time       valerie june   Mar 10, 2017   \n",
       "1  an overview on phenomenal nature  cassandra jenkins   Feb 19, 2021   \n",
       "2                          platinum    miranda lambert   Jun  3, 2014   \n",
       "3                   the meadowlands          the wrens   Sep  9, 2003   \n",
       "4                              play               moby   Jun  1, 1999   \n",
       "\n",
       "   Meta_Score User_Score       Genre    year  \n",
       "0        89.0        7.9    Pop/Rock  2017.0  \n",
       "1        87.0        7.9    Pop/Rock  2021.0  \n",
       "2        86.0        8.1     Country  2014.0  \n",
       "3        85.0        8.9       Indie  2003.0  \n",
       "4        84.0        8.8  Electronic  1999.0  "
      ],
      "text/html": "<div>\n<style scoped>\n    .dataframe tbody tr th:only-of-type {\n        vertical-align: middle;\n    }\n\n    .dataframe tbody tr th {\n        vertical-align: top;\n    }\n\n    .dataframe thead th {\n        text-align: right;\n    }\n</style>\n<table border=\"1\" class=\"dataframe\">\n  <thead>\n    <tr style=\"text-align: right;\">\n      <th></th>\n      <th>Unnamed: 0</th>\n      <th>url</th>\n      <th>title</th>\n      <th>artist</th>\n      <th>Date_Published</th>\n      <th>Meta_Score</th>\n      <th>User_Score</th>\n      <th>Genre</th>\n      <th>year</th>\n    </tr>\n  </thead>\n  <tbody>\n    <tr>\n      <th>0</th>\n      <td>0</td>\n      <td>https://www.metacritic.com/music/the-order-of-...</td>\n      <td>the  order of time</td>\n      <td>valerie june</td>\n      <td>Mar 10, 2017</td>\n      <td>89.0</td>\n      <td>7.9</td>\n      <td>Pop/Rock</td>\n      <td>2017.0</td>\n    </tr>\n    <tr>\n      <th>1</th>\n      <td>1</td>\n      <td>https://www.metacritic.com/music/an-overview-o...</td>\n      <td>an overview on phenomenal nature</td>\n      <td>cassandra jenkins</td>\n      <td>Feb 19, 2021</td>\n      <td>87.0</td>\n      <td>7.9</td>\n      <td>Pop/Rock</td>\n      <td>2021.0</td>\n    </tr>\n    <tr>\n      <th>2</th>\n      <td>2</td>\n      <td>https://www.metacritic.com/music/platinum/mira...</td>\n      <td>platinum</td>\n      <td>miranda lambert</td>\n      <td>Jun  3, 2014</td>\n      <td>86.0</td>\n      <td>8.1</td>\n      <td>Country</td>\n      <td>2014.0</td>\n    </tr>\n    <tr>\n      <th>3</th>\n      <td>3</td>\n      <td>https://www.metacritic.com/music/the-meadowlan...</td>\n      <td>the meadowlands</td>\n      <td>the wrens</td>\n      <td>Sep  9, 2003</td>\n      <td>85.0</td>\n      <td>8.9</td>\n      <td>Indie</td>\n      <td>2003.0</td>\n    </tr>\n    <tr>\n      <th>4</th>\n      <td>4</td>\n      <td>https://www.metacritic.com/music/play/moby</td>\n      <td>play</td>\n      <td>moby</td>\n      <td>Jun  1, 1999</td>\n      <td>84.0</td>\n      <td>8.8</td>\n      <td>Electronic</td>\n      <td>1999.0</td>\n    </tr>\n  </tbody>\n</table>\n</div>"
     },
     "metadata": {},
     "execution_count": 5
    }
   ],
   "source": [
    "#creating new column for merging on year later on\n",
    "metacritic['year'] = pd.DatetimeIndex(metacritic['Date_Published']).year\n",
    "metacritic.head()"
   ]
  },
  {
   "cell_type": "code",
   "execution_count": 6,
   "metadata": {},
   "outputs": [
    {
     "output_type": "execute_result",
     "data": {
      "text/plain": [
       "   Unnamed: 0                                                url  \\\n",
       "0           0  https://www.metacritic.com/music/the-order-of-...   \n",
       "1           1  https://www.metacritic.com/music/an-overview-o...   \n",
       "2           2  https://www.metacritic.com/music/platinum/mira...   \n",
       "3           3  https://www.metacritic.com/music/the-meadowlan...   \n",
       "4           4         https://www.metacritic.com/music/play/moby   \n",
       "\n",
       "                              title             artist Date_Published  \\\n",
       "0                the  order of time       valerie june   Mar 10, 2017   \n",
       "1  an overview on phenomenal nature  cassandra jenkins   Feb 19, 2021   \n",
       "2                          platinum    miranda lambert   Jun  3, 2014   \n",
       "3                   the meadowlands          the wrens   Sep  9, 2003   \n",
       "4                              play               moby   Jun  1, 1999   \n",
       "\n",
       "   Meta_Score User_Score       Genre  year  \n",
       "0        89.0        7.9    Pop/Rock  2017  \n",
       "1        87.0        7.9    Pop/Rock  2021  \n",
       "2        86.0        8.1     Country  2014  \n",
       "3        85.0        8.9       Indie  2003  \n",
       "4        84.0        8.8  Electronic  1999  "
      ],
      "text/html": "<div>\n<style scoped>\n    .dataframe tbody tr th:only-of-type {\n        vertical-align: middle;\n    }\n\n    .dataframe tbody tr th {\n        vertical-align: top;\n    }\n\n    .dataframe thead th {\n        text-align: right;\n    }\n</style>\n<table border=\"1\" class=\"dataframe\">\n  <thead>\n    <tr style=\"text-align: right;\">\n      <th></th>\n      <th>Unnamed: 0</th>\n      <th>url</th>\n      <th>title</th>\n      <th>artist</th>\n      <th>Date_Published</th>\n      <th>Meta_Score</th>\n      <th>User_Score</th>\n      <th>Genre</th>\n      <th>year</th>\n    </tr>\n  </thead>\n  <tbody>\n    <tr>\n      <th>0</th>\n      <td>0</td>\n      <td>https://www.metacritic.com/music/the-order-of-...</td>\n      <td>the  order of time</td>\n      <td>valerie june</td>\n      <td>Mar 10, 2017</td>\n      <td>89.0</td>\n      <td>7.9</td>\n      <td>Pop/Rock</td>\n      <td>2017</td>\n    </tr>\n    <tr>\n      <th>1</th>\n      <td>1</td>\n      <td>https://www.metacritic.com/music/an-overview-o...</td>\n      <td>an overview on phenomenal nature</td>\n      <td>cassandra jenkins</td>\n      <td>Feb 19, 2021</td>\n      <td>87.0</td>\n      <td>7.9</td>\n      <td>Pop/Rock</td>\n      <td>2021</td>\n    </tr>\n    <tr>\n      <th>2</th>\n      <td>2</td>\n      <td>https://www.metacritic.com/music/platinum/mira...</td>\n      <td>platinum</td>\n      <td>miranda lambert</td>\n      <td>Jun  3, 2014</td>\n      <td>86.0</td>\n      <td>8.1</td>\n      <td>Country</td>\n      <td>2014</td>\n    </tr>\n    <tr>\n      <th>3</th>\n      <td>3</td>\n      <td>https://www.metacritic.com/music/the-meadowlan...</td>\n      <td>the meadowlands</td>\n      <td>the wrens</td>\n      <td>Sep  9, 2003</td>\n      <td>85.0</td>\n      <td>8.9</td>\n      <td>Indie</td>\n      <td>2003</td>\n    </tr>\n    <tr>\n      <th>4</th>\n      <td>4</td>\n      <td>https://www.metacritic.com/music/play/moby</td>\n      <td>play</td>\n      <td>moby</td>\n      <td>Jun  1, 1999</td>\n      <td>84.0</td>\n      <td>8.8</td>\n      <td>Electronic</td>\n      <td>1999</td>\n    </tr>\n  </tbody>\n</table>\n</div>"
     },
     "metadata": {},
     "execution_count": 6
    }
   ],
   "source": [
    "#removing 2 nan values and changing column to int\n",
    "metacritic['year'] = metacritic['year'].fillna(0).astype(int)\n",
    "metacritic.head()\n"
   ]
  },
  {
   "cell_type": "code",
   "execution_count": 7,
   "metadata": {},
   "outputs": [
    {
     "output_type": "execute_result",
     "data": {
      "text/plain": [
       "   Unnamed: 0                                                url  \\\n",
       "0           0  https://www.metacritic.com/music/the-order-of-...   \n",
       "1           1  https://www.metacritic.com/music/an-overview-o...   \n",
       "2           2  https://www.metacritic.com/music/platinum/mira...   \n",
       "3           3  https://www.metacritic.com/music/the-meadowlan...   \n",
       "4           4         https://www.metacritic.com/music/play/moby   \n",
       "\n",
       "                              title             artist Date_Published  \\\n",
       "0                the  order of time       valerie june   Mar 10, 2017   \n",
       "1  an overview on phenomenal nature  cassandra jenkins   Feb 19, 2021   \n",
       "2                          platinum    miranda lambert   Jun  3, 2014   \n",
       "3                   the meadowlands          the wrens   Sep  9, 2003   \n",
       "4                              play               moby   Jun  1, 1999   \n",
       "\n",
       "   Meta_Score User_Score       Genre  year   critic_volume  \n",
       "0        89.0        7.9    Pop/Rock  2017            10.0  \n",
       "1        87.0        7.9    Pop/Rock  2021             9.0  \n",
       "2        86.0        8.1     Country  2014            11.0  \n",
       "3        85.0        8.9       Indie  2003            12.0  \n",
       "4        84.0        8.8  Electronic  1999            20.0  "
      ],
      "text/html": "<div>\n<style scoped>\n    .dataframe tbody tr th:only-of-type {\n        vertical-align: middle;\n    }\n\n    .dataframe tbody tr th {\n        vertical-align: top;\n    }\n\n    .dataframe thead th {\n        text-align: right;\n    }\n</style>\n<table border=\"1\" class=\"dataframe\">\n  <thead>\n    <tr style=\"text-align: right;\">\n      <th></th>\n      <th>Unnamed: 0</th>\n      <th>url</th>\n      <th>title</th>\n      <th>artist</th>\n      <th>Date_Published</th>\n      <th>Meta_Score</th>\n      <th>User_Score</th>\n      <th>Genre</th>\n      <th>year</th>\n      <th>critic_volume</th>\n    </tr>\n  </thead>\n  <tbody>\n    <tr>\n      <th>0</th>\n      <td>0</td>\n      <td>https://www.metacritic.com/music/the-order-of-...</td>\n      <td>the  order of time</td>\n      <td>valerie june</td>\n      <td>Mar 10, 2017</td>\n      <td>89.0</td>\n      <td>7.9</td>\n      <td>Pop/Rock</td>\n      <td>2017</td>\n      <td>10.0</td>\n    </tr>\n    <tr>\n      <th>1</th>\n      <td>1</td>\n      <td>https://www.metacritic.com/music/an-overview-o...</td>\n      <td>an overview on phenomenal nature</td>\n      <td>cassandra jenkins</td>\n      <td>Feb 19, 2021</td>\n      <td>87.0</td>\n      <td>7.9</td>\n      <td>Pop/Rock</td>\n      <td>2021</td>\n      <td>9.0</td>\n    </tr>\n    <tr>\n      <th>2</th>\n      <td>2</td>\n      <td>https://www.metacritic.com/music/platinum/mira...</td>\n      <td>platinum</td>\n      <td>miranda lambert</td>\n      <td>Jun  3, 2014</td>\n      <td>86.0</td>\n      <td>8.1</td>\n      <td>Country</td>\n      <td>2014</td>\n      <td>11.0</td>\n    </tr>\n    <tr>\n      <th>3</th>\n      <td>3</td>\n      <td>https://www.metacritic.com/music/the-meadowlan...</td>\n      <td>the meadowlands</td>\n      <td>the wrens</td>\n      <td>Sep  9, 2003</td>\n      <td>85.0</td>\n      <td>8.9</td>\n      <td>Indie</td>\n      <td>2003</td>\n      <td>12.0</td>\n    </tr>\n    <tr>\n      <th>4</th>\n      <td>4</td>\n      <td>https://www.metacritic.com/music/play/moby</td>\n      <td>play</td>\n      <td>moby</td>\n      <td>Jun  1, 1999</td>\n      <td>84.0</td>\n      <td>8.8</td>\n      <td>Electronic</td>\n      <td>1999</td>\n      <td>20.0</td>\n    </tr>\n  </tbody>\n</table>\n</div>"
     },
     "metadata": {},
     "execution_count": 7
    }
   ],
   "source": [
    "#merge first files\n",
    "merge1 = pd.merge(metacritic, criticvolume, on='url', how='left')\n",
    "merge1.head()"
   ]
  },
  {
   "cell_type": "code",
   "execution_count": 8,
   "metadata": {},
   "outputs": [],
   "source": [
    "#Load critic sentiment\n",
    "criticsentiment = pd.read_csv(r'C:\\Users\\koenm\\OneDrive\\Bureaublad\\Thesis\\Metacritic_thesis\\5. files_to_merge\\input\\Resultcriticsentiment.csv', delimiter=\";\")"
   ]
  },
  {
   "cell_type": "code",
   "execution_count": 9,
   "metadata": {},
   "outputs": [
    {
     "output_type": "execute_result",
     "data": {
      "text/plain": [
       "   Unnamed: 0                                                url  \\\n",
       "0           0  https://www.metacritic.com/music/the-order-of-...   \n",
       "1           1  https://www.metacritic.com/music/an-overview-o...   \n",
       "2           2  https://www.metacritic.com/music/platinum/mira...   \n",
       "3           3  https://www.metacritic.com/music/the-meadowlan...   \n",
       "4           4         https://www.metacritic.com/music/play/moby   \n",
       "\n",
       "                              title             artist Date_Published  \\\n",
       "0                the  order of time       valerie june   Mar 10, 2017   \n",
       "1  an overview on phenomenal nature  cassandra jenkins   Feb 19, 2021   \n",
       "2                          platinum    miranda lambert   Jun  3, 2014   \n",
       "3                   the meadowlands          the wrens   Sep  9, 2003   \n",
       "4                              play               moby   Jun  1, 1999   \n",
       "\n",
       "   Meta_Score User_Score       Genre  year   critic_volume  \\\n",
       "0        89.0        7.9    Pop/Rock  2017            10.0   \n",
       "1        87.0        7.9    Pop/Rock  2021             9.0   \n",
       "2        86.0        8.1     Country  2014            11.0   \n",
       "3        85.0        8.9       Indie  2003            12.0   \n",
       "4        84.0        8.8  Electronic  1999            20.0   \n",
       "\n",
       "   crtic_sum_containword  critic_TotalNegative  critic_TotalPositive  \\\n",
       "0                  -21.0                  32.0                  23.0   \n",
       "1                   16.0                  25.0                  36.0   \n",
       "2                    8.0                  26.0                  35.0   \n",
       "3                  -18.0                  30.0                  26.0   \n",
       "4                   -2.0                  38.0                  45.0   \n",
       "\n",
       "  critic_StdDev_ContainWord  \n",
       "0                  9,73E+12  \n",
       "1         0.110936631193925  \n",
       "2                  9,56E+12  \n",
       "3                  9,26E+12  \n",
       "4                  8,59E+12  "
      ],
      "text/html": "<div>\n<style scoped>\n    .dataframe tbody tr th:only-of-type {\n        vertical-align: middle;\n    }\n\n    .dataframe tbody tr th {\n        vertical-align: top;\n    }\n\n    .dataframe thead th {\n        text-align: right;\n    }\n</style>\n<table border=\"1\" class=\"dataframe\">\n  <thead>\n    <tr style=\"text-align: right;\">\n      <th></th>\n      <th>Unnamed: 0</th>\n      <th>url</th>\n      <th>title</th>\n      <th>artist</th>\n      <th>Date_Published</th>\n      <th>Meta_Score</th>\n      <th>User_Score</th>\n      <th>Genre</th>\n      <th>year</th>\n      <th>critic_volume</th>\n      <th>crtic_sum_containword</th>\n      <th>critic_TotalNegative</th>\n      <th>critic_TotalPositive</th>\n      <th>critic_StdDev_ContainWord</th>\n    </tr>\n  </thead>\n  <tbody>\n    <tr>\n      <th>0</th>\n      <td>0</td>\n      <td>https://www.metacritic.com/music/the-order-of-...</td>\n      <td>the  order of time</td>\n      <td>valerie june</td>\n      <td>Mar 10, 2017</td>\n      <td>89.0</td>\n      <td>7.9</td>\n      <td>Pop/Rock</td>\n      <td>2017</td>\n      <td>10.0</td>\n      <td>-21.0</td>\n      <td>32.0</td>\n      <td>23.0</td>\n      <td>9,73E+12</td>\n    </tr>\n    <tr>\n      <th>1</th>\n      <td>1</td>\n      <td>https://www.metacritic.com/music/an-overview-o...</td>\n      <td>an overview on phenomenal nature</td>\n      <td>cassandra jenkins</td>\n      <td>Feb 19, 2021</td>\n      <td>87.0</td>\n      <td>7.9</td>\n      <td>Pop/Rock</td>\n      <td>2021</td>\n      <td>9.0</td>\n      <td>16.0</td>\n      <td>25.0</td>\n      <td>36.0</td>\n      <td>0.110936631193925</td>\n    </tr>\n    <tr>\n      <th>2</th>\n      <td>2</td>\n      <td>https://www.metacritic.com/music/platinum/mira...</td>\n      <td>platinum</td>\n      <td>miranda lambert</td>\n      <td>Jun  3, 2014</td>\n      <td>86.0</td>\n      <td>8.1</td>\n      <td>Country</td>\n      <td>2014</td>\n      <td>11.0</td>\n      <td>8.0</td>\n      <td>26.0</td>\n      <td>35.0</td>\n      <td>9,56E+12</td>\n    </tr>\n    <tr>\n      <th>3</th>\n      <td>3</td>\n      <td>https://www.metacritic.com/music/the-meadowlan...</td>\n      <td>the meadowlands</td>\n      <td>the wrens</td>\n      <td>Sep  9, 2003</td>\n      <td>85.0</td>\n      <td>8.9</td>\n      <td>Indie</td>\n      <td>2003</td>\n      <td>12.0</td>\n      <td>-18.0</td>\n      <td>30.0</td>\n      <td>26.0</td>\n      <td>9,26E+12</td>\n    </tr>\n    <tr>\n      <th>4</th>\n      <td>4</td>\n      <td>https://www.metacritic.com/music/play/moby</td>\n      <td>play</td>\n      <td>moby</td>\n      <td>Jun  1, 1999</td>\n      <td>84.0</td>\n      <td>8.8</td>\n      <td>Electronic</td>\n      <td>1999</td>\n      <td>20.0</td>\n      <td>-2.0</td>\n      <td>38.0</td>\n      <td>45.0</td>\n      <td>8,59E+12</td>\n    </tr>\n  </tbody>\n</table>\n</div>"
     },
     "metadata": {},
     "execution_count": 9
    }
   ],
   "source": [
    "#merge critic sentiment\n",
    "merge2 = pd.merge(merge1, criticsentiment, on='url', how='left')\n",
    "merge2.head()"
   ]
  },
  {
   "cell_type": "code",
   "execution_count": 10,
   "metadata": {},
   "outputs": [],
   "source": [
    "#load critic LDA\n",
    "criticlda = pd.read_csv(r'C:\\Users\\koenm\\OneDrive\\Bureaublad\\Thesis\\Metacritic_thesis\\5. files_to_merge\\input\\criticreviewcorrectldaoutput.csv')"
   ]
  },
  {
   "cell_type": "code",
   "execution_count": 11,
   "metadata": {},
   "outputs": [
    {
     "output_type": "execute_result",
     "data": {
      "text/plain": [
       "   Unnamed: 0                                                url  \\\n",
       "0           0  https://www.metacritic.com/music/the-order-of-...   \n",
       "1           1  https://www.metacritic.com/music/an-overview-o...   \n",
       "2           2  https://www.metacritic.com/music/platinum/mira...   \n",
       "3           3  https://www.metacritic.com/music/the-meadowlan...   \n",
       "4           4         https://www.metacritic.com/music/play/moby   \n",
       "\n",
       "                              title             artist Date_Published  \\\n",
       "0                the  order of time       valerie june   Mar 10, 2017   \n",
       "1  an overview on phenomenal nature  cassandra jenkins   Feb 19, 2021   \n",
       "2                          platinum    miranda lambert   Jun  3, 2014   \n",
       "3                   the meadowlands          the wrens   Sep  9, 2003   \n",
       "4                              play               moby   Jun  1, 1999   \n",
       "\n",
       "   Meta_Score User_Score       Genre  year   critic_volume  \\\n",
       "0        89.0        7.9    Pop/Rock  2017            10.0   \n",
       "1        87.0        7.9    Pop/Rock  2021             9.0   \n",
       "2        86.0        8.1     Country  2014            11.0   \n",
       "3        85.0        8.9       Indie  2003            12.0   \n",
       "4        84.0        8.8  Electronic  1999            20.0   \n",
       "\n",
       "   crtic_sum_containword  critic_TotalNegative  critic_TotalPositive  \\\n",
       "0                  -21.0                  32.0                  23.0   \n",
       "1                   16.0                  25.0                  36.0   \n",
       "2                    8.0                  26.0                  35.0   \n",
       "3                  -18.0                  30.0                  26.0   \n",
       "4                   -2.0                  38.0                  45.0   \n",
       "\n",
       "  critic_StdDev_ContainWord  Sum_critic_topic1_album  Sum_critic_topic2_music  \\\n",
       "0                  9,73E+12                    0.073                    0.065   \n",
       "1         0.110936631193925                    0.092                    0.061   \n",
       "2                  9,56E+12                    0.132                    0.094   \n",
       "3                  9,26E+12                    0.058                    0.076   \n",
       "4                  8,59E+12                    0.091                    0.134   \n",
       "\n",
       "   Sum_critic_topic3_individualtracks  \n",
       "0                               0.105  \n",
       "1                               0.082  \n",
       "2                               0.129  \n",
       "3                               0.072  \n",
       "4                               0.107  "
      ],
      "text/html": "<div>\n<style scoped>\n    .dataframe tbody tr th:only-of-type {\n        vertical-align: middle;\n    }\n\n    .dataframe tbody tr th {\n        vertical-align: top;\n    }\n\n    .dataframe thead th {\n        text-align: right;\n    }\n</style>\n<table border=\"1\" class=\"dataframe\">\n  <thead>\n    <tr style=\"text-align: right;\">\n      <th></th>\n      <th>Unnamed: 0</th>\n      <th>url</th>\n      <th>title</th>\n      <th>artist</th>\n      <th>Date_Published</th>\n      <th>Meta_Score</th>\n      <th>User_Score</th>\n      <th>Genre</th>\n      <th>year</th>\n      <th>critic_volume</th>\n      <th>crtic_sum_containword</th>\n      <th>critic_TotalNegative</th>\n      <th>critic_TotalPositive</th>\n      <th>critic_StdDev_ContainWord</th>\n      <th>Sum_critic_topic1_album</th>\n      <th>Sum_critic_topic2_music</th>\n      <th>Sum_critic_topic3_individualtracks</th>\n    </tr>\n  </thead>\n  <tbody>\n    <tr>\n      <th>0</th>\n      <td>0</td>\n      <td>https://www.metacritic.com/music/the-order-of-...</td>\n      <td>the  order of time</td>\n      <td>valerie june</td>\n      <td>Mar 10, 2017</td>\n      <td>89.0</td>\n      <td>7.9</td>\n      <td>Pop/Rock</td>\n      <td>2017</td>\n      <td>10.0</td>\n      <td>-21.0</td>\n      <td>32.0</td>\n      <td>23.0</td>\n      <td>9,73E+12</td>\n      <td>0.073</td>\n      <td>0.065</td>\n      <td>0.105</td>\n    </tr>\n    <tr>\n      <th>1</th>\n      <td>1</td>\n      <td>https://www.metacritic.com/music/an-overview-o...</td>\n      <td>an overview on phenomenal nature</td>\n      <td>cassandra jenkins</td>\n      <td>Feb 19, 2021</td>\n      <td>87.0</td>\n      <td>7.9</td>\n      <td>Pop/Rock</td>\n      <td>2021</td>\n      <td>9.0</td>\n      <td>16.0</td>\n      <td>25.0</td>\n      <td>36.0</td>\n      <td>0.110936631193925</td>\n      <td>0.092</td>\n      <td>0.061</td>\n      <td>0.082</td>\n    </tr>\n    <tr>\n      <th>2</th>\n      <td>2</td>\n      <td>https://www.metacritic.com/music/platinum/mira...</td>\n      <td>platinum</td>\n      <td>miranda lambert</td>\n      <td>Jun  3, 2014</td>\n      <td>86.0</td>\n      <td>8.1</td>\n      <td>Country</td>\n      <td>2014</td>\n      <td>11.0</td>\n      <td>8.0</td>\n      <td>26.0</td>\n      <td>35.0</td>\n      <td>9,56E+12</td>\n      <td>0.132</td>\n      <td>0.094</td>\n      <td>0.129</td>\n    </tr>\n    <tr>\n      <th>3</th>\n      <td>3</td>\n      <td>https://www.metacritic.com/music/the-meadowlan...</td>\n      <td>the meadowlands</td>\n      <td>the wrens</td>\n      <td>Sep  9, 2003</td>\n      <td>85.0</td>\n      <td>8.9</td>\n      <td>Indie</td>\n      <td>2003</td>\n      <td>12.0</td>\n      <td>-18.0</td>\n      <td>30.0</td>\n      <td>26.0</td>\n      <td>9,26E+12</td>\n      <td>0.058</td>\n      <td>0.076</td>\n      <td>0.072</td>\n    </tr>\n    <tr>\n      <th>4</th>\n      <td>4</td>\n      <td>https://www.metacritic.com/music/play/moby</td>\n      <td>play</td>\n      <td>moby</td>\n      <td>Jun  1, 1999</td>\n      <td>84.0</td>\n      <td>8.8</td>\n      <td>Electronic</td>\n      <td>1999</td>\n      <td>20.0</td>\n      <td>-2.0</td>\n      <td>38.0</td>\n      <td>45.0</td>\n      <td>8,59E+12</td>\n      <td>0.091</td>\n      <td>0.134</td>\n      <td>0.107</td>\n    </tr>\n  </tbody>\n</table>\n</div>"
     },
     "metadata": {},
     "execution_count": 11
    }
   ],
   "source": [
    "#merge critic lda\n",
    "merge3 = pd.merge(merge2, criticlda, on='url', how='left')\n",
    "merge3.head()"
   ]
  },
  {
   "cell_type": "code",
   "execution_count": 12,
   "metadata": {},
   "outputs": [],
   "source": [
    "#load user volume\n",
    "uservolume = pd.read_csv(r'C:\\Users\\koenm\\OneDrive\\Bureaublad\\Thesis\\Metacritic_thesis\\3 review_volume\\review_volume_output\\uservolume.csv', delimiter=\",\")"
   ]
  },
  {
   "cell_type": "code",
   "execution_count": 13,
   "metadata": {},
   "outputs": [
    {
     "output_type": "execute_result",
     "data": {
      "text/plain": [
       "   Unnamed: 0                                                url  \\\n",
       "0           0  https://www.metacritic.com/music/the-order-of-...   \n",
       "1           1  https://www.metacritic.com/music/an-overview-o...   \n",
       "2           2  https://www.metacritic.com/music/platinum/mira...   \n",
       "3           3  https://www.metacritic.com/music/the-meadowlan...   \n",
       "4           4         https://www.metacritic.com/music/play/moby   \n",
       "\n",
       "                              title             artist Date_Published  \\\n",
       "0                the  order of time       valerie june   Mar 10, 2017   \n",
       "1  an overview on phenomenal nature  cassandra jenkins   Feb 19, 2021   \n",
       "2                          platinum    miranda lambert   Jun  3, 2014   \n",
       "3                   the meadowlands          the wrens   Sep  9, 2003   \n",
       "4                              play               moby   Jun  1, 1999   \n",
       "\n",
       "   Meta_Score User_Score       Genre  year   critic_volume  \\\n",
       "0        89.0        7.9    Pop/Rock  2017            10.0   \n",
       "1        87.0        7.9    Pop/Rock  2021             9.0   \n",
       "2        86.0        8.1     Country  2014            11.0   \n",
       "3        85.0        8.9       Indie  2003            12.0   \n",
       "4        84.0        8.8  Electronic  1999            20.0   \n",
       "\n",
       "   crtic_sum_containword  critic_TotalNegative  critic_TotalPositive  \\\n",
       "0                  -21.0                  32.0                  23.0   \n",
       "1                   16.0                  25.0                  36.0   \n",
       "2                    8.0                  26.0                  35.0   \n",
       "3                  -18.0                  30.0                  26.0   \n",
       "4                   -2.0                  38.0                  45.0   \n",
       "\n",
       "  critic_StdDev_ContainWord  Sum_critic_topic1_album  Sum_critic_topic2_music  \\\n",
       "0                  9,73E+12                    0.073                    0.065   \n",
       "1         0.110936631193925                    0.092                    0.061   \n",
       "2                  9,56E+12                    0.132                    0.094   \n",
       "3                  9,26E+12                    0.058                    0.076   \n",
       "4                  8,59E+12                    0.091                    0.134   \n",
       "\n",
       "   Sum_critic_topic3_individualtracks  user_volume  \n",
       "0                               0.105          5.0  \n",
       "1                               0.082          7.0  \n",
       "2                               0.129         10.0  \n",
       "3                               0.072         62.0  \n",
       "4                               0.107         19.0  "
      ],
      "text/html": "<div>\n<style scoped>\n    .dataframe tbody tr th:only-of-type {\n        vertical-align: middle;\n    }\n\n    .dataframe tbody tr th {\n        vertical-align: top;\n    }\n\n    .dataframe thead th {\n        text-align: right;\n    }\n</style>\n<table border=\"1\" class=\"dataframe\">\n  <thead>\n    <tr style=\"text-align: right;\">\n      <th></th>\n      <th>Unnamed: 0</th>\n      <th>url</th>\n      <th>title</th>\n      <th>artist</th>\n      <th>Date_Published</th>\n      <th>Meta_Score</th>\n      <th>User_Score</th>\n      <th>Genre</th>\n      <th>year</th>\n      <th>critic_volume</th>\n      <th>crtic_sum_containword</th>\n      <th>critic_TotalNegative</th>\n      <th>critic_TotalPositive</th>\n      <th>critic_StdDev_ContainWord</th>\n      <th>Sum_critic_topic1_album</th>\n      <th>Sum_critic_topic2_music</th>\n      <th>Sum_critic_topic3_individualtracks</th>\n      <th>user_volume</th>\n    </tr>\n  </thead>\n  <tbody>\n    <tr>\n      <th>0</th>\n      <td>0</td>\n      <td>https://www.metacritic.com/music/the-order-of-...</td>\n      <td>the  order of time</td>\n      <td>valerie june</td>\n      <td>Mar 10, 2017</td>\n      <td>89.0</td>\n      <td>7.9</td>\n      <td>Pop/Rock</td>\n      <td>2017</td>\n      <td>10.0</td>\n      <td>-21.0</td>\n      <td>32.0</td>\n      <td>23.0</td>\n      <td>9,73E+12</td>\n      <td>0.073</td>\n      <td>0.065</td>\n      <td>0.105</td>\n      <td>5.0</td>\n    </tr>\n    <tr>\n      <th>1</th>\n      <td>1</td>\n      <td>https://www.metacritic.com/music/an-overview-o...</td>\n      <td>an overview on phenomenal nature</td>\n      <td>cassandra jenkins</td>\n      <td>Feb 19, 2021</td>\n      <td>87.0</td>\n      <td>7.9</td>\n      <td>Pop/Rock</td>\n      <td>2021</td>\n      <td>9.0</td>\n      <td>16.0</td>\n      <td>25.0</td>\n      <td>36.0</td>\n      <td>0.110936631193925</td>\n      <td>0.092</td>\n      <td>0.061</td>\n      <td>0.082</td>\n      <td>7.0</td>\n    </tr>\n    <tr>\n      <th>2</th>\n      <td>2</td>\n      <td>https://www.metacritic.com/music/platinum/mira...</td>\n      <td>platinum</td>\n      <td>miranda lambert</td>\n      <td>Jun  3, 2014</td>\n      <td>86.0</td>\n      <td>8.1</td>\n      <td>Country</td>\n      <td>2014</td>\n      <td>11.0</td>\n      <td>8.0</td>\n      <td>26.0</td>\n      <td>35.0</td>\n      <td>9,56E+12</td>\n      <td>0.132</td>\n      <td>0.094</td>\n      <td>0.129</td>\n      <td>10.0</td>\n    </tr>\n    <tr>\n      <th>3</th>\n      <td>3</td>\n      <td>https://www.metacritic.com/music/the-meadowlan...</td>\n      <td>the meadowlands</td>\n      <td>the wrens</td>\n      <td>Sep  9, 2003</td>\n      <td>85.0</td>\n      <td>8.9</td>\n      <td>Indie</td>\n      <td>2003</td>\n      <td>12.0</td>\n      <td>-18.0</td>\n      <td>30.0</td>\n      <td>26.0</td>\n      <td>9,26E+12</td>\n      <td>0.058</td>\n      <td>0.076</td>\n      <td>0.072</td>\n      <td>62.0</td>\n    </tr>\n    <tr>\n      <th>4</th>\n      <td>4</td>\n      <td>https://www.metacritic.com/music/play/moby</td>\n      <td>play</td>\n      <td>moby</td>\n      <td>Jun  1, 1999</td>\n      <td>84.0</td>\n      <td>8.8</td>\n      <td>Electronic</td>\n      <td>1999</td>\n      <td>20.0</td>\n      <td>-2.0</td>\n      <td>38.0</td>\n      <td>45.0</td>\n      <td>8,59E+12</td>\n      <td>0.091</td>\n      <td>0.134</td>\n      <td>0.107</td>\n      <td>19.0</td>\n    </tr>\n  </tbody>\n</table>\n</div>"
     },
     "metadata": {},
     "execution_count": 13
    }
   ],
   "source": [
    "#merge user volume\n",
    "merge4 = pd.merge(merge3, uservolume, on='url', how='left')\n",
    "merge4.head()"
   ]
  },
  {
   "cell_type": "code",
   "execution_count": 14,
   "metadata": {},
   "outputs": [],
   "source": [
    "#load user sentiment\n",
    "usersentiment = pd.read_csv(r'C:\\Users\\koenm\\OneDrive\\Bureaublad\\Thesis\\Metacritic_thesis\\5. files_to_merge\\input\\Resultusersentiment.csv')"
   ]
  },
  {
   "cell_type": "code",
   "execution_count": 15,
   "metadata": {},
   "outputs": [
    {
     "output_type": "execute_result",
     "data": {
      "text/plain": [
       "   Unnamed: 0                                                url  \\\n",
       "0           0  https://www.metacritic.com/music/the-order-of-...   \n",
       "1           1  https://www.metacritic.com/music/an-overview-o...   \n",
       "2           2  https://www.metacritic.com/music/platinum/mira...   \n",
       "3           3  https://www.metacritic.com/music/the-meadowlan...   \n",
       "4           4         https://www.metacritic.com/music/play/moby   \n",
       "\n",
       "                              title             artist Date_Published  \\\n",
       "0                the  order of time       valerie june   Mar 10, 2017   \n",
       "1  an overview on phenomenal nature  cassandra jenkins   Feb 19, 2021   \n",
       "2                          platinum    miranda lambert   Jun  3, 2014   \n",
       "3                   the meadowlands          the wrens   Sep  9, 2003   \n",
       "4                              play               moby   Jun  1, 1999   \n",
       "\n",
       "   Meta_Score User_Score       Genre  year   critic_volume  ...  \\\n",
       "0        89.0        7.9    Pop/Rock  2017            10.0  ...   \n",
       "1        87.0        7.9    Pop/Rock  2021             9.0  ...   \n",
       "2        86.0        8.1     Country  2014            11.0  ...   \n",
       "3        85.0        8.9       Indie  2003            12.0  ...   \n",
       "4        84.0        8.8  Electronic  1999            20.0  ...   \n",
       "\n",
       "   critic_TotalPositive  critic_StdDev_ContainWord  Sum_critic_topic1_album  \\\n",
       "0                  23.0                   9,73E+12                    0.073   \n",
       "1                  36.0          0.110936631193925                    0.092   \n",
       "2                  35.0                   9,56E+12                    0.132   \n",
       "3                  26.0                   9,26E+12                    0.058   \n",
       "4                  45.0                   8,59E+12                    0.091   \n",
       "\n",
       "  Sum_critic_topic2_music  Sum_critic_topic3_individualtracks  user_volume  \\\n",
       "0                   0.065                               0.105          5.0   \n",
       "1                   0.061                               0.082          7.0   \n",
       "2                   0.094                               0.129         10.0   \n",
       "3                   0.076                               0.072         62.0   \n",
       "4                   0.134                               0.107         19.0   \n",
       "\n",
       "   user_sum_containword  user_totalnegative  user_totalpositive  \\\n",
       "0                   2.0                20.0                21.0   \n",
       "1                  12.0                20.0                25.0   \n",
       "2                 -19.0                42.0                34.0   \n",
       "3                 106.0               145.0               199.0   \n",
       "4                 -45.0                75.0                62.0   \n",
       "\n",
       "   user_StdDev_containword  \n",
       "0                 0.129661  \n",
       "1                 0.109067  \n",
       "2                 0.126124  \n",
       "3                 0.105770  \n",
       "4                 0.110154  \n",
       "\n",
       "[5 rows x 22 columns]"
      ],
      "text/html": "<div>\n<style scoped>\n    .dataframe tbody tr th:only-of-type {\n        vertical-align: middle;\n    }\n\n    .dataframe tbody tr th {\n        vertical-align: top;\n    }\n\n    .dataframe thead th {\n        text-align: right;\n    }\n</style>\n<table border=\"1\" class=\"dataframe\">\n  <thead>\n    <tr style=\"text-align: right;\">\n      <th></th>\n      <th>Unnamed: 0</th>\n      <th>url</th>\n      <th>title</th>\n      <th>artist</th>\n      <th>Date_Published</th>\n      <th>Meta_Score</th>\n      <th>User_Score</th>\n      <th>Genre</th>\n      <th>year</th>\n      <th>critic_volume</th>\n      <th>...</th>\n      <th>critic_TotalPositive</th>\n      <th>critic_StdDev_ContainWord</th>\n      <th>Sum_critic_topic1_album</th>\n      <th>Sum_critic_topic2_music</th>\n      <th>Sum_critic_topic3_individualtracks</th>\n      <th>user_volume</th>\n      <th>user_sum_containword</th>\n      <th>user_totalnegative</th>\n      <th>user_totalpositive</th>\n      <th>user_StdDev_containword</th>\n    </tr>\n  </thead>\n  <tbody>\n    <tr>\n      <th>0</th>\n      <td>0</td>\n      <td>https://www.metacritic.com/music/the-order-of-...</td>\n      <td>the  order of time</td>\n      <td>valerie june</td>\n      <td>Mar 10, 2017</td>\n      <td>89.0</td>\n      <td>7.9</td>\n      <td>Pop/Rock</td>\n      <td>2017</td>\n      <td>10.0</td>\n      <td>...</td>\n      <td>23.0</td>\n      <td>9,73E+12</td>\n      <td>0.073</td>\n      <td>0.065</td>\n      <td>0.105</td>\n      <td>5.0</td>\n      <td>2.0</td>\n      <td>20.0</td>\n      <td>21.0</td>\n      <td>0.129661</td>\n    </tr>\n    <tr>\n      <th>1</th>\n      <td>1</td>\n      <td>https://www.metacritic.com/music/an-overview-o...</td>\n      <td>an overview on phenomenal nature</td>\n      <td>cassandra jenkins</td>\n      <td>Feb 19, 2021</td>\n      <td>87.0</td>\n      <td>7.9</td>\n      <td>Pop/Rock</td>\n      <td>2021</td>\n      <td>9.0</td>\n      <td>...</td>\n      <td>36.0</td>\n      <td>0.110936631193925</td>\n      <td>0.092</td>\n      <td>0.061</td>\n      <td>0.082</td>\n      <td>7.0</td>\n      <td>12.0</td>\n      <td>20.0</td>\n      <td>25.0</td>\n      <td>0.109067</td>\n    </tr>\n    <tr>\n      <th>2</th>\n      <td>2</td>\n      <td>https://www.metacritic.com/music/platinum/mira...</td>\n      <td>platinum</td>\n      <td>miranda lambert</td>\n      <td>Jun  3, 2014</td>\n      <td>86.0</td>\n      <td>8.1</td>\n      <td>Country</td>\n      <td>2014</td>\n      <td>11.0</td>\n      <td>...</td>\n      <td>35.0</td>\n      <td>9,56E+12</td>\n      <td>0.132</td>\n      <td>0.094</td>\n      <td>0.129</td>\n      <td>10.0</td>\n      <td>-19.0</td>\n      <td>42.0</td>\n      <td>34.0</td>\n      <td>0.126124</td>\n    </tr>\n    <tr>\n      <th>3</th>\n      <td>3</td>\n      <td>https://www.metacritic.com/music/the-meadowlan...</td>\n      <td>the meadowlands</td>\n      <td>the wrens</td>\n      <td>Sep  9, 2003</td>\n      <td>85.0</td>\n      <td>8.9</td>\n      <td>Indie</td>\n      <td>2003</td>\n      <td>12.0</td>\n      <td>...</td>\n      <td>26.0</td>\n      <td>9,26E+12</td>\n      <td>0.058</td>\n      <td>0.076</td>\n      <td>0.072</td>\n      <td>62.0</td>\n      <td>106.0</td>\n      <td>145.0</td>\n      <td>199.0</td>\n      <td>0.105770</td>\n    </tr>\n    <tr>\n      <th>4</th>\n      <td>4</td>\n      <td>https://www.metacritic.com/music/play/moby</td>\n      <td>play</td>\n      <td>moby</td>\n      <td>Jun  1, 1999</td>\n      <td>84.0</td>\n      <td>8.8</td>\n      <td>Electronic</td>\n      <td>1999</td>\n      <td>20.0</td>\n      <td>...</td>\n      <td>45.0</td>\n      <td>8,59E+12</td>\n      <td>0.091</td>\n      <td>0.134</td>\n      <td>0.107</td>\n      <td>19.0</td>\n      <td>-45.0</td>\n      <td>75.0</td>\n      <td>62.0</td>\n      <td>0.110154</td>\n    </tr>\n  </tbody>\n</table>\n<p>5 rows × 22 columns</p>\n</div>"
     },
     "metadata": {},
     "execution_count": 15
    }
   ],
   "source": [
    "#merge user sentiment\n",
    "merge5 = pd.merge(merge4, usersentiment, on='url', how='left')\n",
    "merge5.head()"
   ]
  },
  {
   "cell_type": "code",
   "execution_count": 16,
   "metadata": {},
   "outputs": [],
   "source": [
    "#load user lda\n",
    "userlda = pd.read_csv(r'C:\\Users\\koenm\\OneDrive\\Bureaublad\\Thesis\\Metacritic_thesis\\5. files_to_merge\\input\\userreviewcorrectldaoutput.csv')"
   ]
  },
  {
   "cell_type": "code",
   "execution_count": 17,
   "metadata": {},
   "outputs": [
    {
     "output_type": "execute_result",
     "data": {
      "text/plain": [
       "   Unnamed: 0                                                url  \\\n",
       "0           0  https://www.metacritic.com/music/the-order-of-...   \n",
       "1           1  https://www.metacritic.com/music/an-overview-o...   \n",
       "2           2  https://www.metacritic.com/music/platinum/mira...   \n",
       "3           3  https://www.metacritic.com/music/the-meadowlan...   \n",
       "4           4         https://www.metacritic.com/music/play/moby   \n",
       "\n",
       "                              title             artist Date_Published  \\\n",
       "0                the  order of time       valerie june   Mar 10, 2017   \n",
       "1  an overview on phenomenal nature  cassandra jenkins   Feb 19, 2021   \n",
       "2                          platinum    miranda lambert   Jun  3, 2014   \n",
       "3                   the meadowlands          the wrens   Sep  9, 2003   \n",
       "4                              play               moby   Jun  1, 1999   \n",
       "\n",
       "   Meta_Score User_Score       Genre  year   critic_volume  ...  \\\n",
       "0        89.0        7.9    Pop/Rock  2017            10.0  ...   \n",
       "1        87.0        7.9    Pop/Rock  2021             9.0  ...   \n",
       "2        86.0        8.1     Country  2014            11.0  ...   \n",
       "3        85.0        8.9       Indie  2003            12.0  ...   \n",
       "4        84.0        8.8  Electronic  1999            20.0  ...   \n",
       "\n",
       "   Sum_critic_topic2_music  Sum_critic_topic3_individualtracks  user_volume  \\\n",
       "0                    0.065                               0.105          5.0   \n",
       "1                    0.061                               0.082          7.0   \n",
       "2                    0.094                               0.129         10.0   \n",
       "3                    0.076                               0.072         62.0   \n",
       "4                    0.134                               0.107         19.0   \n",
       "\n",
       "  user_sum_containword  user_totalnegative  user_totalpositive  \\\n",
       "0                  2.0                20.0                21.0   \n",
       "1                 12.0                20.0                25.0   \n",
       "2                -19.0                42.0                34.0   \n",
       "3                106.0               145.0               199.0   \n",
       "4                -45.0                75.0                62.0   \n",
       "\n",
       "   user_StdDev_containword  user_spoiler  user_album  user_individualtracks  \n",
       "0                 0.129661         0.127       0.321                  0.175  \n",
       "1                 0.109067         0.199       0.424                  0.274  \n",
       "2                 0.126124         0.276       0.626                  0.432  \n",
       "3                 0.105770         1.287       2.908                  1.856  \n",
       "4                 0.110154         0.483       1.078                  0.633  \n",
       "\n",
       "[5 rows x 25 columns]"
      ],
      "text/html": "<div>\n<style scoped>\n    .dataframe tbody tr th:only-of-type {\n        vertical-align: middle;\n    }\n\n    .dataframe tbody tr th {\n        vertical-align: top;\n    }\n\n    .dataframe thead th {\n        text-align: right;\n    }\n</style>\n<table border=\"1\" class=\"dataframe\">\n  <thead>\n    <tr style=\"text-align: right;\">\n      <th></th>\n      <th>Unnamed: 0</th>\n      <th>url</th>\n      <th>title</th>\n      <th>artist</th>\n      <th>Date_Published</th>\n      <th>Meta_Score</th>\n      <th>User_Score</th>\n      <th>Genre</th>\n      <th>year</th>\n      <th>critic_volume</th>\n      <th>...</th>\n      <th>Sum_critic_topic2_music</th>\n      <th>Sum_critic_topic3_individualtracks</th>\n      <th>user_volume</th>\n      <th>user_sum_containword</th>\n      <th>user_totalnegative</th>\n      <th>user_totalpositive</th>\n      <th>user_StdDev_containword</th>\n      <th>user_spoiler</th>\n      <th>user_album</th>\n      <th>user_individualtracks</th>\n    </tr>\n  </thead>\n  <tbody>\n    <tr>\n      <th>0</th>\n      <td>0</td>\n      <td>https://www.metacritic.com/music/the-order-of-...</td>\n      <td>the  order of time</td>\n      <td>valerie june</td>\n      <td>Mar 10, 2017</td>\n      <td>89.0</td>\n      <td>7.9</td>\n      <td>Pop/Rock</td>\n      <td>2017</td>\n      <td>10.0</td>\n      <td>...</td>\n      <td>0.065</td>\n      <td>0.105</td>\n      <td>5.0</td>\n      <td>2.0</td>\n      <td>20.0</td>\n      <td>21.0</td>\n      <td>0.129661</td>\n      <td>0.127</td>\n      <td>0.321</td>\n      <td>0.175</td>\n    </tr>\n    <tr>\n      <th>1</th>\n      <td>1</td>\n      <td>https://www.metacritic.com/music/an-overview-o...</td>\n      <td>an overview on phenomenal nature</td>\n      <td>cassandra jenkins</td>\n      <td>Feb 19, 2021</td>\n      <td>87.0</td>\n      <td>7.9</td>\n      <td>Pop/Rock</td>\n      <td>2021</td>\n      <td>9.0</td>\n      <td>...</td>\n      <td>0.061</td>\n      <td>0.082</td>\n      <td>7.0</td>\n      <td>12.0</td>\n      <td>20.0</td>\n      <td>25.0</td>\n      <td>0.109067</td>\n      <td>0.199</td>\n      <td>0.424</td>\n      <td>0.274</td>\n    </tr>\n    <tr>\n      <th>2</th>\n      <td>2</td>\n      <td>https://www.metacritic.com/music/platinum/mira...</td>\n      <td>platinum</td>\n      <td>miranda lambert</td>\n      <td>Jun  3, 2014</td>\n      <td>86.0</td>\n      <td>8.1</td>\n      <td>Country</td>\n      <td>2014</td>\n      <td>11.0</td>\n      <td>...</td>\n      <td>0.094</td>\n      <td>0.129</td>\n      <td>10.0</td>\n      <td>-19.0</td>\n      <td>42.0</td>\n      <td>34.0</td>\n      <td>0.126124</td>\n      <td>0.276</td>\n      <td>0.626</td>\n      <td>0.432</td>\n    </tr>\n    <tr>\n      <th>3</th>\n      <td>3</td>\n      <td>https://www.metacritic.com/music/the-meadowlan...</td>\n      <td>the meadowlands</td>\n      <td>the wrens</td>\n      <td>Sep  9, 2003</td>\n      <td>85.0</td>\n      <td>8.9</td>\n      <td>Indie</td>\n      <td>2003</td>\n      <td>12.0</td>\n      <td>...</td>\n      <td>0.076</td>\n      <td>0.072</td>\n      <td>62.0</td>\n      <td>106.0</td>\n      <td>145.0</td>\n      <td>199.0</td>\n      <td>0.105770</td>\n      <td>1.287</td>\n      <td>2.908</td>\n      <td>1.856</td>\n    </tr>\n    <tr>\n      <th>4</th>\n      <td>4</td>\n      <td>https://www.metacritic.com/music/play/moby</td>\n      <td>play</td>\n      <td>moby</td>\n      <td>Jun  1, 1999</td>\n      <td>84.0</td>\n      <td>8.8</td>\n      <td>Electronic</td>\n      <td>1999</td>\n      <td>20.0</td>\n      <td>...</td>\n      <td>0.134</td>\n      <td>0.107</td>\n      <td>19.0</td>\n      <td>-45.0</td>\n      <td>75.0</td>\n      <td>62.0</td>\n      <td>0.110154</td>\n      <td>0.483</td>\n      <td>1.078</td>\n      <td>0.633</td>\n    </tr>\n  </tbody>\n</table>\n<p>5 rows × 25 columns</p>\n</div>"
     },
     "metadata": {},
     "execution_count": 17
    }
   ],
   "source": [
    "#merge user lda\n",
    "merge6 = pd.merge(merge5, userlda, on='url', how='left')\n",
    "merge6.head()"
   ]
  },
  {
   "cell_type": "code",
   "execution_count": 18,
   "metadata": {},
   "outputs": [],
   "source": [
    "#load grammy data\n",
    "grammy = pd.read_csv(r'C:\\Users\\koenm\\OneDrive\\Bureaublad\\Thesis\\Metacritic_thesis\\5. files_to_merge\\input\\finalgrammyclean.csv')"
   ]
  },
  {
   "cell_type": "code",
   "execution_count": 19,
   "metadata": {},
   "outputs": [
    {
     "output_type": "execute_result",
     "data": {
      "text/plain": [
       "   Unnamed: 0_x                                                url  \\\n",
       "0             0  https://www.metacritic.com/music/the-order-of-...   \n",
       "1             1  https://www.metacritic.com/music/an-overview-o...   \n",
       "2             2  https://www.metacritic.com/music/platinum/mira...   \n",
       "3             3  https://www.metacritic.com/music/the-meadowlan...   \n",
       "4             4         https://www.metacritic.com/music/play/moby   \n",
       "\n",
       "                              title             artist Date_Published  \\\n",
       "0                the  order of time       valerie june   Mar 10, 2017   \n",
       "1  an overview on phenomenal nature  cassandra jenkins   Feb 19, 2021   \n",
       "2                          platinum    miranda lambert   Jun  3, 2014   \n",
       "3                   the meadowlands          the wrens   Sep  9, 2003   \n",
       "4                              play               moby   Jun  1, 1999   \n",
       "\n",
       "   Meta_Score User_Score       Genre  year   critic_volume  ...  \\\n",
       "0        89.0        7.9    Pop/Rock  2017            10.0  ...   \n",
       "1        87.0        7.9    Pop/Rock  2021             9.0  ...   \n",
       "2        86.0        8.1     Country  2014            11.0  ...   \n",
       "3        85.0        8.9       Indie  2003            12.0  ...   \n",
       "4        84.0        8.8  Electronic  1999            20.0  ...   \n",
       "\n",
       "   user_totalpositive  user_StdDev_containword  user_spoiler user_album  \\\n",
       "0                21.0                 0.129661         0.127      0.321   \n",
       "1                25.0                 0.109067         0.199      0.424   \n",
       "2                34.0                 0.126124         0.276      0.626   \n",
       "3               199.0                 0.105770         1.287      2.908   \n",
       "4                62.0                 0.110154         0.483      1.078   \n",
       "\n",
       "   user_individualtracks  Unnamed: 0_y  wins  nominated  total_previous_wins  \\\n",
       "0                  0.175           NaN   NaN        NaN                  NaN   \n",
       "1                  0.274           NaN   NaN        NaN                  NaN   \n",
       "2                  0.432          2140   1.0        1.0                  1.0   \n",
       "3                  1.856           NaN   NaN        NaN                  NaN   \n",
       "4                  0.633           NaN   NaN        NaN                  NaN   \n",
       "\n",
       "   total_previous_nomination;  \n",
       "0                         NaN  \n",
       "1                         NaN  \n",
       "2                        1.0;  \n",
       "3                         NaN  \n",
       "4                         NaN  \n",
       "\n",
       "[5 rows x 30 columns]"
      ],
      "text/html": "<div>\n<style scoped>\n    .dataframe tbody tr th:only-of-type {\n        vertical-align: middle;\n    }\n\n    .dataframe tbody tr th {\n        vertical-align: top;\n    }\n\n    .dataframe thead th {\n        text-align: right;\n    }\n</style>\n<table border=\"1\" class=\"dataframe\">\n  <thead>\n    <tr style=\"text-align: right;\">\n      <th></th>\n      <th>Unnamed: 0_x</th>\n      <th>url</th>\n      <th>title</th>\n      <th>artist</th>\n      <th>Date_Published</th>\n      <th>Meta_Score</th>\n      <th>User_Score</th>\n      <th>Genre</th>\n      <th>year</th>\n      <th>critic_volume</th>\n      <th>...</th>\n      <th>user_totalpositive</th>\n      <th>user_StdDev_containword</th>\n      <th>user_spoiler</th>\n      <th>user_album</th>\n      <th>user_individualtracks</th>\n      <th>Unnamed: 0_y</th>\n      <th>wins</th>\n      <th>nominated</th>\n      <th>total_previous_wins</th>\n      <th>total_previous_nomination;</th>\n    </tr>\n  </thead>\n  <tbody>\n    <tr>\n      <th>0</th>\n      <td>0</td>\n      <td>https://www.metacritic.com/music/the-order-of-...</td>\n      <td>the  order of time</td>\n      <td>valerie june</td>\n      <td>Mar 10, 2017</td>\n      <td>89.0</td>\n      <td>7.9</td>\n      <td>Pop/Rock</td>\n      <td>2017</td>\n      <td>10.0</td>\n      <td>...</td>\n      <td>21.0</td>\n      <td>0.129661</td>\n      <td>0.127</td>\n      <td>0.321</td>\n      <td>0.175</td>\n      <td>NaN</td>\n      <td>NaN</td>\n      <td>NaN</td>\n      <td>NaN</td>\n      <td>NaN</td>\n    </tr>\n    <tr>\n      <th>1</th>\n      <td>1</td>\n      <td>https://www.metacritic.com/music/an-overview-o...</td>\n      <td>an overview on phenomenal nature</td>\n      <td>cassandra jenkins</td>\n      <td>Feb 19, 2021</td>\n      <td>87.0</td>\n      <td>7.9</td>\n      <td>Pop/Rock</td>\n      <td>2021</td>\n      <td>9.0</td>\n      <td>...</td>\n      <td>25.0</td>\n      <td>0.109067</td>\n      <td>0.199</td>\n      <td>0.424</td>\n      <td>0.274</td>\n      <td>NaN</td>\n      <td>NaN</td>\n      <td>NaN</td>\n      <td>NaN</td>\n      <td>NaN</td>\n    </tr>\n    <tr>\n      <th>2</th>\n      <td>2</td>\n      <td>https://www.metacritic.com/music/platinum/mira...</td>\n      <td>platinum</td>\n      <td>miranda lambert</td>\n      <td>Jun  3, 2014</td>\n      <td>86.0</td>\n      <td>8.1</td>\n      <td>Country</td>\n      <td>2014</td>\n      <td>11.0</td>\n      <td>...</td>\n      <td>34.0</td>\n      <td>0.126124</td>\n      <td>0.276</td>\n      <td>0.626</td>\n      <td>0.432</td>\n      <td>2140</td>\n      <td>1.0</td>\n      <td>1.0</td>\n      <td>1.0</td>\n      <td>1.0;</td>\n    </tr>\n    <tr>\n      <th>3</th>\n      <td>3</td>\n      <td>https://www.metacritic.com/music/the-meadowlan...</td>\n      <td>the meadowlands</td>\n      <td>the wrens</td>\n      <td>Sep  9, 2003</td>\n      <td>85.0</td>\n      <td>8.9</td>\n      <td>Indie</td>\n      <td>2003</td>\n      <td>12.0</td>\n      <td>...</td>\n      <td>199.0</td>\n      <td>0.105770</td>\n      <td>1.287</td>\n      <td>2.908</td>\n      <td>1.856</td>\n      <td>NaN</td>\n      <td>NaN</td>\n      <td>NaN</td>\n      <td>NaN</td>\n      <td>NaN</td>\n    </tr>\n    <tr>\n      <th>4</th>\n      <td>4</td>\n      <td>https://www.metacritic.com/music/play/moby</td>\n      <td>play</td>\n      <td>moby</td>\n      <td>Jun  1, 1999</td>\n      <td>84.0</td>\n      <td>8.8</td>\n      <td>Electronic</td>\n      <td>1999</td>\n      <td>20.0</td>\n      <td>...</td>\n      <td>62.0</td>\n      <td>0.110154</td>\n      <td>0.483</td>\n      <td>1.078</td>\n      <td>0.633</td>\n      <td>NaN</td>\n      <td>NaN</td>\n      <td>NaN</td>\n      <td>NaN</td>\n      <td>NaN</td>\n    </tr>\n  </tbody>\n</table>\n<p>5 rows × 30 columns</p>\n</div>"
     },
     "metadata": {},
     "execution_count": 19
    }
   ],
   "source": [
    "#merge grammy data\n",
    "merge7 = pd.merge(merge6, grammy, on=['artist','year'], how='left')\n",
    "merge7.head()"
   ]
  },
  {
   "cell_type": "code",
   "execution_count": 20,
   "metadata": {},
   "outputs": [
    {
     "output_type": "execute_result",
     "data": {
      "text/plain": [
       "   Unnamed: 0_x                                                url  \\\n",
       "0             0  https://www.metacritic.com/music/the-order-of-...   \n",
       "1             1  https://www.metacritic.com/music/an-overview-o...   \n",
       "2             2  https://www.metacritic.com/music/platinum/mira...   \n",
       "3             3  https://www.metacritic.com/music/the-meadowlan...   \n",
       "4             4         https://www.metacritic.com/music/play/moby   \n",
       "\n",
       "                              title             artist Date_Published  \\\n",
       "0                the  order of time       valerie june   Mar 10, 2017   \n",
       "1  an overview on phenomenal nature  cassandra jenkins   Feb 19, 2021   \n",
       "2                          platinum    miranda lambert   Jun  3, 2014   \n",
       "3                   the meadowlands          the wrens   Sep  9, 2003   \n",
       "4                              play               moby   Jun  1, 1999   \n",
       "\n",
       "   Meta_Score User_Score       Genre  year   critic_volume  ...  \\\n",
       "0        89.0        7.9    Pop/Rock  2017            10.0  ...   \n",
       "1        87.0        7.9    Pop/Rock  2021             9.0  ...   \n",
       "2        86.0        8.1     Country  2014            11.0  ...   \n",
       "3        85.0        8.9       Indie  2003            12.0  ...   \n",
       "4        84.0        8.8  Electronic  1999            20.0  ...   \n",
       "\n",
       "   user_totalpositive  user_StdDev_containword  user_spoiler user_album  \\\n",
       "0                21.0                 0.129661         0.127      0.321   \n",
       "1                25.0                 0.109067         0.199      0.424   \n",
       "2                34.0                 0.126124         0.276      0.626   \n",
       "3               199.0                 0.105770         1.287      2.908   \n",
       "4                62.0                 0.110154         0.483      1.078   \n",
       "\n",
       "   user_individualtracks  Unnamed: 0_y  wins  nominated  total_previous_wins  \\\n",
       "0                  0.175           NaN   0.0        0.0                  0.0   \n",
       "1                  0.274           NaN   0.0        0.0                  0.0   \n",
       "2                  0.432          2140   1.0        1.0                  1.0   \n",
       "3                  1.856           NaN   0.0        0.0                  0.0   \n",
       "4                  0.633           NaN   0.0        0.0                  0.0   \n",
       "\n",
       "   total_previous_nomination;  \n",
       "0                           0  \n",
       "1                           0  \n",
       "2                        1.0;  \n",
       "3                           0  \n",
       "4                           0  \n",
       "\n",
       "[5 rows x 30 columns]"
      ],
      "text/html": "<div>\n<style scoped>\n    .dataframe tbody tr th:only-of-type {\n        vertical-align: middle;\n    }\n\n    .dataframe tbody tr th {\n        vertical-align: top;\n    }\n\n    .dataframe thead th {\n        text-align: right;\n    }\n</style>\n<table border=\"1\" class=\"dataframe\">\n  <thead>\n    <tr style=\"text-align: right;\">\n      <th></th>\n      <th>Unnamed: 0_x</th>\n      <th>url</th>\n      <th>title</th>\n      <th>artist</th>\n      <th>Date_Published</th>\n      <th>Meta_Score</th>\n      <th>User_Score</th>\n      <th>Genre</th>\n      <th>year</th>\n      <th>critic_volume</th>\n      <th>...</th>\n      <th>user_totalpositive</th>\n      <th>user_StdDev_containword</th>\n      <th>user_spoiler</th>\n      <th>user_album</th>\n      <th>user_individualtracks</th>\n      <th>Unnamed: 0_y</th>\n      <th>wins</th>\n      <th>nominated</th>\n      <th>total_previous_wins</th>\n      <th>total_previous_nomination;</th>\n    </tr>\n  </thead>\n  <tbody>\n    <tr>\n      <th>0</th>\n      <td>0</td>\n      <td>https://www.metacritic.com/music/the-order-of-...</td>\n      <td>the  order of time</td>\n      <td>valerie june</td>\n      <td>Mar 10, 2017</td>\n      <td>89.0</td>\n      <td>7.9</td>\n      <td>Pop/Rock</td>\n      <td>2017</td>\n      <td>10.0</td>\n      <td>...</td>\n      <td>21.0</td>\n      <td>0.129661</td>\n      <td>0.127</td>\n      <td>0.321</td>\n      <td>0.175</td>\n      <td>NaN</td>\n      <td>0.0</td>\n      <td>0.0</td>\n      <td>0.0</td>\n      <td>0</td>\n    </tr>\n    <tr>\n      <th>1</th>\n      <td>1</td>\n      <td>https://www.metacritic.com/music/an-overview-o...</td>\n      <td>an overview on phenomenal nature</td>\n      <td>cassandra jenkins</td>\n      <td>Feb 19, 2021</td>\n      <td>87.0</td>\n      <td>7.9</td>\n      <td>Pop/Rock</td>\n      <td>2021</td>\n      <td>9.0</td>\n      <td>...</td>\n      <td>25.0</td>\n      <td>0.109067</td>\n      <td>0.199</td>\n      <td>0.424</td>\n      <td>0.274</td>\n      <td>NaN</td>\n      <td>0.0</td>\n      <td>0.0</td>\n      <td>0.0</td>\n      <td>0</td>\n    </tr>\n    <tr>\n      <th>2</th>\n      <td>2</td>\n      <td>https://www.metacritic.com/music/platinum/mira...</td>\n      <td>platinum</td>\n      <td>miranda lambert</td>\n      <td>Jun  3, 2014</td>\n      <td>86.0</td>\n      <td>8.1</td>\n      <td>Country</td>\n      <td>2014</td>\n      <td>11.0</td>\n      <td>...</td>\n      <td>34.0</td>\n      <td>0.126124</td>\n      <td>0.276</td>\n      <td>0.626</td>\n      <td>0.432</td>\n      <td>2140</td>\n      <td>1.0</td>\n      <td>1.0</td>\n      <td>1.0</td>\n      <td>1.0;</td>\n    </tr>\n    <tr>\n      <th>3</th>\n      <td>3</td>\n      <td>https://www.metacritic.com/music/the-meadowlan...</td>\n      <td>the meadowlands</td>\n      <td>the wrens</td>\n      <td>Sep  9, 2003</td>\n      <td>85.0</td>\n      <td>8.9</td>\n      <td>Indie</td>\n      <td>2003</td>\n      <td>12.0</td>\n      <td>...</td>\n      <td>199.0</td>\n      <td>0.105770</td>\n      <td>1.287</td>\n      <td>2.908</td>\n      <td>1.856</td>\n      <td>NaN</td>\n      <td>0.0</td>\n      <td>0.0</td>\n      <td>0.0</td>\n      <td>0</td>\n    </tr>\n    <tr>\n      <th>4</th>\n      <td>4</td>\n      <td>https://www.metacritic.com/music/play/moby</td>\n      <td>play</td>\n      <td>moby</td>\n      <td>Jun  1, 1999</td>\n      <td>84.0</td>\n      <td>8.8</td>\n      <td>Electronic</td>\n      <td>1999</td>\n      <td>20.0</td>\n      <td>...</td>\n      <td>62.0</td>\n      <td>0.110154</td>\n      <td>0.483</td>\n      <td>1.078</td>\n      <td>0.633</td>\n      <td>NaN</td>\n      <td>0.0</td>\n      <td>0.0</td>\n      <td>0.0</td>\n      <td>0</td>\n    </tr>\n  </tbody>\n</table>\n<p>5 rows × 30 columns</p>\n</div>"
     },
     "metadata": {},
     "execution_count": 20
    }
   ],
   "source": [
    "#cleaning grammy nan values to 0\n",
    "merge7['wins'] = merge7['wins'].fillna(0)\n",
    "merge7['nominated'] = merge7['nominated'].fillna(0)\n",
    "merge7['total_previous_wins'] = merge7['total_previous_wins'].fillna(0)\n",
    "merge7['total_previous_nomination;'] = merge7['total_previous_nomination;'].fillna(0)\n",
    "\n",
    "#check if worked\n",
    "merge7.head()"
   ]
  },
  {
   "cell_type": "code",
   "execution_count": 21,
   "metadata": {},
   "outputs": [
    {
     "output_type": "execute_result",
     "data": {
      "text/plain": [
       "   Unnamed: 0_x                                                url  \\\n",
       "0             0  https://www.metacritic.com/music/the-order-of-...   \n",
       "1             1  https://www.metacritic.com/music/an-overview-o...   \n",
       "2             2  https://www.metacritic.com/music/platinum/mira...   \n",
       "3             3  https://www.metacritic.com/music/the-meadowlan...   \n",
       "4             4         https://www.metacritic.com/music/play/moby   \n",
       "\n",
       "                              title             artist Date_Published  \\\n",
       "0                the  order of time       valerie june   Mar 10, 2017   \n",
       "1  an overview on phenomenal nature  cassandra jenkins   Feb 19, 2021   \n",
       "2                          platinum    miranda lambert   Jun  3, 2014   \n",
       "3                   the meadowlands          the wrens   Sep  9, 2003   \n",
       "4                              play               moby   Jun  1, 1999   \n",
       "\n",
       "   Meta_Score User_Score       Genre  year   critic_volume  ...  \\\n",
       "0        89.0        7.9    Pop/Rock  2017            10.0  ...   \n",
       "1        87.0        7.9    Pop/Rock  2021             9.0  ...   \n",
       "2        86.0        8.1     Country  2014            11.0  ...   \n",
       "3        85.0        8.9       Indie  2003            12.0  ...   \n",
       "4        84.0        8.8  Electronic  1999            20.0  ...   \n",
       "\n",
       "   user_totalpositive  user_StdDev_containword  user_spoiler user_album  \\\n",
       "0                21.0                 0.129661         0.127      0.321   \n",
       "1                25.0                 0.109067         0.199      0.424   \n",
       "2                34.0                 0.126124         0.276      0.626   \n",
       "3               199.0                 0.105770         1.287      2.908   \n",
       "4                62.0                 0.110154         0.483      1.078   \n",
       "\n",
       "   user_individualtracks  Unnamed: 0_y  wins  nominated  total_previous_wins  \\\n",
       "0                  0.175           NaN   0.0        0.0                  0.0   \n",
       "1                  0.274           NaN   0.0        0.0                  0.0   \n",
       "2                  0.432          2140   1.0        1.0                  1.0   \n",
       "3                  1.856           NaN   0.0        0.0                  0.0   \n",
       "4                  0.633           NaN   0.0        0.0                  0.0   \n",
       "\n",
       "   total_previous_nomination;  \n",
       "0                         NaN  \n",
       "1                         NaN  \n",
       "2                         1.0  \n",
       "3                         NaN  \n",
       "4                         NaN  \n",
       "\n",
       "[5 rows x 30 columns]"
      ],
      "text/html": "<div>\n<style scoped>\n    .dataframe tbody tr th:only-of-type {\n        vertical-align: middle;\n    }\n\n    .dataframe tbody tr th {\n        vertical-align: top;\n    }\n\n    .dataframe thead th {\n        text-align: right;\n    }\n</style>\n<table border=\"1\" class=\"dataframe\">\n  <thead>\n    <tr style=\"text-align: right;\">\n      <th></th>\n      <th>Unnamed: 0_x</th>\n      <th>url</th>\n      <th>title</th>\n      <th>artist</th>\n      <th>Date_Published</th>\n      <th>Meta_Score</th>\n      <th>User_Score</th>\n      <th>Genre</th>\n      <th>year</th>\n      <th>critic_volume</th>\n      <th>...</th>\n      <th>user_totalpositive</th>\n      <th>user_StdDev_containword</th>\n      <th>user_spoiler</th>\n      <th>user_album</th>\n      <th>user_individualtracks</th>\n      <th>Unnamed: 0_y</th>\n      <th>wins</th>\n      <th>nominated</th>\n      <th>total_previous_wins</th>\n      <th>total_previous_nomination;</th>\n    </tr>\n  </thead>\n  <tbody>\n    <tr>\n      <th>0</th>\n      <td>0</td>\n      <td>https://www.metacritic.com/music/the-order-of-...</td>\n      <td>the  order of time</td>\n      <td>valerie june</td>\n      <td>Mar 10, 2017</td>\n      <td>89.0</td>\n      <td>7.9</td>\n      <td>Pop/Rock</td>\n      <td>2017</td>\n      <td>10.0</td>\n      <td>...</td>\n      <td>21.0</td>\n      <td>0.129661</td>\n      <td>0.127</td>\n      <td>0.321</td>\n      <td>0.175</td>\n      <td>NaN</td>\n      <td>0.0</td>\n      <td>0.0</td>\n      <td>0.0</td>\n      <td>NaN</td>\n    </tr>\n    <tr>\n      <th>1</th>\n      <td>1</td>\n      <td>https://www.metacritic.com/music/an-overview-o...</td>\n      <td>an overview on phenomenal nature</td>\n      <td>cassandra jenkins</td>\n      <td>Feb 19, 2021</td>\n      <td>87.0</td>\n      <td>7.9</td>\n      <td>Pop/Rock</td>\n      <td>2021</td>\n      <td>9.0</td>\n      <td>...</td>\n      <td>25.0</td>\n      <td>0.109067</td>\n      <td>0.199</td>\n      <td>0.424</td>\n      <td>0.274</td>\n      <td>NaN</td>\n      <td>0.0</td>\n      <td>0.0</td>\n      <td>0.0</td>\n      <td>NaN</td>\n    </tr>\n    <tr>\n      <th>2</th>\n      <td>2</td>\n      <td>https://www.metacritic.com/music/platinum/mira...</td>\n      <td>platinum</td>\n      <td>miranda lambert</td>\n      <td>Jun  3, 2014</td>\n      <td>86.0</td>\n      <td>8.1</td>\n      <td>Country</td>\n      <td>2014</td>\n      <td>11.0</td>\n      <td>...</td>\n      <td>34.0</td>\n      <td>0.126124</td>\n      <td>0.276</td>\n      <td>0.626</td>\n      <td>0.432</td>\n      <td>2140</td>\n      <td>1.0</td>\n      <td>1.0</td>\n      <td>1.0</td>\n      <td>1.0</td>\n    </tr>\n    <tr>\n      <th>3</th>\n      <td>3</td>\n      <td>https://www.metacritic.com/music/the-meadowlan...</td>\n      <td>the meadowlands</td>\n      <td>the wrens</td>\n      <td>Sep  9, 2003</td>\n      <td>85.0</td>\n      <td>8.9</td>\n      <td>Indie</td>\n      <td>2003</td>\n      <td>12.0</td>\n      <td>...</td>\n      <td>199.0</td>\n      <td>0.105770</td>\n      <td>1.287</td>\n      <td>2.908</td>\n      <td>1.856</td>\n      <td>NaN</td>\n      <td>0.0</td>\n      <td>0.0</td>\n      <td>0.0</td>\n      <td>NaN</td>\n    </tr>\n    <tr>\n      <th>4</th>\n      <td>4</td>\n      <td>https://www.metacritic.com/music/play/moby</td>\n      <td>play</td>\n      <td>moby</td>\n      <td>Jun  1, 1999</td>\n      <td>84.0</td>\n      <td>8.8</td>\n      <td>Electronic</td>\n      <td>1999</td>\n      <td>20.0</td>\n      <td>...</td>\n      <td>62.0</td>\n      <td>0.110154</td>\n      <td>0.483</td>\n      <td>1.078</td>\n      <td>0.633</td>\n      <td>NaN</td>\n      <td>0.0</td>\n      <td>0.0</td>\n      <td>0.0</td>\n      <td>NaN</td>\n    </tr>\n  </tbody>\n</table>\n<p>5 rows × 30 columns</p>\n</div>"
     },
     "metadata": {},
     "execution_count": 21
    }
   ],
   "source": [
    "#remove ; in total previous nomination\n",
    "merge7['total_previous_nomination;'] = merge7['total_previous_nomination;'].str.replace(';','')\n",
    "merge7.head()"
   ]
  },
  {
   "cell_type": "code",
   "execution_count": 22,
   "metadata": {},
   "outputs": [],
   "source": [
    "#load billboard max score\n",
    "billboardmax = pd.read_csv(r'C:\\Users\\koenm\\OneDrive\\Bureaublad\\Thesis\\Metacritic_thesis\\5. files_to_merge\\input\\billboardmaxweek.csv')"
   ]
  },
  {
   "cell_type": "code",
   "execution_count": 23,
   "metadata": {},
   "outputs": [
    {
     "output_type": "execute_result",
     "data": {
      "text/plain": [
       "   Unnamed: 0_x                                                url  \\\n",
       "0             0  https://www.metacritic.com/music/the-order-of-...   \n",
       "1             1  https://www.metacritic.com/music/an-overview-o...   \n",
       "2             2  https://www.metacritic.com/music/platinum/mira...   \n",
       "3             3  https://www.metacritic.com/music/the-meadowlan...   \n",
       "4             4         https://www.metacritic.com/music/play/moby   \n",
       "\n",
       "                              title             artist Date_Published  \\\n",
       "0                the  order of time       valerie june   Mar 10, 2017   \n",
       "1  an overview on phenomenal nature  cassandra jenkins   Feb 19, 2021   \n",
       "2                          platinum    miranda lambert   Jun  3, 2014   \n",
       "3                   the meadowlands          the wrens   Sep  9, 2003   \n",
       "4                              play               moby   Jun  1, 1999   \n",
       "\n",
       "   Meta_Score User_Score       Genre  year   critic_volume  ...  \\\n",
       "0        89.0        7.9    Pop/Rock  2017            10.0  ...   \n",
       "1        87.0        7.9    Pop/Rock  2021             9.0  ...   \n",
       "2        86.0        8.1     Country  2014            11.0  ...   \n",
       "3        85.0        8.9       Indie  2003            12.0  ...   \n",
       "4        84.0        8.8  Electronic  1999            20.0  ...   \n",
       "\n",
       "   user_individualtracks  Unnamed: 0_y  wins nominated  total_previous_wins  \\\n",
       "0                  0.175           NaN   0.0       0.0                  0.0   \n",
       "1                  0.274           NaN   0.0       0.0                  0.0   \n",
       "2                  0.432          2140   1.0       1.0                  1.0   \n",
       "3                  1.856           NaN   0.0       0.0                  0.0   \n",
       "4                  0.633           NaN   0.0       0.0                  0.0   \n",
       "\n",
       "   total_previous_nomination;  Unnamed: 0  position   peak  weeks_on_chart  \n",
       "0                         NaN         NaN       NaN    NaN             NaN  \n",
       "1                         NaN         NaN       NaN    NaN             NaN  \n",
       "2                         1.0    536901.0     195.0    1.0            69.0  \n",
       "3                         NaN         NaN       NaN    NaN             NaN  \n",
       "4                         NaN    385844.0     196.0  145.0            94.0  \n",
       "\n",
       "[5 rows x 34 columns]"
      ],
      "text/html": "<div>\n<style scoped>\n    .dataframe tbody tr th:only-of-type {\n        vertical-align: middle;\n    }\n\n    .dataframe tbody tr th {\n        vertical-align: top;\n    }\n\n    .dataframe thead th {\n        text-align: right;\n    }\n</style>\n<table border=\"1\" class=\"dataframe\">\n  <thead>\n    <tr style=\"text-align: right;\">\n      <th></th>\n      <th>Unnamed: 0_x</th>\n      <th>url</th>\n      <th>title</th>\n      <th>artist</th>\n      <th>Date_Published</th>\n      <th>Meta_Score</th>\n      <th>User_Score</th>\n      <th>Genre</th>\n      <th>year</th>\n      <th>critic_volume</th>\n      <th>...</th>\n      <th>user_individualtracks</th>\n      <th>Unnamed: 0_y</th>\n      <th>wins</th>\n      <th>nominated</th>\n      <th>total_previous_wins</th>\n      <th>total_previous_nomination;</th>\n      <th>Unnamed: 0</th>\n      <th>position</th>\n      <th>peak</th>\n      <th>weeks_on_chart</th>\n    </tr>\n  </thead>\n  <tbody>\n    <tr>\n      <th>0</th>\n      <td>0</td>\n      <td>https://www.metacritic.com/music/the-order-of-...</td>\n      <td>the  order of time</td>\n      <td>valerie june</td>\n      <td>Mar 10, 2017</td>\n      <td>89.0</td>\n      <td>7.9</td>\n      <td>Pop/Rock</td>\n      <td>2017</td>\n      <td>10.0</td>\n      <td>...</td>\n      <td>0.175</td>\n      <td>NaN</td>\n      <td>0.0</td>\n      <td>0.0</td>\n      <td>0.0</td>\n      <td>NaN</td>\n      <td>NaN</td>\n      <td>NaN</td>\n      <td>NaN</td>\n      <td>NaN</td>\n    </tr>\n    <tr>\n      <th>1</th>\n      <td>1</td>\n      <td>https://www.metacritic.com/music/an-overview-o...</td>\n      <td>an overview on phenomenal nature</td>\n      <td>cassandra jenkins</td>\n      <td>Feb 19, 2021</td>\n      <td>87.0</td>\n      <td>7.9</td>\n      <td>Pop/Rock</td>\n      <td>2021</td>\n      <td>9.0</td>\n      <td>...</td>\n      <td>0.274</td>\n      <td>NaN</td>\n      <td>0.0</td>\n      <td>0.0</td>\n      <td>0.0</td>\n      <td>NaN</td>\n      <td>NaN</td>\n      <td>NaN</td>\n      <td>NaN</td>\n      <td>NaN</td>\n    </tr>\n    <tr>\n      <th>2</th>\n      <td>2</td>\n      <td>https://www.metacritic.com/music/platinum/mira...</td>\n      <td>platinum</td>\n      <td>miranda lambert</td>\n      <td>Jun  3, 2014</td>\n      <td>86.0</td>\n      <td>8.1</td>\n      <td>Country</td>\n      <td>2014</td>\n      <td>11.0</td>\n      <td>...</td>\n      <td>0.432</td>\n      <td>2140</td>\n      <td>1.0</td>\n      <td>1.0</td>\n      <td>1.0</td>\n      <td>1.0</td>\n      <td>536901.0</td>\n      <td>195.0</td>\n      <td>1.0</td>\n      <td>69.0</td>\n    </tr>\n    <tr>\n      <th>3</th>\n      <td>3</td>\n      <td>https://www.metacritic.com/music/the-meadowlan...</td>\n      <td>the meadowlands</td>\n      <td>the wrens</td>\n      <td>Sep  9, 2003</td>\n      <td>85.0</td>\n      <td>8.9</td>\n      <td>Indie</td>\n      <td>2003</td>\n      <td>12.0</td>\n      <td>...</td>\n      <td>1.856</td>\n      <td>NaN</td>\n      <td>0.0</td>\n      <td>0.0</td>\n      <td>0.0</td>\n      <td>NaN</td>\n      <td>NaN</td>\n      <td>NaN</td>\n      <td>NaN</td>\n      <td>NaN</td>\n    </tr>\n    <tr>\n      <th>4</th>\n      <td>4</td>\n      <td>https://www.metacritic.com/music/play/moby</td>\n      <td>play</td>\n      <td>moby</td>\n      <td>Jun  1, 1999</td>\n      <td>84.0</td>\n      <td>8.8</td>\n      <td>Electronic</td>\n      <td>1999</td>\n      <td>20.0</td>\n      <td>...</td>\n      <td>0.633</td>\n      <td>NaN</td>\n      <td>0.0</td>\n      <td>0.0</td>\n      <td>0.0</td>\n      <td>NaN</td>\n      <td>385844.0</td>\n      <td>196.0</td>\n      <td>145.0</td>\n      <td>94.0</td>\n    </tr>\n  </tbody>\n</table>\n<p>5 rows × 34 columns</p>\n</div>"
     },
     "metadata": {},
     "execution_count": 23
    }
   ],
   "source": [
    "#merge billboard and check if worked\n",
    "finalmerge = pd.merge(merge7, billboardmax, on=['title','artist'], how='left')\n",
    "finalmerge.head()"
   ]
  },
  {
   "cell_type": "code",
   "execution_count": 24,
   "metadata": {},
   "outputs": [
    {
     "output_type": "execute_result",
     "data": {
      "text/plain": [
       "   Unnamed: 0_x                                                url  \\\n",
       "0             0  https://www.metacritic.com/music/the-order-of-...   \n",
       "1             1  https://www.metacritic.com/music/an-overview-o...   \n",
       "2             2  https://www.metacritic.com/music/platinum/mira...   \n",
       "3             3  https://www.metacritic.com/music/the-meadowlan...   \n",
       "4             4         https://www.metacritic.com/music/play/moby   \n",
       "\n",
       "                              title             artist Date_Published  \\\n",
       "0                the  order of time       valerie june   Mar 10, 2017   \n",
       "1  an overview on phenomenal nature  cassandra jenkins   Feb 19, 2021   \n",
       "2                          platinum    miranda lambert   Jun  3, 2014   \n",
       "3                   the meadowlands          the wrens   Sep  9, 2003   \n",
       "4                              play               moby   Jun  1, 1999   \n",
       "\n",
       "   Meta_Score User_Score       Genre  year   critic_volume  ...  \\\n",
       "0        89.0        7.9    Pop/Rock  2017            10.0  ...   \n",
       "1        87.0        7.9    Pop/Rock  2021             9.0  ...   \n",
       "2        86.0        8.1     Country  2014            11.0  ...   \n",
       "3        85.0        8.9       Indie  2003            12.0  ...   \n",
       "4        84.0        8.8  Electronic  1999            20.0  ...   \n",
       "\n",
       "   user_individualtracks  Unnamed: 0_y  wins nominated  total_previous_wins  \\\n",
       "0                  0.175           NaN   0.0       0.0                  0.0   \n",
       "1                  0.274           NaN   0.0       0.0                  0.0   \n",
       "2                  0.432          2140   1.0       1.0                  1.0   \n",
       "3                  1.856           NaN   0.0       0.0                  0.0   \n",
       "4                  0.633           NaN   0.0       0.0                  0.0   \n",
       "\n",
       "   total_previous_nomination;  Unnamed: 0  position   peak  weeks_on_chart  \n",
       "0                           0         NaN       0.0    0.0             0.0  \n",
       "1                           0         NaN       0.0    0.0             0.0  \n",
       "2                         1.0    536901.0     195.0    1.0            69.0  \n",
       "3                           0         NaN       0.0    0.0             0.0  \n",
       "4                           0    385844.0     196.0  145.0            94.0  \n",
       "\n",
       "[5 rows x 34 columns]"
      ],
      "text/html": "<div>\n<style scoped>\n    .dataframe tbody tr th:only-of-type {\n        vertical-align: middle;\n    }\n\n    .dataframe tbody tr th {\n        vertical-align: top;\n    }\n\n    .dataframe thead th {\n        text-align: right;\n    }\n</style>\n<table border=\"1\" class=\"dataframe\">\n  <thead>\n    <tr style=\"text-align: right;\">\n      <th></th>\n      <th>Unnamed: 0_x</th>\n      <th>url</th>\n      <th>title</th>\n      <th>artist</th>\n      <th>Date_Published</th>\n      <th>Meta_Score</th>\n      <th>User_Score</th>\n      <th>Genre</th>\n      <th>year</th>\n      <th>critic_volume</th>\n      <th>...</th>\n      <th>user_individualtracks</th>\n      <th>Unnamed: 0_y</th>\n      <th>wins</th>\n      <th>nominated</th>\n      <th>total_previous_wins</th>\n      <th>total_previous_nomination;</th>\n      <th>Unnamed: 0</th>\n      <th>position</th>\n      <th>peak</th>\n      <th>weeks_on_chart</th>\n    </tr>\n  </thead>\n  <tbody>\n    <tr>\n      <th>0</th>\n      <td>0</td>\n      <td>https://www.metacritic.com/music/the-order-of-...</td>\n      <td>the  order of time</td>\n      <td>valerie june</td>\n      <td>Mar 10, 2017</td>\n      <td>89.0</td>\n      <td>7.9</td>\n      <td>Pop/Rock</td>\n      <td>2017</td>\n      <td>10.0</td>\n      <td>...</td>\n      <td>0.175</td>\n      <td>NaN</td>\n      <td>0.0</td>\n      <td>0.0</td>\n      <td>0.0</td>\n      <td>0</td>\n      <td>NaN</td>\n      <td>0.0</td>\n      <td>0.0</td>\n      <td>0.0</td>\n    </tr>\n    <tr>\n      <th>1</th>\n      <td>1</td>\n      <td>https://www.metacritic.com/music/an-overview-o...</td>\n      <td>an overview on phenomenal nature</td>\n      <td>cassandra jenkins</td>\n      <td>Feb 19, 2021</td>\n      <td>87.0</td>\n      <td>7.9</td>\n      <td>Pop/Rock</td>\n      <td>2021</td>\n      <td>9.0</td>\n      <td>...</td>\n      <td>0.274</td>\n      <td>NaN</td>\n      <td>0.0</td>\n      <td>0.0</td>\n      <td>0.0</td>\n      <td>0</td>\n      <td>NaN</td>\n      <td>0.0</td>\n      <td>0.0</td>\n      <td>0.0</td>\n    </tr>\n    <tr>\n      <th>2</th>\n      <td>2</td>\n      <td>https://www.metacritic.com/music/platinum/mira...</td>\n      <td>platinum</td>\n      <td>miranda lambert</td>\n      <td>Jun  3, 2014</td>\n      <td>86.0</td>\n      <td>8.1</td>\n      <td>Country</td>\n      <td>2014</td>\n      <td>11.0</td>\n      <td>...</td>\n      <td>0.432</td>\n      <td>2140</td>\n      <td>1.0</td>\n      <td>1.0</td>\n      <td>1.0</td>\n      <td>1.0</td>\n      <td>536901.0</td>\n      <td>195.0</td>\n      <td>1.0</td>\n      <td>69.0</td>\n    </tr>\n    <tr>\n      <th>3</th>\n      <td>3</td>\n      <td>https://www.metacritic.com/music/the-meadowlan...</td>\n      <td>the meadowlands</td>\n      <td>the wrens</td>\n      <td>Sep  9, 2003</td>\n      <td>85.0</td>\n      <td>8.9</td>\n      <td>Indie</td>\n      <td>2003</td>\n      <td>12.0</td>\n      <td>...</td>\n      <td>1.856</td>\n      <td>NaN</td>\n      <td>0.0</td>\n      <td>0.0</td>\n      <td>0.0</td>\n      <td>0</td>\n      <td>NaN</td>\n      <td>0.0</td>\n      <td>0.0</td>\n      <td>0.0</td>\n    </tr>\n    <tr>\n      <th>4</th>\n      <td>4</td>\n      <td>https://www.metacritic.com/music/play/moby</td>\n      <td>play</td>\n      <td>moby</td>\n      <td>Jun  1, 1999</td>\n      <td>84.0</td>\n      <td>8.8</td>\n      <td>Electronic</td>\n      <td>1999</td>\n      <td>20.0</td>\n      <td>...</td>\n      <td>0.633</td>\n      <td>NaN</td>\n      <td>0.0</td>\n      <td>0.0</td>\n      <td>0.0</td>\n      <td>0</td>\n      <td>385844.0</td>\n      <td>196.0</td>\n      <td>145.0</td>\n      <td>94.0</td>\n    </tr>\n  </tbody>\n</table>\n<p>5 rows × 34 columns</p>\n</div>"
     },
     "metadata": {},
     "execution_count": 24
    }
   ],
   "source": [
    "#clean final nan values \n",
    "finalmerge['total_previous_nomination;'] = finalmerge['total_previous_nomination;'].fillna(0)\n",
    "finalmerge['position'] = finalmerge['position'].fillna(0)\n",
    "finalmerge['peak'] = finalmerge['peak'].fillna(0)\n",
    "finalmerge['weeks_on_chart'] = finalmerge['weeks_on_chart'].fillna(0)\n",
    "finalmerge.head()"
   ]
  },
  {
   "cell_type": "code",
   "execution_count": 25,
   "metadata": {},
   "outputs": [
    {
     "output_type": "execute_result",
     "data": {
      "text/plain": [
       "                                                 url  \\\n",
       "0  https://www.metacritic.com/music/the-order-of-...   \n",
       "1  https://www.metacritic.com/music/an-overview-o...   \n",
       "2  https://www.metacritic.com/music/platinum/mira...   \n",
       "3  https://www.metacritic.com/music/the-meadowlan...   \n",
       "4         https://www.metacritic.com/music/play/moby   \n",
       "\n",
       "                              title             artist Date_Published  \\\n",
       "0                the  order of time       valerie june   Mar 10, 2017   \n",
       "1  an overview on phenomenal nature  cassandra jenkins   Feb 19, 2021   \n",
       "2                          platinum    miranda lambert   Jun  3, 2014   \n",
       "3                   the meadowlands          the wrens   Sep  9, 2003   \n",
       "4                              play               moby   Jun  1, 1999   \n",
       "\n",
       "   Meta_Score User_Score       Genre  year   critic_volume  \\\n",
       "0        89.0        7.9    Pop/Rock  2017            10.0   \n",
       "1        87.0        7.9    Pop/Rock  2021             9.0   \n",
       "2        86.0        8.1     Country  2014            11.0   \n",
       "3        85.0        8.9       Indie  2003            12.0   \n",
       "4        84.0        8.8  Electronic  1999            20.0   \n",
       "\n",
       "   crtic_sum_containword  ...  user_spoiler  user_album user_individualtracks  \\\n",
       "0                  -21.0  ...         0.127       0.321                 0.175   \n",
       "1                   16.0  ...         0.199       0.424                 0.274   \n",
       "2                    8.0  ...         0.276       0.626                 0.432   \n",
       "3                  -18.0  ...         1.287       2.908                 1.856   \n",
       "4                   -2.0  ...         0.483       1.078                 0.633   \n",
       "\n",
       "   wins  nominated  total_previous_wins  total_previous_nomination;  position  \\\n",
       "0   0.0        0.0                  0.0                           0       0.0   \n",
       "1   0.0        0.0                  0.0                           0       0.0   \n",
       "2   1.0        1.0                  1.0                         1.0     195.0   \n",
       "3   0.0        0.0                  0.0                           0       0.0   \n",
       "4   0.0        0.0                  0.0                           0     196.0   \n",
       "\n",
       "    peak  weeks_on_chart  \n",
       "0    0.0             0.0  \n",
       "1    0.0             0.0  \n",
       "2    1.0            69.0  \n",
       "3    0.0             0.0  \n",
       "4  145.0            94.0  \n",
       "\n",
       "[5 rows x 31 columns]"
      ],
      "text/html": "<div>\n<style scoped>\n    .dataframe tbody tr th:only-of-type {\n        vertical-align: middle;\n    }\n\n    .dataframe tbody tr th {\n        vertical-align: top;\n    }\n\n    .dataframe thead th {\n        text-align: right;\n    }\n</style>\n<table border=\"1\" class=\"dataframe\">\n  <thead>\n    <tr style=\"text-align: right;\">\n      <th></th>\n      <th>url</th>\n      <th>title</th>\n      <th>artist</th>\n      <th>Date_Published</th>\n      <th>Meta_Score</th>\n      <th>User_Score</th>\n      <th>Genre</th>\n      <th>year</th>\n      <th>critic_volume</th>\n      <th>crtic_sum_containword</th>\n      <th>...</th>\n      <th>user_spoiler</th>\n      <th>user_album</th>\n      <th>user_individualtracks</th>\n      <th>wins</th>\n      <th>nominated</th>\n      <th>total_previous_wins</th>\n      <th>total_previous_nomination;</th>\n      <th>position</th>\n      <th>peak</th>\n      <th>weeks_on_chart</th>\n    </tr>\n  </thead>\n  <tbody>\n    <tr>\n      <th>0</th>\n      <td>https://www.metacritic.com/music/the-order-of-...</td>\n      <td>the  order of time</td>\n      <td>valerie june</td>\n      <td>Mar 10, 2017</td>\n      <td>89.0</td>\n      <td>7.9</td>\n      <td>Pop/Rock</td>\n      <td>2017</td>\n      <td>10.0</td>\n      <td>-21.0</td>\n      <td>...</td>\n      <td>0.127</td>\n      <td>0.321</td>\n      <td>0.175</td>\n      <td>0.0</td>\n      <td>0.0</td>\n      <td>0.0</td>\n      <td>0</td>\n      <td>0.0</td>\n      <td>0.0</td>\n      <td>0.0</td>\n    </tr>\n    <tr>\n      <th>1</th>\n      <td>https://www.metacritic.com/music/an-overview-o...</td>\n      <td>an overview on phenomenal nature</td>\n      <td>cassandra jenkins</td>\n      <td>Feb 19, 2021</td>\n      <td>87.0</td>\n      <td>7.9</td>\n      <td>Pop/Rock</td>\n      <td>2021</td>\n      <td>9.0</td>\n      <td>16.0</td>\n      <td>...</td>\n      <td>0.199</td>\n      <td>0.424</td>\n      <td>0.274</td>\n      <td>0.0</td>\n      <td>0.0</td>\n      <td>0.0</td>\n      <td>0</td>\n      <td>0.0</td>\n      <td>0.0</td>\n      <td>0.0</td>\n    </tr>\n    <tr>\n      <th>2</th>\n      <td>https://www.metacritic.com/music/platinum/mira...</td>\n      <td>platinum</td>\n      <td>miranda lambert</td>\n      <td>Jun  3, 2014</td>\n      <td>86.0</td>\n      <td>8.1</td>\n      <td>Country</td>\n      <td>2014</td>\n      <td>11.0</td>\n      <td>8.0</td>\n      <td>...</td>\n      <td>0.276</td>\n      <td>0.626</td>\n      <td>0.432</td>\n      <td>1.0</td>\n      <td>1.0</td>\n      <td>1.0</td>\n      <td>1.0</td>\n      <td>195.0</td>\n      <td>1.0</td>\n      <td>69.0</td>\n    </tr>\n    <tr>\n      <th>3</th>\n      <td>https://www.metacritic.com/music/the-meadowlan...</td>\n      <td>the meadowlands</td>\n      <td>the wrens</td>\n      <td>Sep  9, 2003</td>\n      <td>85.0</td>\n      <td>8.9</td>\n      <td>Indie</td>\n      <td>2003</td>\n      <td>12.0</td>\n      <td>-18.0</td>\n      <td>...</td>\n      <td>1.287</td>\n      <td>2.908</td>\n      <td>1.856</td>\n      <td>0.0</td>\n      <td>0.0</td>\n      <td>0.0</td>\n      <td>0</td>\n      <td>0.0</td>\n      <td>0.0</td>\n      <td>0.0</td>\n    </tr>\n    <tr>\n      <th>4</th>\n      <td>https://www.metacritic.com/music/play/moby</td>\n      <td>play</td>\n      <td>moby</td>\n      <td>Jun  1, 1999</td>\n      <td>84.0</td>\n      <td>8.8</td>\n      <td>Electronic</td>\n      <td>1999</td>\n      <td>20.0</td>\n      <td>-2.0</td>\n      <td>...</td>\n      <td>0.483</td>\n      <td>1.078</td>\n      <td>0.633</td>\n      <td>0.0</td>\n      <td>0.0</td>\n      <td>0.0</td>\n      <td>0</td>\n      <td>196.0</td>\n      <td>145.0</td>\n      <td>94.0</td>\n    </tr>\n  </tbody>\n</table>\n<p>5 rows × 31 columns</p>\n</div>"
     },
     "metadata": {},
     "execution_count": 25
    }
   ],
   "source": [
    "#drop unnecessary columns\n",
    "finalmerge = finalmerge.drop(['Unnamed: 0_x', 'Unnamed: 0_y', 'Unnamed: 0'], axis=1)\n",
    "finalmerge.head()"
   ]
  },
  {
   "cell_type": "code",
   "execution_count": 31,
   "metadata": {},
   "outputs": [],
   "source": [
    "#check for and remove NAN values\n",
    "finalmerge.isnull().values.any()\n",
    "finalmerge.isnull().sum().sum()\n",
    "finalmerge = finalmerge.fillna(0)"
   ]
  },
  {
   "cell_type": "code",
   "execution_count": 66,
   "metadata": {},
   "outputs": [],
   "source": [
    "#save document \n",
    "finalmerge.to_csv(r'C:\\Users\\koenm\\OneDrive\\Bureaublad\\Thesis\\Metacritic_thesis\\5. files_to_merge\\output\\finaloutput.csv')\n",
    "finalmerge.to_excel(r'C:\\Users\\koenm\\OneDrive\\Bureaublad\\Thesis\\Metacritic_thesis\\5. files_to_merge\\output\\finalexcel.xlsx')"
   ]
  }
 ]
}