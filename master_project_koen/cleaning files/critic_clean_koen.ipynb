{
 "metadata": {
  "language_info": {
   "codemirror_mode": {
    "name": "ipython",
    "version": 3
   },
   "file_extension": ".py",
   "mimetype": "text/x-python",
   "name": "python",
   "nbconvert_exporter": "python",
   "pygments_lexer": "ipython3",
   "version": "3.9.5"
  },
  "orig_nbformat": 2,
  "kernelspec": {
   "name": "python395jvsc74a57bd081e1f5df5c7d84a9530967da31609a1625d589fbc5ca7ab8ade995e2c5fae065",
   "display_name": "Python 3.9.5 64-bit"
  }
 },
 "nbformat": 4,
 "nbformat_minor": 2,
 "cells": [
  {
   "cell_type": "code",
   "execution_count": 43,
   "metadata": {},
   "outputs": [
    {
     "output_type": "stream",
     "name": "stderr",
     "text": [
      "[nltk_data] Downloading package stopwords to\n[nltk_data]     C:\\Users\\koenm\\AppData\\Roaming\\nltk_data...\n[nltk_data]   Package stopwords is already up-to-date!\n"
     ]
    }
   ],
   "source": [
    "import os\n",
    "import random\n",
    "import pandas as pd\n",
    "import numpy as np\n",
    "import nltk\n",
    "nltk.download('stopwords')\n",
    "from nltk.tokenize import sent_tokenize, word_tokenize\n",
    "from nltk.corpus import stopwords\n",
    "from openpyxl.workbook import Workbook"
   ]
  },
  {
   "cell_type": "code",
   "execution_count": 2,
   "metadata": {},
   "outputs": [
    {
     "output_type": "execute_result",
     "data": {
      "text/plain": [
       "Index(['url', 'title', 'artist', 'datePublished', 'summary', 'meta_score',\n",
       "       'user_score', 'genre', 'critic-reviews', 'user_reviews'],\n",
       "      dtype='object')"
      ]
     },
     "metadata": {},
     "execution_count": 2
    }
   ],
   "source": [
    "data = pd.read_json(r'C:\\Users\\koenm\\OneDrive\\Bureaublad\\Thesis\\output\\use\\metacritic_final.json')\n",
    "data.columns"
   ]
  },
  {
   "cell_type": "code",
   "execution_count": 17,
   "metadata": {},
   "outputs": [
    {
     "output_type": "execute_result",
     "data": {
      "text/plain": [
       "[{'score': '6',\n",
       "  'reviewer': 'Dalmx',\n",
       "  'date_published': 'Mar 23, 2021',\n",
       "  'review_body': 'qqqqqqqqqqqqqqqqqqqqqqqqqqqqqqqqqqqqqqqqqqqqqqqqqqqqqqqqqqqqqqqqqqqqqqqqqqq',\n",
       "  'helpul_count': '0'},\n",
       " {'score': '9',\n",
       "  'reviewer': 'Menios',\n",
       "  'date_published': 'Mar  5, 2021',\n",
       "  'review_body': \"YES YES YES! Go for a walk while listening to this album right about now. You're going to feel so much better in these harsh times we live in.\",\n",
       "  'helpul_count': '0'},\n",
       " {'score': '10',\n",
       "  'reviewer': 'ConnorBruce',\n",
       "  'date_published': 'Feb 20, 2021',\n",
       "  'review_body': 'really nice makes you think about your life. Hard drive is 100% the peak of the album and a strong contender for SOTY',\n",
       "  'helpul_count': '0'},\n",
       " {'score': '9',\n",
       "  'reviewer': 'IAmDaan',\n",
       "  'date_published': 'Feb 25, 2021',\n",
       "  'review_body': 'Second album \"An Overview On Phenomenal Nature\" by US songwriter Cassandra Jenkins goes through the expansion stages, acquiring many images and references, monotonous dialogues turning into a mixture of drums and electric guitars, it looks like something meaningful and voice, the singer fully illustrates her feelings and emotions, and also shows her attitude to the world through the prismSecond album \"An Overview On Phenomenal Nature\" by US songwriter Cassandra Jenkins goes through the expansion stages, acquiring many images and references, monotonous dialogues turning into a mixture of drums and electric guitars, it looks like something meaningful and voice, the singer fully illustrates her feelings and emotions, and also shows her attitude to the world through the prism of melancholy and atmosphere…',\n",
       "  'helpul_count': '0'},\n",
       " {'score': '10',\n",
       "  'reviewer': 'musiclover2020',\n",
       "  'date_published': 'Apr 25, 2021',\n",
       "  'review_body': 'Flawless album from start to finish, Cassandra’s voice is absolutely perfection and the way every songs flows together so perfectly makes for an incredible listen, “Hard Drive” being the biggest stand out, the spoken word/singing combo is amazing and the story being told is so beautiful, perfect album to listen to while going on a walk, getting a coffee, or drawing/painting, I highlyFlawless album from start to finish, Cassandra’s voice is absolutely perfection and the way every songs flows together so perfectly makes for an incredible listen, “Hard Drive” being the biggest stand out, the spoken word/singing combo is amazing and the story being told is so beautiful, perfect album to listen to while going on a walk, getting a coffee, or drawing/painting, I highly recommend it.…',\n",
       "  'helpul_count': '0'},\n",
       " {'score': '10',\n",
       "  'reviewer': 'karlos861',\n",
       "  'date_published': 'Apr 18, 2021',\n",
       "  'review_body': 'Its  a really great album, i loved it. Her voice... theres a kind of coherence',\n",
       "  'helpul_count': '0'},\n",
       " {'score': '10',\n",
       "  'reviewer': 'Unjuanjo',\n",
       "  'date_published': 'Feb 25, 2021',\n",
       "  'review_body': 'Lovely album and storytelling. Makes you think about life. The song Hard Drive is absolutely perfect and the saxophone used throughout the album is absolutely compelling',\n",
       "  'helpul_count': '0'}]"
      ]
     },
     "metadata": {},
     "execution_count": 17
    }
   ],
   "source": [
    "#checking row\n",
    "data['critic-reviews'][1]"
   ]
  },
  {
   "cell_type": "code",
   "execution_count": 35,
   "metadata": {},
   "outputs": [],
   "source": [
    "finaldf = pd.DataFrame(columns=['url', 'critic_reviews_index', 'criticscore', 'critic_reviewer', 'critic_date_published', 'critic_review_body'])\n",
    "for index, value in data.iterrows():\n",
    "    url = value.url\n",
    "    critics = value['critic-reviews']\n",
    "    count = 0\n",
    "    #print(index, '/', len(data))\n",
    "    for item in critics:\n",
    "        count = count +1\n",
    "        score = item['score']\n",
    "        reviewer = item['reviewer']\n",
    "        pubdate = item['date_published']\n",
    "        reviewbody = item['review_body']\n",
    "        #helpfulcount = item['helpul_count']\n",
    "        row = {'url':[url], 'critic_reviews_index':[count] ,'criticscore': [score],'critic_reviewer': [reviewer],'critic_date_published': [pubdate],'critic_review_body': [reviewbody]}\n",
    "        rowdf = pd.DataFrame(row)\n",
    "        finaldf = pd.concat([finaldf, rowdf])\n",
    "\n"
   ]
  },
  {
   "cell_type": "code",
   "execution_count": 57,
   "metadata": {},
   "outputs": [],
   "source": [
    "criticsreviews = finaldf\n",
    "#pandas.merge"
   ]
  },
  {
   "cell_type": "code",
   "execution_count": 44,
   "metadata": {},
   "outputs": [],
   "source": [
    "#save as new file\n",
    "criticsreviews.to_excel(r'C:\\Users\\koenm\\OneDrive\\Bureaublad\\Thesis\\output\\cleaned\\criticsentimentexcel.xlsx')"
   ]
  },
  {
   "cell_type": "code",
   "execution_count": 58,
   "metadata": {},
   "outputs": [
    {
     "output_type": "execute_result",
     "data": {
      "text/plain": [
       "url               12487\n",
       "title             12487\n",
       "artist            12487\n",
       "datePublished     12486\n",
       "summary           12340\n",
       "meta_score        12485\n",
       "user_score        12487\n",
       "genre             12416\n",
       "critic-reviews    12487\n",
       "user_reviews      12487\n",
       "dtype: int64"
      ]
     },
     "metadata": {},
     "execution_count": 58
    }
   ],
   "source": [
    "#Drop NAN\n",
    "criticsreviews = criticsreviews[criticsreviews['critic_review_body'].notna()]\n",
    "data.count()"
   ]
  },
  {
   "cell_type": "code",
   "execution_count": 59,
   "metadata": {},
   "outputs": [],
   "source": [
    "#Delete \\n\n",
    "criticsreviews['critic_review_body']= criticsreviews['critic_review_body'].str.replace('\\n',' ')"
   ]
  },
  {
   "cell_type": "code",
   "execution_count": 60,
   "metadata": {},
   "outputs": [],
   "source": [
    "#delete \\r\n",
    "criticsreviews['critic_review_body']= criticsreviews['critic_review_body'].str.replace('\\r',' ')"
   ]
  },
  {
   "cell_type": "code",
   "execution_count": 61,
   "metadata": {},
   "outputs": [],
   "source": [
    "#Lower case\n",
    "criticsreviews['critic_review_body']= criticsreviews['critic_review_body'].str.lower()"
   ]
  },
  {
   "cell_type": "code",
   "execution_count": 62,
   "metadata": {},
   "outputs": [
    {
     "output_type": "stream",
     "name": "stdout",
     "text": [
      "0    her follow-up to 2013’s sublime pushin’ agains...\n0    june is no ingénue or girl-done-wrong; her per...\n0    the order of time is unique and presents a con...\n0    a triumph of form, the order of time is throug...\n0    at times atmospheric with a grounded mysticism...\n                           ...                        \n0    by the end of teenage dream--hell, halfway thr...\n0    i can forgive a couple of transgressions if te...\n0    those two qualities [perry's sex appeal and go...\n0    the remainder of teenage dream is a raunchy po...\n0    with music as rigidly formulaic as this, no wo...\nName: critic_review_body, Length: 180131, dtype: object\n"
     ]
    }
   ],
   "source": [
    "print(criticsreviews['critic_review_body'])"
   ]
  },
  {
   "cell_type": "code",
   "execution_count": 63,
   "metadata": {},
   "outputs": [
    {
     "output_type": "stream",
     "name": "stderr",
     "text": [
      "<ipython-input-63-b90859aba990>:2: FutureWarning: The default value of regex will change from True to False in a future version.\n  criticsreviews['critic_review_body']= criticsreviews['critic_review_body'].str.replace('\\d+', '')\n"
     ]
    }
   ],
   "source": [
    "#Remove numbers\n",
    "criticsreviews['critic_review_body']= criticsreviews['critic_review_body'].str.replace('\\d+', '')"
   ]
  },
  {
   "cell_type": "code",
   "execution_count": 64,
   "metadata": {},
   "outputs": [],
   "source": [
    "#Remove stopwords\n",
    "stop = stopwords.words('english')\n",
    "criticsreviews['critic_review_body'] = criticsreviews['critic_review_body'].apply(lambda x: ' '.join([word for word in x.split() if word not in (stop)]))"
   ]
  },
  {
   "cell_type": "code",
   "execution_count": 65,
   "metadata": {},
   "outputs": [
    {
     "output_type": "stream",
     "name": "stderr",
     "text": [
      "<ipython-input-65-4759d0ef1780>:2: FutureWarning: The default value of regex will change from True to False in a future version.\n  criticsreviews['critic_review_body'] = criticsreviews['critic_review_body'].str.replace('[^\\w\\s]', '')\n"
     ]
    }
   ],
   "source": [
    "#remove punctuation\n",
    "criticsreviews['critic_review_body'] = criticsreviews['critic_review_body'].str.replace('[^\\w\\s]', '')"
   ]
  },
  {
   "cell_type": "code",
   "execution_count": 66,
   "metadata": {},
   "outputs": [
    {
     "output_type": "execute_result",
     "data": {
      "text/plain": [
       "                                                  url critic_reviews_index  \\\n",
       "0   https://www.metacritic.com/music/the-order-of-...                    1   \n",
       "0   https://www.metacritic.com/music/the-order-of-...                    2   \n",
       "0   https://www.metacritic.com/music/the-order-of-...                    3   \n",
       "0   https://www.metacritic.com/music/the-order-of-...                    4   \n",
       "0   https://www.metacritic.com/music/the-order-of-...                    5   \n",
       "..                                                ...                  ...   \n",
       "0   https://www.metacritic.com/music/teenage-dream...                   15   \n",
       "0   https://www.metacritic.com/music/teenage-dream...                   16   \n",
       "0   https://www.metacritic.com/music/teenage-dream...                   17   \n",
       "0   https://www.metacritic.com/music/teenage-dream...                   18   \n",
       "0   https://www.metacritic.com/music/teenage-dream...                   19   \n",
       "\n",
       "   criticscore       critic_reviewer critic_date_published  \\\n",
       "0          100  The Independent (UK)          Mar  8, 2017   \n",
       "0           90               Exclaim          Mar  8, 2017   \n",
       "0           90            PopMatters          Mar  1, 2017   \n",
       "0           90        Slant Magazine          Feb 27, 2017   \n",
       "0           89      Austin Chronicle          Mar 15, 2017   \n",
       "..         ...                   ...                   ...   \n",
       "0           40      Hartford Courant                  None   \n",
       "0           40          Sputnikmusic                  None   \n",
       "0           40          NOW Magazine                  None   \n",
       "0           30        Slant Magazine                  None   \n",
       "0           25       Chicago Tribune                  None   \n",
       "\n",
       "                                   critic_review_body  \n",
       "0   followup s sublime pushin stone finds valerie ...  \n",
       "0   june ingénue girldonewrong persona creator spe...  \n",
       "0   order time unique presents confident dynamic s...  \n",
       "0   triumph form order time completely idiosyncrat...  \n",
       "0   times atmospheric grounded mysticism astral pl...  \n",
       "..                                                ...  \n",
       "0   end teenage dreamhell halfway throughits appar...  \n",
       "0   forgive couple transgressions teenage dream re...  \n",
       "0   two qualities perrys sex appeal goofy selfeffa...  \n",
       "0   remainder teenage dream raunchy pop nightmare ...  \n",
       "0   music rigidly formulaic this wonder teens song...  \n",
       "\n",
       "[180131 rows x 6 columns]"
      ],
      "text/html": "<div>\n<style scoped>\n    .dataframe tbody tr th:only-of-type {\n        vertical-align: middle;\n    }\n\n    .dataframe tbody tr th {\n        vertical-align: top;\n    }\n\n    .dataframe thead th {\n        text-align: right;\n    }\n</style>\n<table border=\"1\" class=\"dataframe\">\n  <thead>\n    <tr style=\"text-align: right;\">\n      <th></th>\n      <th>url</th>\n      <th>critic_reviews_index</th>\n      <th>criticscore</th>\n      <th>critic_reviewer</th>\n      <th>critic_date_published</th>\n      <th>critic_review_body</th>\n    </tr>\n  </thead>\n  <tbody>\n    <tr>\n      <th>0</th>\n      <td>https://www.metacritic.com/music/the-order-of-...</td>\n      <td>1</td>\n      <td>100</td>\n      <td>The Independent (UK)</td>\n      <td>Mar  8, 2017</td>\n      <td>followup s sublime pushin stone finds valerie ...</td>\n    </tr>\n    <tr>\n      <th>0</th>\n      <td>https://www.metacritic.com/music/the-order-of-...</td>\n      <td>2</td>\n      <td>90</td>\n      <td>Exclaim</td>\n      <td>Mar  8, 2017</td>\n      <td>june ingénue girldonewrong persona creator spe...</td>\n    </tr>\n    <tr>\n      <th>0</th>\n      <td>https://www.metacritic.com/music/the-order-of-...</td>\n      <td>3</td>\n      <td>90</td>\n      <td>PopMatters</td>\n      <td>Mar  1, 2017</td>\n      <td>order time unique presents confident dynamic s...</td>\n    </tr>\n    <tr>\n      <th>0</th>\n      <td>https://www.metacritic.com/music/the-order-of-...</td>\n      <td>4</td>\n      <td>90</td>\n      <td>Slant Magazine</td>\n      <td>Feb 27, 2017</td>\n      <td>triumph form order time completely idiosyncrat...</td>\n    </tr>\n    <tr>\n      <th>0</th>\n      <td>https://www.metacritic.com/music/the-order-of-...</td>\n      <td>5</td>\n      <td>89</td>\n      <td>Austin Chronicle</td>\n      <td>Mar 15, 2017</td>\n      <td>times atmospheric grounded mysticism astral pl...</td>\n    </tr>\n    <tr>\n      <th>...</th>\n      <td>...</td>\n      <td>...</td>\n      <td>...</td>\n      <td>...</td>\n      <td>...</td>\n      <td>...</td>\n    </tr>\n    <tr>\n      <th>0</th>\n      <td>https://www.metacritic.com/music/teenage-dream...</td>\n      <td>15</td>\n      <td>40</td>\n      <td>Hartford Courant</td>\n      <td>None</td>\n      <td>end teenage dreamhell halfway throughits appar...</td>\n    </tr>\n    <tr>\n      <th>0</th>\n      <td>https://www.metacritic.com/music/teenage-dream...</td>\n      <td>16</td>\n      <td>40</td>\n      <td>Sputnikmusic</td>\n      <td>None</td>\n      <td>forgive couple transgressions teenage dream re...</td>\n    </tr>\n    <tr>\n      <th>0</th>\n      <td>https://www.metacritic.com/music/teenage-dream...</td>\n      <td>17</td>\n      <td>40</td>\n      <td>NOW Magazine</td>\n      <td>None</td>\n      <td>two qualities perrys sex appeal goofy selfeffa...</td>\n    </tr>\n    <tr>\n      <th>0</th>\n      <td>https://www.metacritic.com/music/teenage-dream...</td>\n      <td>18</td>\n      <td>30</td>\n      <td>Slant Magazine</td>\n      <td>None</td>\n      <td>remainder teenage dream raunchy pop nightmare ...</td>\n    </tr>\n    <tr>\n      <th>0</th>\n      <td>https://www.metacritic.com/music/teenage-dream...</td>\n      <td>19</td>\n      <td>25</td>\n      <td>Chicago Tribune</td>\n      <td>None</td>\n      <td>music rigidly formulaic this wonder teens song...</td>\n    </tr>\n  </tbody>\n</table>\n<p>180131 rows × 6 columns</p>\n</div>"
     },
     "metadata": {},
     "execution_count": 66
    }
   ],
   "source": [
    "#check information to drop for sentiment analysis\n",
    "criticsreviews"
   ]
  },
  {
   "cell_type": "code",
   "execution_count": 67,
   "metadata": {},
   "outputs": [
    {
     "output_type": "execute_result",
     "data": {
      "text/plain": [
       "                                                  url  \\\n",
       "0   https://www.metacritic.com/music/the-order-of-...   \n",
       "0   https://www.metacritic.com/music/the-order-of-...   \n",
       "0   https://www.metacritic.com/music/the-order-of-...   \n",
       "0   https://www.metacritic.com/music/the-order-of-...   \n",
       "0   https://www.metacritic.com/music/the-order-of-...   \n",
       "..                                                ...   \n",
       "0   https://www.metacritic.com/music/teenage-dream...   \n",
       "0   https://www.metacritic.com/music/teenage-dream...   \n",
       "0   https://www.metacritic.com/music/teenage-dream...   \n",
       "0   https://www.metacritic.com/music/teenage-dream...   \n",
       "0   https://www.metacritic.com/music/teenage-dream...   \n",
       "\n",
       "                                   critic_review_body  \n",
       "0   followup s sublime pushin stone finds valerie ...  \n",
       "0   june ingénue girldonewrong persona creator spe...  \n",
       "0   order time unique presents confident dynamic s...  \n",
       "0   triumph form order time completely idiosyncrat...  \n",
       "0   times atmospheric grounded mysticism astral pl...  \n",
       "..                                                ...  \n",
       "0   end teenage dreamhell halfway throughits appar...  \n",
       "0   forgive couple transgressions teenage dream re...  \n",
       "0   two qualities perrys sex appeal goofy selfeffa...  \n",
       "0   remainder teenage dream raunchy pop nightmare ...  \n",
       "0   music rigidly formulaic this wonder teens song...  \n",
       "\n",
       "[180131 rows x 2 columns]"
      ],
      "text/html": "<div>\n<style scoped>\n    .dataframe tbody tr th:only-of-type {\n        vertical-align: middle;\n    }\n\n    .dataframe tbody tr th {\n        vertical-align: top;\n    }\n\n    .dataframe thead th {\n        text-align: right;\n    }\n</style>\n<table border=\"1\" class=\"dataframe\">\n  <thead>\n    <tr style=\"text-align: right;\">\n      <th></th>\n      <th>url</th>\n      <th>critic_review_body</th>\n    </tr>\n  </thead>\n  <tbody>\n    <tr>\n      <th>0</th>\n      <td>https://www.metacritic.com/music/the-order-of-...</td>\n      <td>followup s sublime pushin stone finds valerie ...</td>\n    </tr>\n    <tr>\n      <th>0</th>\n      <td>https://www.metacritic.com/music/the-order-of-...</td>\n      <td>june ingénue girldonewrong persona creator spe...</td>\n    </tr>\n    <tr>\n      <th>0</th>\n      <td>https://www.metacritic.com/music/the-order-of-...</td>\n      <td>order time unique presents confident dynamic s...</td>\n    </tr>\n    <tr>\n      <th>0</th>\n      <td>https://www.metacritic.com/music/the-order-of-...</td>\n      <td>triumph form order time completely idiosyncrat...</td>\n    </tr>\n    <tr>\n      <th>0</th>\n      <td>https://www.metacritic.com/music/the-order-of-...</td>\n      <td>times atmospheric grounded mysticism astral pl...</td>\n    </tr>\n    <tr>\n      <th>...</th>\n      <td>...</td>\n      <td>...</td>\n    </tr>\n    <tr>\n      <th>0</th>\n      <td>https://www.metacritic.com/music/teenage-dream...</td>\n      <td>end teenage dreamhell halfway throughits appar...</td>\n    </tr>\n    <tr>\n      <th>0</th>\n      <td>https://www.metacritic.com/music/teenage-dream...</td>\n      <td>forgive couple transgressions teenage dream re...</td>\n    </tr>\n    <tr>\n      <th>0</th>\n      <td>https://www.metacritic.com/music/teenage-dream...</td>\n      <td>two qualities perrys sex appeal goofy selfeffa...</td>\n    </tr>\n    <tr>\n      <th>0</th>\n      <td>https://www.metacritic.com/music/teenage-dream...</td>\n      <td>remainder teenage dream raunchy pop nightmare ...</td>\n    </tr>\n    <tr>\n      <th>0</th>\n      <td>https://www.metacritic.com/music/teenage-dream...</td>\n      <td>music rigidly formulaic this wonder teens song...</td>\n    </tr>\n  </tbody>\n</table>\n<p>180131 rows × 2 columns</p>\n</div>"
     },
     "metadata": {},
     "execution_count": 67
    }
   ],
   "source": [
    "criticreviewsclean = criticsreviews.drop(columns=['critic_reviews_index','criticscore', 'critic_reviewer', 'critic_date_published'])\n",
    "criticreviewsclean"
   ]
  },
  {
   "cell_type": "code",
   "execution_count": 71,
   "metadata": {},
   "outputs": [],
   "source": [
    "#save cleaned file\n",
    "criticreviewsclean.to_csv(r'C:\\Users\\koenm\\OneDrive\\Bureaublad\\Thesis\\output\\cleaned\\criticcleanforsentiment.csv')"
   ]
  }
 ]
}