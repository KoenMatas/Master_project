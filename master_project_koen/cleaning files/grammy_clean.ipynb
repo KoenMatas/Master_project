{
 "cells": [
  {
   "cell_type": "code",
   "execution_count": null,
   "metadata": {},
   "outputs": [],
   "source": [
    "import pandas as pd\r\n",
    "import json"
   ]
  },
  {
   "cell_type": "code",
   "execution_count": null,
   "metadata": {},
   "outputs": [],
   "source": [
    "url=[]\r\n",
    "category=[]\r\n",
    "status=[]\r\n",
    "name=[]\r\n",
    "artist=[]\r\n",
    "\r\n",
    "with open(r'C:\\Users\\koenm\\OneDrive\\Bureaublad\\Thesis\\Metacritic_thesis\\original data\\grammy.json') as j:\r\n",
    "    grammy=json.load(j)\r\n",
    "    #print(json.dumps(billboard,indent=4))\r\n",
    "    for data in grammy:\r\n",
    "        dt=data['data']\r\n",
    "        for item in dt:\r\n",
    "            songs=item['songs']\r\n",
    "            for song in songs:\r\n",
    "                url.append(data['url'])\r\n",
    "                category.append(item['category'])\r\n",
    "                status.append(song['status'])\r\n",
    "                name.append(song['name'])\r\n",
    "                artist.append(song['artists'])\r\n",
    "\r\n",
    "\r\n",
    "\r\n",
    "row={\r\n",
    "'URLs':url,\r\n",
    "'Category':category,\r\n",
    "'Status':status,\r\n",
    "'Name':name,\r\n",
    "'Artists':artist,\r\n",
    "}\r\n",
    "\r\n",
    "df = pd.DataFrame(row)\r\n",
    "print(df)"
   ]
  },
  {
   "cell_type": "code",
   "execution_count": null,
   "metadata": {},
   "outputs": [],
   "source": [
    "#Lower case\n",
    "df['Artists'] = df['Artists'].str.lower()"
   ]
  },
  {
   "cell_type": "code",
   "execution_count": null,
   "metadata": {},
   "outputs": [],
   "source": [
    "#removing the \"features\" text\n",
    "df['Artists'] = df['Artists'].str.replace('featuring','')\n",
    "df.head(n=20)"
   ]
  },
  {
   "cell_type": "code",
   "execution_count": null,
   "metadata": {},
   "outputs": [],
   "source": [
    "#splitting artists \n",
    "df['Artists'] = df['Artists'].str.split(',').str[0]"
   ]
  },
  {
   "cell_type": "code",
   "execution_count": null,
   "metadata": {},
   "outputs": [],
   "source": [
    "#removing the link while keeping the year\n",
    "df['URLs'] = df['URLs'].str.split('-').str[-1]\n",
    "\n",
    "#2005 did not have link in year so putting 2005 back in the right spot\n",
    "df['URLs'] = df['URLs'].str.replace('awards', '2005')"
   ]
  },
  {
   "cell_type": "code",
   "execution_count": null,
   "metadata": {},
   "outputs": [],
   "source": [
    "#create running sum for total wins prior to current year\r\n",
    "for i, row in df.iterrows():\r\n",
    "  total_previous_wins = df.iloc[:i,:][df['Artists'] == row['Artists']]['wins'].sum()\r\n",
    "  df.loc[i,'total_previous_wins'] = total_previous_wins"
   ]
  },
  {
   "cell_type": "code",
   "execution_count": null,
   "metadata": {},
   "outputs": [],
   "source": [
    "#create running sum for total nominations prior to current year\r\n",
    "for i, row in df.iterrows():\r\n",
    "  total_previous_nominations = df.iloc[:i,:][df['Artists'] == row['Artists']]['nominated'].sum()\r\n",
    "  df.loc[i,'total_previous_nomination'] = total_previous_nominations"
   ]
  },
  {
   "cell_type": "code",
   "execution_count": null,
   "metadata": {},
   "outputs": [],
   "source": [
    "#saving the file to csv\n",
    "df.to_csv(r'C:\\Users\\koenm\\OneDrive\\Bureaublad\\Thesis\\Metacritic_thesis\\original data\\grammyfinal.csv')"
   ]
  },
  {
   "cell_type": "code",
   "execution_count": null,
   "metadata": {},
   "outputs": [],
   "source": []
  }
 ],
 "metadata": {
  "kernelspec": {
   "display_name": "Python 3.9.5 64-bit",
   "name": "python395jvsc74a57bd081e1f5df5c7d84a9530967da31609a1625d589fbc5ca7ab8ade995e2c5fae065"
  },
  "language_info": {
   "codemirror_mode": {
    "name": "ipython",
    "version": 3
   },
   "file_extension": ".py",
   "mimetype": "text/x-python",
   "name": "python",
   "nbconvert_exporter": "python",
   "pygments_lexer": "ipython3",
   "version": "3.9.5"
  },
  "orig_nbformat": 2
 },
 "nbformat": 4,
 "nbformat_minor": 2
}