{
 "cells": [
  {
   "cell_type": "code",
   "execution_count": null,
   "metadata": {},
   "outputs": [],
   "source": [
    "import pandas as pd\n",
    "import json"
   ]
  },
  {
   "cell_type": "code",
   "execution_count": null,
   "metadata": {},
   "outputs": [],
   "source": [
    "#df is a list item, splitting needed columns\n",
    "#also removed columns that were not necessary for further analysis -> summmary, critic review and user review\n",
    "\n",
    "url=[]\n",
    "title=[]\n",
    "artist=[]\n",
    "datePublished=[]\n",
    "meta_score=[]\n",
    "user_score=[]\n",
    "genre=[]\n",
    "\n",
    "with open(r'C:\\Users\\koenm\\OneDrive\\Bureaublad\\Thesis\\Metacritic_thesis\\original data\\metacritic_final.json') as f:\n",
    "    final=json.load(f)\n",
    "    for data in final:\n",
    "        url.append(data['url'])\n",
    "        title.append(data['title'])\n",
    "        artist.append(data['artist'])\n",
    "        datePublished.append(data['datePublished'])\n",
    "        meta_score.append(data['meta_score'])\n",
    "        user_score.append(data['user_score'])\n",
    "        genre.append(data['genre'])\n",
    "\n",
    "row={\n",
    "'URLs':url,\n",
    "'title':title,\n",
    "'artist':artist,\n",
    "'Date_Published':datePublished,\n",
    "'Meta_Score':meta_score,\n",
    "'User_Score':user_score,\n",
    "'Genre':genre\n",
    "}\n",
    "pd.set_option('display.max_columns', None)\n",
    "df = pd.DataFrame(row)\n",
    "print(df)"
   ]
  },
  {
   "cell_type": "code",
   "execution_count": null,
   "metadata": {},
   "outputs": [],
   "source": [
    "#making title and artist lower case for merging\n",
    "df['title'] = df['title'].str.lower()\n",
    "df['artist'] = df['artist'].str.lower()"
   ]
  },
  {
   "cell_type": "code",
   "execution_count": null,
   "metadata": {},
   "outputs": [],
   "source": [
    "#extracting the year from data for future merging\r\n",
    "metacritic['year'] = pd.DatetimeIndex(metacritic['Date_Published']).year"
   ]
  },
  {
   "cell_type": "code",
   "execution_count": null,
   "metadata": {},
   "outputs": [],
   "source": [
    "df.to_csv(r'C:\\Users\\koenm\\OneDrive\\Bureaublad\\Thesis\\Metacritic_thesis\\5. files_to_merge\\metacritic.csv')"
   ]
  }
 ],
 "metadata": {
  "kernelspec": {
   "display_name": "Python 3.9.5 64-bit",
   "name": "python395jvsc74a57bd081e1f5df5c7d84a9530967da31609a1625d589fbc5ca7ab8ade995e2c5fae065"
  },
  "language_info": {
   "codemirror_mode": {
    "name": "ipython",
    "version": 3
   },
   "file_extension": ".py",
   "mimetype": "text/x-python",
   "name": "python",
   "nbconvert_exporter": "python",
   "pygments_lexer": "ipython3",
   "version": "3.9.5"
  },
  "orig_nbformat": 2
 },
 "nbformat": 4,
 "nbformat_minor": 2
}