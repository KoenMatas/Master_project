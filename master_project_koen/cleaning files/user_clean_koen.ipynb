{
 "metadata": {
  "language_info": {
   "codemirror_mode": {
    "name": "ipython",
    "version": 3
   },
   "file_extension": ".py",
   "mimetype": "text/x-python",
   "name": "python",
   "nbconvert_exporter": "python",
   "pygments_lexer": "ipython3",
   "version": "3.9.5"
  },
  "orig_nbformat": 2,
  "kernelspec": {
   "name": "python395jvsc74a57bd081e1f5df5c7d84a9530967da31609a1625d589fbc5ca7ab8ade995e2c5fae065",
   "display_name": "Python 3.9.5 64-bit"
  }
 },
 "nbformat": 4,
 "nbformat_minor": 2,
 "cells": [
  {
   "cell_type": "code",
   "execution_count": 1,
   "metadata": {},
   "outputs": [
    {
     "output_type": "stream",
     "name": "stderr",
     "text": [
      "[nltk_data] Downloading package stopwords to\n[nltk_data]     C:\\Users\\koenm\\AppData\\Roaming\\nltk_data...\n[nltk_data]   Package stopwords is already up-to-date!\n"
     ]
    }
   ],
   "source": [
    "import os\n",
    "import random\n",
    "import pandas as pd\n",
    "import numpy as np\n",
    "import nltk\n",
    "nltk.download('stopwords')\n",
    "from nltk.tokenize import sent_tokenize, word_tokenize\n",
    "from nltk.corpus import stopwords\n",
    "from openpyxl.workbook import Workbook"
   ]
  },
  {
   "cell_type": "code",
   "execution_count": 2,
   "metadata": {},
   "outputs": [
    {
     "output_type": "execute_result",
     "data": {
      "text/plain": [
       "Index(['url', 'title', 'artist', 'datePublished', 'summary', 'meta_score',\n",
       "       'user_score', 'genre', 'critic-reviews', 'user_reviews'],\n",
       "      dtype='object')"
      ]
     },
     "metadata": {},
     "execution_count": 2
    }
   ],
   "source": [
    "data = pd.read_json(r'C:\\Users\\koenm\\OneDrive\\Bureaublad\\Thesis\\output\\use\\metacritic_final.json')\n",
    "data.columns"
   ]
  },
  {
   "cell_type": "code",
   "execution_count": 3,
   "metadata": {},
   "outputs": [
    {
     "output_type": "execute_result",
     "data": {
      "text/plain": [
       "[{'score': '6',\n",
       "  'reviewer': 'Dalmx',\n",
       "  'date_published': 'Mar 23, 2021',\n",
       "  'review_body': 'qqqqqqqqqqqqqqqqqqqqqqqqqqqqqqqqqqqqqqqqqqqqqqqqqqqqqqqqqqqqqqqqqqqqqqqqqqq',\n",
       "  'helpul_count': '0'},\n",
       " {'score': '9',\n",
       "  'reviewer': 'Menios',\n",
       "  'date_published': 'Mar  5, 2021',\n",
       "  'review_body': \"YES YES YES! Go for a walk while listening to this album right about now. You're going to feel so much better in these harsh times we live in.\",\n",
       "  'helpul_count': '0'},\n",
       " {'score': '10',\n",
       "  'reviewer': 'ConnorBruce',\n",
       "  'date_published': 'Feb 20, 2021',\n",
       "  'review_body': 'really nice makes you think about your life. Hard drive is 100% the peak of the album and a strong contender for SOTY',\n",
       "  'helpul_count': '0'},\n",
       " {'score': '9',\n",
       "  'reviewer': 'IAmDaan',\n",
       "  'date_published': 'Feb 25, 2021',\n",
       "  'review_body': 'Second album \"An Overview On Phenomenal Nature\" by US songwriter Cassandra Jenkins goes through the expansion stages, acquiring many images and references, monotonous dialogues turning into a mixture of drums and electric guitars, it looks like something meaningful and voice, the singer fully illustrates her feelings and emotions, and also shows her attitude to the world through the prismSecond album \"An Overview On Phenomenal Nature\" by US songwriter Cassandra Jenkins goes through the expansion stages, acquiring many images and references, monotonous dialogues turning into a mixture of drums and electric guitars, it looks like something meaningful and voice, the singer fully illustrates her feelings and emotions, and also shows her attitude to the world through the prism of melancholy and atmosphere…',\n",
       "  'helpul_count': '0'},\n",
       " {'score': '10',\n",
       "  'reviewer': 'musiclover2020',\n",
       "  'date_published': 'Apr 25, 2021',\n",
       "  'review_body': 'Flawless album from start to finish, Cassandra’s voice is absolutely perfection and the way every songs flows together so perfectly makes for an incredible listen, “Hard Drive” being the biggest stand out, the spoken word/singing combo is amazing and the story being told is so beautiful, perfect album to listen to while going on a walk, getting a coffee, or drawing/painting, I highlyFlawless album from start to finish, Cassandra’s voice is absolutely perfection and the way every songs flows together so perfectly makes for an incredible listen, “Hard Drive” being the biggest stand out, the spoken word/singing combo is amazing and the story being told is so beautiful, perfect album to listen to while going on a walk, getting a coffee, or drawing/painting, I highly recommend it.…',\n",
       "  'helpul_count': '0'},\n",
       " {'score': '10',\n",
       "  'reviewer': 'karlos861',\n",
       "  'date_published': 'Apr 18, 2021',\n",
       "  'review_body': 'Its  a really great album, i loved it. Her voice... theres a kind of coherence',\n",
       "  'helpul_count': '0'},\n",
       " {'score': '10',\n",
       "  'reviewer': 'Unjuanjo',\n",
       "  'date_published': 'Feb 25, 2021',\n",
       "  'review_body': 'Lovely album and storytelling. Makes you think about life. The song Hard Drive is absolutely perfect and the saxophone used throughout the album is absolutely compelling',\n",
       "  'helpul_count': '0'}]"
      ]
     },
     "metadata": {},
     "execution_count": 3
    }
   ],
   "source": [
    "#checking row\n",
    "data['user_reviews'][1]"
   ]
  },
  {
   "cell_type": "code",
   "execution_count": 4,
   "metadata": {},
   "outputs": [],
   "source": [
    "finaldf = pd.DataFrame(columns=['url', 'user_reviews_index', 'userscore', 'user_reviewer', 'user_date_published', 'user_review_body'])\n",
    "for index, value in data.iterrows():\n",
    "    url = value.url\n",
    "    userreview = value['user_reviews']\n",
    "    count = 0\n",
    "    #print(index, '/', len(data))\n",
    "    for item in userreview:\n",
    "        count = count +1\n",
    "        score = item['score']\n",
    "        reviewer = item['reviewer']\n",
    "        pubdate = item['date_published']\n",
    "        reviewbody = item['review_body']\n",
    "        helpfulcount = item['helpul_count']\n",
    "        row = {'url':[url], 'user_reviews_index':[count] ,'userscore': [score],'user_reviewer': [reviewer],'user_date_published': [pubdate],'user_review_body': [reviewbody]}\n",
    "        rowdf = pd.DataFrame(row)\n",
    "        finaldf = pd.concat([finaldf, rowdf])"
   ]
  },
  {
   "cell_type": "code",
   "execution_count": 6,
   "metadata": {},
   "outputs": [],
   "source": [
    "userreviews = finaldf"
   ]
  },
  {
   "cell_type": "code",
   "execution_count": 10,
   "metadata": {},
   "outputs": [],
   "source": [
    "#save as new file\n",
    "userreviews.to_excel(r'C:\\Users\\koenm\\OneDrive\\Bureaublad\\Thesis\\output\\cleaned\\userreviewsexcel.xlsx')"
   ]
  },
  {
   "cell_type": "code",
   "execution_count": 11,
   "metadata": {},
   "outputs": [
    {
     "output_type": "execute_result",
     "data": {
      "text/plain": [
       "url               12487\n",
       "title             12487\n",
       "artist            12487\n",
       "datePublished     12486\n",
       "summary           12340\n",
       "meta_score        12485\n",
       "user_score        12487\n",
       "genre             12416\n",
       "critic-reviews    12487\n",
       "user_reviews      12487\n",
       "dtype: int64"
      ]
     },
     "metadata": {},
     "execution_count": 11
    }
   ],
   "source": [
    "#Drop NAN\n",
    "userreviews = userreviews[userreviews['user_review_body'].notna()]\n",
    "data.count()"
   ]
  },
  {
   "cell_type": "code",
   "execution_count": 12,
   "metadata": {},
   "outputs": [],
   "source": [
    "#Delete \\n\n",
    "userreviews['user_review_body'] = userreviews['user_review_body'].str.replace('\\n',' ')"
   ]
  },
  {
   "cell_type": "code",
   "execution_count": 13,
   "metadata": {},
   "outputs": [],
   "source": [
    "#Delete \\r\n",
    "userreviews['user_review_body'] = userreviews['user_review_body'].str.replace('\\r',' ')"
   ]
  },
  {
   "cell_type": "code",
   "execution_count": 14,
   "metadata": {},
   "outputs": [],
   "source": [
    "#Lower case\n",
    "userreviews['user_review_body'] = userreviews['user_review_body'].str.replace('\\r',' ').str.lower()"
   ]
  },
  {
   "cell_type": "code",
   "execution_count": 15,
   "metadata": {},
   "outputs": [
    {
     "output_type": "stream",
     "name": "stdout",
     "text": [
      "0    this album is amazing . one of the bests albun...\n0    excellent album with enough ear-worms througho...\n0    i checked this out due to comparisons to norah...\n0    this soul/blues/rock album does just enough to...\n0    decided to listen to this album on account of ...\n                           ...                        \n0    what else can you say about this album? - a ma...\n0    iconic, i don't even need to say anything, thi...\n0    this review contains spoilers, click expand to...\n0    this review contains spoilers, click expand to...\n0    teenage dream , how to describe an album that ...\nName: user_review_body, Length: 217403, dtype: object\n"
     ]
    }
   ],
   "source": [
    "#check if all is still fine\n",
    "print(userreviews['user_review_body'])"
   ]
  },
  {
   "cell_type": "code",
   "execution_count": 16,
   "metadata": {},
   "outputs": [
    {
     "output_type": "stream",
     "name": "stderr",
     "text": [
      "<ipython-input-16-1903c34ce990>:2: FutureWarning: The default value of regex will change from True to False in a future version.\n  userreviews['user_review_body'] = userreviews['user_review_body'].str.replace('\\d+', '')\n"
     ]
    }
   ],
   "source": [
    "#Remove numbers\n",
    "userreviews['user_review_body'] = userreviews['user_review_body'].str.replace('\\d+', '')"
   ]
  },
  {
   "cell_type": "code",
   "execution_count": 17,
   "metadata": {},
   "outputs": [],
   "source": [
    "#Remove stopwords\n",
    "stop = stopwords.words('english')\n",
    "userreviews['user_review_body'] = userreviews['user_review_body'].apply(lambda x: ' '.join([word for word in x.split() if word not in (stop)]))"
   ]
  },
  {
   "cell_type": "code",
   "execution_count": 18,
   "metadata": {},
   "outputs": [
    {
     "output_type": "stream",
     "name": "stderr",
     "text": [
      "<ipython-input-18-64cbe4fc563a>:2: FutureWarning: The default value of regex will change from True to False in a future version.\n  userreviews['user_review_body'] = userreviews['user_review_body'].str.replace('[^\\w\\s]', '')\n"
     ]
    }
   ],
   "source": [
    "#remove punctuation\n",
    "userreviews['user_review_body'] = userreviews['user_review_body'].str.replace('[^\\w\\s]', '')"
   ]
  },
  {
   "cell_type": "code",
   "execution_count": 19,
   "metadata": {},
   "outputs": [
    {
     "output_type": "execute_result",
     "data": {
      "text/plain": [
       "                                                  url user_reviews_index  \\\n",
       "0   https://www.metacritic.com/music/the-order-of-...                  1   \n",
       "0   https://www.metacritic.com/music/the-order-of-...                  2   \n",
       "0   https://www.metacritic.com/music/the-order-of-...                  3   \n",
       "0   https://www.metacritic.com/music/the-order-of-...                  4   \n",
       "0   https://www.metacritic.com/music/the-order-of-...                  5   \n",
       "..                                                ...                ...   \n",
       "0   https://www.metacritic.com/music/teenage-dream...                369   \n",
       "0   https://www.metacritic.com/music/teenage-dream...                370   \n",
       "0   https://www.metacritic.com/music/teenage-dream...                371   \n",
       "0   https://www.metacritic.com/music/teenage-dream...                372   \n",
       "0   https://www.metacritic.com/music/teenage-dream...                373   \n",
       "\n",
       "   userscore   user_reviewer user_date_published  \\\n",
       "0         10        popstyle        Mar 10, 2017   \n",
       "0          8        jethibea        Jun  8, 2017   \n",
       "0          5      jake_gibbs        Jun 24, 2017   \n",
       "0          7  Music_Observer        May 16, 2017   \n",
       "0         10      SlowRocket        May  6, 2017   \n",
       "..       ...             ...                 ...   \n",
       "0          8  Vanyagranderia        Mar 29, 2021   \n",
       "0         10     Katyperry12        Apr  2, 2021   \n",
       "0         10          Dilann        Apr  9, 2021   \n",
       "0          0     JoshMedinna        Apr 21, 2021   \n",
       "0         10      edfabbian8        Apr 23, 2021   \n",
       "\n",
       "                                     user_review_body  \n",
       "0   album amazing  one bests albuns without doubtt...  \n",
       "0   excellent album enough earworms throughout war...  \n",
       "0   checked due comparisons norah jones whose musi...  \n",
       "0   soulbluesrock album enough maintain solidity c...  \n",
       "0   decided listen album account metascore simply ...  \n",
       "..                                                ...  \n",
       "0                         else say album  masterpiece  \n",
       "0   iconic even need say anything album biggest hi...  \n",
       "0   review contains spoilers click expand view bes...  \n",
       "0   review contains spoilers click expand view tra...  \n",
       "0   teenage dream  describe album marked pop indus...  \n",
       "\n",
       "[217403 rows x 6 columns]"
      ],
      "text/html": "<div>\n<style scoped>\n    .dataframe tbody tr th:only-of-type {\n        vertical-align: middle;\n    }\n\n    .dataframe tbody tr th {\n        vertical-align: top;\n    }\n\n    .dataframe thead th {\n        text-align: right;\n    }\n</style>\n<table border=\"1\" class=\"dataframe\">\n  <thead>\n    <tr style=\"text-align: right;\">\n      <th></th>\n      <th>url</th>\n      <th>user_reviews_index</th>\n      <th>userscore</th>\n      <th>user_reviewer</th>\n      <th>user_date_published</th>\n      <th>user_review_body</th>\n    </tr>\n  </thead>\n  <tbody>\n    <tr>\n      <th>0</th>\n      <td>https://www.metacritic.com/music/the-order-of-...</td>\n      <td>1</td>\n      <td>10</td>\n      <td>popstyle</td>\n      <td>Mar 10, 2017</td>\n      <td>album amazing  one bests albuns without doubtt...</td>\n    </tr>\n    <tr>\n      <th>0</th>\n      <td>https://www.metacritic.com/music/the-order-of-...</td>\n      <td>2</td>\n      <td>8</td>\n      <td>jethibea</td>\n      <td>Jun  8, 2017</td>\n      <td>excellent album enough earworms throughout war...</td>\n    </tr>\n    <tr>\n      <th>0</th>\n      <td>https://www.metacritic.com/music/the-order-of-...</td>\n      <td>3</td>\n      <td>5</td>\n      <td>jake_gibbs</td>\n      <td>Jun 24, 2017</td>\n      <td>checked due comparisons norah jones whose musi...</td>\n    </tr>\n    <tr>\n      <th>0</th>\n      <td>https://www.metacritic.com/music/the-order-of-...</td>\n      <td>4</td>\n      <td>7</td>\n      <td>Music_Observer</td>\n      <td>May 16, 2017</td>\n      <td>soulbluesrock album enough maintain solidity c...</td>\n    </tr>\n    <tr>\n      <th>0</th>\n      <td>https://www.metacritic.com/music/the-order-of-...</td>\n      <td>5</td>\n      <td>10</td>\n      <td>SlowRocket</td>\n      <td>May  6, 2017</td>\n      <td>decided listen album account metascore simply ...</td>\n    </tr>\n    <tr>\n      <th>...</th>\n      <td>...</td>\n      <td>...</td>\n      <td>...</td>\n      <td>...</td>\n      <td>...</td>\n      <td>...</td>\n    </tr>\n    <tr>\n      <th>0</th>\n      <td>https://www.metacritic.com/music/teenage-dream...</td>\n      <td>369</td>\n      <td>8</td>\n      <td>Vanyagranderia</td>\n      <td>Mar 29, 2021</td>\n      <td>else say album  masterpiece</td>\n    </tr>\n    <tr>\n      <th>0</th>\n      <td>https://www.metacritic.com/music/teenage-dream...</td>\n      <td>370</td>\n      <td>10</td>\n      <td>Katyperry12</td>\n      <td>Apr  2, 2021</td>\n      <td>iconic even need say anything album biggest hi...</td>\n    </tr>\n    <tr>\n      <th>0</th>\n      <td>https://www.metacritic.com/music/teenage-dream...</td>\n      <td>371</td>\n      <td>10</td>\n      <td>Dilann</td>\n      <td>Apr  9, 2021</td>\n      <td>review contains spoilers click expand view bes...</td>\n    </tr>\n    <tr>\n      <th>0</th>\n      <td>https://www.metacritic.com/music/teenage-dream...</td>\n      <td>372</td>\n      <td>0</td>\n      <td>JoshMedinna</td>\n      <td>Apr 21, 2021</td>\n      <td>review contains spoilers click expand view tra...</td>\n    </tr>\n    <tr>\n      <th>0</th>\n      <td>https://www.metacritic.com/music/teenage-dream...</td>\n      <td>373</td>\n      <td>10</td>\n      <td>edfabbian8</td>\n      <td>Apr 23, 2021</td>\n      <td>teenage dream  describe album marked pop indus...</td>\n    </tr>\n  </tbody>\n</table>\n<p>217403 rows × 6 columns</p>\n</div>"
     },
     "metadata": {},
     "execution_count": 19
    }
   ],
   "source": [
    "#check information to drop for sentiment analysis\n",
    "userreviews"
   ]
  },
  {
   "cell_type": "code",
   "execution_count": 20,
   "metadata": {},
   "outputs": [
    {
     "output_type": "execute_result",
     "data": {
      "text/plain": [
       "                                                  url  \\\n",
       "0   https://www.metacritic.com/music/the-order-of-...   \n",
       "0   https://www.metacritic.com/music/the-order-of-...   \n",
       "0   https://www.metacritic.com/music/the-order-of-...   \n",
       "0   https://www.metacritic.com/music/the-order-of-...   \n",
       "0   https://www.metacritic.com/music/the-order-of-...   \n",
       "..                                                ...   \n",
       "0   https://www.metacritic.com/music/teenage-dream...   \n",
       "0   https://www.metacritic.com/music/teenage-dream...   \n",
       "0   https://www.metacritic.com/music/teenage-dream...   \n",
       "0   https://www.metacritic.com/music/teenage-dream...   \n",
       "0   https://www.metacritic.com/music/teenage-dream...   \n",
       "\n",
       "                                     user_review_body  \n",
       "0   album amazing  one bests albuns without doubtt...  \n",
       "0   excellent album enough earworms throughout war...  \n",
       "0   checked due comparisons norah jones whose musi...  \n",
       "0   soulbluesrock album enough maintain solidity c...  \n",
       "0   decided listen album account metascore simply ...  \n",
       "..                                                ...  \n",
       "0                         else say album  masterpiece  \n",
       "0   iconic even need say anything album biggest hi...  \n",
       "0   review contains spoilers click expand view bes...  \n",
       "0   review contains spoilers click expand view tra...  \n",
       "0   teenage dream  describe album marked pop indus...  \n",
       "\n",
       "[217403 rows x 2 columns]"
      ],
      "text/html": "<div>\n<style scoped>\n    .dataframe tbody tr th:only-of-type {\n        vertical-align: middle;\n    }\n\n    .dataframe tbody tr th {\n        vertical-align: top;\n    }\n\n    .dataframe thead th {\n        text-align: right;\n    }\n</style>\n<table border=\"1\" class=\"dataframe\">\n  <thead>\n    <tr style=\"text-align: right;\">\n      <th></th>\n      <th>url</th>\n      <th>user_review_body</th>\n    </tr>\n  </thead>\n  <tbody>\n    <tr>\n      <th>0</th>\n      <td>https://www.metacritic.com/music/the-order-of-...</td>\n      <td>album amazing  one bests albuns without doubtt...</td>\n    </tr>\n    <tr>\n      <th>0</th>\n      <td>https://www.metacritic.com/music/the-order-of-...</td>\n      <td>excellent album enough earworms throughout war...</td>\n    </tr>\n    <tr>\n      <th>0</th>\n      <td>https://www.metacritic.com/music/the-order-of-...</td>\n      <td>checked due comparisons norah jones whose musi...</td>\n    </tr>\n    <tr>\n      <th>0</th>\n      <td>https://www.metacritic.com/music/the-order-of-...</td>\n      <td>soulbluesrock album enough maintain solidity c...</td>\n    </tr>\n    <tr>\n      <th>0</th>\n      <td>https://www.metacritic.com/music/the-order-of-...</td>\n      <td>decided listen album account metascore simply ...</td>\n    </tr>\n    <tr>\n      <th>...</th>\n      <td>...</td>\n      <td>...</td>\n    </tr>\n    <tr>\n      <th>0</th>\n      <td>https://www.metacritic.com/music/teenage-dream...</td>\n      <td>else say album  masterpiece</td>\n    </tr>\n    <tr>\n      <th>0</th>\n      <td>https://www.metacritic.com/music/teenage-dream...</td>\n      <td>iconic even need say anything album biggest hi...</td>\n    </tr>\n    <tr>\n      <th>0</th>\n      <td>https://www.metacritic.com/music/teenage-dream...</td>\n      <td>review contains spoilers click expand view bes...</td>\n    </tr>\n    <tr>\n      <th>0</th>\n      <td>https://www.metacritic.com/music/teenage-dream...</td>\n      <td>review contains spoilers click expand view tra...</td>\n    </tr>\n    <tr>\n      <th>0</th>\n      <td>https://www.metacritic.com/music/teenage-dream...</td>\n      <td>teenage dream  describe album marked pop indus...</td>\n    </tr>\n  </tbody>\n</table>\n<p>217403 rows × 2 columns</p>\n</div>"
     },
     "metadata": {},
     "execution_count": 20
    }
   ],
   "source": [
    "#drop columns not needed for sentiment analysis\n",
    "userreviewsclean = userreviews.drop(columns=['user_reviews_index','userscore', 'user_reviewer', 'user_date_published'])\n",
    "userreviewsclean"
   ]
  },
  {
   "cell_type": "code",
   "execution_count": 21,
   "metadata": {},
   "outputs": [],
   "source": [
    "#save to new file\n",
    "userreviewsclean.to_csv(r'C:\\Users\\koenm\\OneDrive\\Bureaublad\\Thesis\\output\\cleaned\\usercleanforsentiment.csv')"
   ]
  },
  {
   "cell_type": "code",
   "execution_count": null,
   "metadata": {},
   "outputs": [],
   "source": []
  }
 ]
}