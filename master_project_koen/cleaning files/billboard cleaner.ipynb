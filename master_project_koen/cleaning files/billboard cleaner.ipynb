{
 "metadata": {
  "language_info": {
   "codemirror_mode": {
    "name": "ipython",
    "version": 3
   },
   "file_extension": ".py",
   "mimetype": "text/x-python",
   "name": "python",
   "nbconvert_exporter": "python",
   "pygments_lexer": "ipython3",
   "version": "3.9.5"
  },
  "orig_nbformat": 2,
  "kernelspec": {
   "name": "python395jvsc74a57bd081e1f5df5c7d84a9530967da31609a1625d589fbc5ca7ab8ade995e2c5fae065",
   "display_name": "Python 3.9.5 64-bit"
  }
 },
 "nbformat": 4,
 "nbformat_minor": 2,
 "cells": [
  {
   "cell_type": "code",
   "execution_count": 29,
   "metadata": {},
   "outputs": [],
   "source": [
    "import pandas as pd\n",
    "import json"
   ]
  },
  {
   "cell_type": "code",
   "execution_count": 30,
   "metadata": {},
   "outputs": [],
   "source": [
    "position=[]\n",
    "date=[]\n",
    "title=[]\n",
    "artist=[]\n",
    "position_last_week=[]\n",
    "peak=[]\n",
    "weeks_on_chart=[]\n",
    "\n",
    "with open(r'C:\\Users\\koenm\\OneDrive\\Bureaublad\\Thesis\\Metacritic_thesis\\original data\\billboard25052021.json') as j:\n",
    "    billboard=json.load(j)\n",
    "    #print(json.dumps(billboard,indent=4))\n",
    "    #finaldf = pd.DataFrame(columns=['date', 'position', 'title', 'artist', 'position_last_week', 'peak', 'weeks_on_chart'])\n",
    "    for data in billboard:\n",
    "        songs=data['songs']\n",
    "        for item in songs:\n",
    "            position.append(item['position'])\n",
    "            title.append(item['title'])\n",
    "            artist.append(item['artist'])\n",
    "            position_last_week.append(item['last_week'])\n",
    "            peak.append(item['peak'])\n",
    "            weeks_on_chart.append(item['week'])\n",
    "            date.append(data['date'])\n",
    "\n",
    "row={\n",
    "'date':date,\n",
    "'position': position,\n",
    "'title': title,\n",
    "'artist': artist,\n",
    "'position_last_week': position_last_week,\n",
    "'peak': peak,\n",
    "'weeks_on_chart': weeks_on_chart\n",
    "}\n",
    "\n",
    "df = pd.DataFrame(row)\n",
    "#print(rowdf)"
   ]
  },
  {
   "cell_type": "code",
   "execution_count": 31,
   "metadata": {},
   "outputs": [],
   "source": [
    "#Lower case\n",
    "df['artist'] = df['artist'].str.lower()\n",
    "df['title'] = df['title'].str.lower()"
   ]
  },
  {
   "cell_type": "code",
   "execution_count": 32,
   "metadata": {},
   "outputs": [
    {
     "output_type": "execute_result",
     "data": {
      "text/plain": [
       "          date position                                        title  \\\n",
       "0   1963-07-17        1                       days of wine and roses   \n",
       "1   1963-07-17        2  little stevie wonder/the 12 year old genius   \n",
       "2   1963-07-17        3                              west side story   \n",
       "3   1963-07-17        4                                     (moving)   \n",
       "4   1963-07-17        5                          trini lopez at pj's   \n",
       "5   1963-07-17        6                         peter, paul and mary   \n",
       "6   1963-07-17        7                           live at the apollo   \n",
       "7   1963-07-17        8                                    shut down   \n",
       "8   1963-07-17        9                                    cleopatra   \n",
       "9   1963-07-17       10                               bye bye birdie   \n",
       "10  1963-07-17       11                           lawrence of arabia   \n",
       "11  1963-07-17       12            call on me/that's the way love is   \n",
       "12  1963-07-17       13                         how the west was won   \n",
       "13  1963-07-17       14                           i love you because   \n",
       "14  1963-07-17       15                               surfin' u.s.a.   \n",
       "15  1963-07-17       16                          the concert sinatra   \n",
       "16  1963-07-17       17                   the barbra streisand album   \n",
       "17  1963-07-17       18                              broadway-my way   \n",
       "18  1963-07-17       19                         joan baez in concert   \n",
       "19  1963-07-17       20        moon river & other great movie themes   \n",
       "\n",
       "                    artist position_last_week peak weeks_on_chart  \n",
       "0            andy williams                  -    1              1  \n",
       "1            stevie wonder                  -    2              1  \n",
       "2               soundtrack                  -    3              1  \n",
       "3        peter, paul  mary                  -    4              1  \n",
       "4              trini lopez                  -    5              1  \n",
       "5        peter, paul  mary                  -    6              1  \n",
       "6              james brown                  -    7              1  \n",
       "7          various artists                  -    8              1  \n",
       "8               soundtrack                  -    9              1  \n",
       "9               soundtrack                  -   10              1  \n",
       "10              soundtrack                  -   11              1  \n",
       "11             bobby bland                  -   12              1  \n",
       "12              soundtrack                  -   13              1  \n",
       "13              al martino                  -   14              1  \n",
       "14          the beach boys                  -   15              1  \n",
       "15  frank sinatra (riddle)                  -   16              1  \n",
       "16        barbra streisand                  -   17              1  \n",
       "17            nancy wilson                  -   18              1  \n",
       "18               joan baez                  -   19              1  \n",
       "19           andy williams                  -   20              1  "
      ],
      "text/html": "<div>\n<style scoped>\n    .dataframe tbody tr th:only-of-type {\n        vertical-align: middle;\n    }\n\n    .dataframe tbody tr th {\n        vertical-align: top;\n    }\n\n    .dataframe thead th {\n        text-align: right;\n    }\n</style>\n<table border=\"1\" class=\"dataframe\">\n  <thead>\n    <tr style=\"text-align: right;\">\n      <th></th>\n      <th>date</th>\n      <th>position</th>\n      <th>title</th>\n      <th>artist</th>\n      <th>position_last_week</th>\n      <th>peak</th>\n      <th>weeks_on_chart</th>\n    </tr>\n  </thead>\n  <tbody>\n    <tr>\n      <th>0</th>\n      <td>1963-07-17</td>\n      <td>1</td>\n      <td>days of wine and roses</td>\n      <td>andy williams</td>\n      <td>-</td>\n      <td>1</td>\n      <td>1</td>\n    </tr>\n    <tr>\n      <th>1</th>\n      <td>1963-07-17</td>\n      <td>2</td>\n      <td>little stevie wonder/the 12 year old genius</td>\n      <td>stevie wonder</td>\n      <td>-</td>\n      <td>2</td>\n      <td>1</td>\n    </tr>\n    <tr>\n      <th>2</th>\n      <td>1963-07-17</td>\n      <td>3</td>\n      <td>west side story</td>\n      <td>soundtrack</td>\n      <td>-</td>\n      <td>3</td>\n      <td>1</td>\n    </tr>\n    <tr>\n      <th>3</th>\n      <td>1963-07-17</td>\n      <td>4</td>\n      <td>(moving)</td>\n      <td>peter, paul  mary</td>\n      <td>-</td>\n      <td>4</td>\n      <td>1</td>\n    </tr>\n    <tr>\n      <th>4</th>\n      <td>1963-07-17</td>\n      <td>5</td>\n      <td>trini lopez at pj's</td>\n      <td>trini lopez</td>\n      <td>-</td>\n      <td>5</td>\n      <td>1</td>\n    </tr>\n    <tr>\n      <th>5</th>\n      <td>1963-07-17</td>\n      <td>6</td>\n      <td>peter, paul and mary</td>\n      <td>peter, paul  mary</td>\n      <td>-</td>\n      <td>6</td>\n      <td>1</td>\n    </tr>\n    <tr>\n      <th>6</th>\n      <td>1963-07-17</td>\n      <td>7</td>\n      <td>live at the apollo</td>\n      <td>james brown</td>\n      <td>-</td>\n      <td>7</td>\n      <td>1</td>\n    </tr>\n    <tr>\n      <th>7</th>\n      <td>1963-07-17</td>\n      <td>8</td>\n      <td>shut down</td>\n      <td>various artists</td>\n      <td>-</td>\n      <td>8</td>\n      <td>1</td>\n    </tr>\n    <tr>\n      <th>8</th>\n      <td>1963-07-17</td>\n      <td>9</td>\n      <td>cleopatra</td>\n      <td>soundtrack</td>\n      <td>-</td>\n      <td>9</td>\n      <td>1</td>\n    </tr>\n    <tr>\n      <th>9</th>\n      <td>1963-07-17</td>\n      <td>10</td>\n      <td>bye bye birdie</td>\n      <td>soundtrack</td>\n      <td>-</td>\n      <td>10</td>\n      <td>1</td>\n    </tr>\n    <tr>\n      <th>10</th>\n      <td>1963-07-17</td>\n      <td>11</td>\n      <td>lawrence of arabia</td>\n      <td>soundtrack</td>\n      <td>-</td>\n      <td>11</td>\n      <td>1</td>\n    </tr>\n    <tr>\n      <th>11</th>\n      <td>1963-07-17</td>\n      <td>12</td>\n      <td>call on me/that's the way love is</td>\n      <td>bobby bland</td>\n      <td>-</td>\n      <td>12</td>\n      <td>1</td>\n    </tr>\n    <tr>\n      <th>12</th>\n      <td>1963-07-17</td>\n      <td>13</td>\n      <td>how the west was won</td>\n      <td>soundtrack</td>\n      <td>-</td>\n      <td>13</td>\n      <td>1</td>\n    </tr>\n    <tr>\n      <th>13</th>\n      <td>1963-07-17</td>\n      <td>14</td>\n      <td>i love you because</td>\n      <td>al martino</td>\n      <td>-</td>\n      <td>14</td>\n      <td>1</td>\n    </tr>\n    <tr>\n      <th>14</th>\n      <td>1963-07-17</td>\n      <td>15</td>\n      <td>surfin' u.s.a.</td>\n      <td>the beach boys</td>\n      <td>-</td>\n      <td>15</td>\n      <td>1</td>\n    </tr>\n    <tr>\n      <th>15</th>\n      <td>1963-07-17</td>\n      <td>16</td>\n      <td>the concert sinatra</td>\n      <td>frank sinatra (riddle)</td>\n      <td>-</td>\n      <td>16</td>\n      <td>1</td>\n    </tr>\n    <tr>\n      <th>16</th>\n      <td>1963-07-17</td>\n      <td>17</td>\n      <td>the barbra streisand album</td>\n      <td>barbra streisand</td>\n      <td>-</td>\n      <td>17</td>\n      <td>1</td>\n    </tr>\n    <tr>\n      <th>17</th>\n      <td>1963-07-17</td>\n      <td>18</td>\n      <td>broadway-my way</td>\n      <td>nancy wilson</td>\n      <td>-</td>\n      <td>18</td>\n      <td>1</td>\n    </tr>\n    <tr>\n      <th>18</th>\n      <td>1963-07-17</td>\n      <td>19</td>\n      <td>joan baez in concert</td>\n      <td>joan baez</td>\n      <td>-</td>\n      <td>19</td>\n      <td>1</td>\n    </tr>\n    <tr>\n      <th>19</th>\n      <td>1963-07-17</td>\n      <td>20</td>\n      <td>moon river &amp; other great movie themes</td>\n      <td>andy williams</td>\n      <td>-</td>\n      <td>20</td>\n      <td>1</td>\n    </tr>\n  </tbody>\n</table>\n</div>"
     },
     "metadata": {},
     "execution_count": 32
    }
   ],
   "source": [
    "#removing the \"features\" and & text\n",
    "df['artist'] = df['artist'].str.replace('featuring','')\n",
    "df['artist'] = df['artist'].str.replace('&','')\n",
    "df.head(n=20)"
   ]
  },
  {
   "cell_type": "code",
   "execution_count": 33,
   "metadata": {},
   "outputs": [
    {
     "output_type": "stream",
     "name": "stderr",
     "text": [
      "<ipython-input-33-71f9e6539d8d>:2: FutureWarning: The default value of regex will change from True to False in a future version. In addition, single character regular expressions will*not* be treated as literal strings when regex=True.\n",
      "  df['artist'] = df['artist'].str.replace(')','')\n",
      "<ipython-input-33-71f9e6539d8d>:3: FutureWarning: The default value of regex will change from True to False in a future version. In addition, single character regular expressions will*not* be treated as literal strings when regex=True.\n",
      "  df['artist'] = df['artist'].str.replace('(','')\n",
      "<ipython-input-33-71f9e6539d8d>:4: FutureWarning: The default value of regex will change from True to False in a future version. In addition, single character regular expressions will*not* be treated as literal strings when regex=True.\n",
      "  df['title'] = df['title'].str.replace('(','')\n",
      "<ipython-input-33-71f9e6539d8d>:5: FutureWarning: The default value of regex will change from True to False in a future version. In addition, single character regular expressions will*not* be treated as literal strings when regex=True.\n",
      "  df['title'] = df['title'].str.replace(')','')\n"
     ]
    }
   ],
   "source": [
    "#removing ( and ) from text\n",
    "df['artist'] = df['artist'].str.replace(')','')\n",
    "df['artist'] = df['artist'].str.replace('(','')\n",
    "df['title'] = df['title'].str.replace('(','')\n",
    "df['title'] = df['title'].str.replace(')','')"
   ]
  },
  {
   "cell_type": "code",
   "execution_count": 34,
   "metadata": {},
   "outputs": [
    {
     "output_type": "execute_result",
     "data": {
      "text/plain": [
       "          date position                                        title  \\\n",
       "0   1963-07-17        1                       days of wine and roses   \n",
       "1   1963-07-17        2  little stevie wonder/the 12 year old genius   \n",
       "2   1963-07-17        3                              west side story   \n",
       "3   1963-07-17        4                                       moving   \n",
       "4   1963-07-17        5                          trini lopez at pj's   \n",
       "5   1963-07-17        6                         peter, paul and mary   \n",
       "6   1963-07-17        7                           live at the apollo   \n",
       "7   1963-07-17        8                                    shut down   \n",
       "8   1963-07-17        9                                    cleopatra   \n",
       "9   1963-07-17       10                               bye bye birdie   \n",
       "10  1963-07-17       11                           lawrence of arabia   \n",
       "11  1963-07-17       12            call on me/that's the way love is   \n",
       "12  1963-07-17       13                         how the west was won   \n",
       "13  1963-07-17       14                           i love you because   \n",
       "14  1963-07-17       15                               surfin' u.s.a.   \n",
       "15  1963-07-17       16                          the concert sinatra   \n",
       "16  1963-07-17       17                   the barbra streisand album   \n",
       "17  1963-07-17       18                              broadway-my way   \n",
       "18  1963-07-17       19                         joan baez in concert   \n",
       "19  1963-07-17       20        moon river & other great movie themes   \n",
       "\n",
       "                  artist position_last_week peak weeks_on_chart  \n",
       "0          andy williams                  -    1              1  \n",
       "1          stevie wonder                  -    2              1  \n",
       "2             soundtrack                  -    3              1  \n",
       "3                  peter                  -    4              1  \n",
       "4            trini lopez                  -    5              1  \n",
       "5                  peter                  -    6              1  \n",
       "6            james brown                  -    7              1  \n",
       "7        various artists                  -    8              1  \n",
       "8             soundtrack                  -    9              1  \n",
       "9             soundtrack                  -   10              1  \n",
       "10            soundtrack                  -   11              1  \n",
       "11           bobby bland                  -   12              1  \n",
       "12            soundtrack                  -   13              1  \n",
       "13            al martino                  -   14              1  \n",
       "14        the beach boys                  -   15              1  \n",
       "15  frank sinatra riddle                  -   16              1  \n",
       "16      barbra streisand                  -   17              1  \n",
       "17          nancy wilson                  -   18              1  \n",
       "18             joan baez                  -   19              1  \n",
       "19         andy williams                  -   20              1  "
      ],
      "text/html": "<div>\n<style scoped>\n    .dataframe tbody tr th:only-of-type {\n        vertical-align: middle;\n    }\n\n    .dataframe tbody tr th {\n        vertical-align: top;\n    }\n\n    .dataframe thead th {\n        text-align: right;\n    }\n</style>\n<table border=\"1\" class=\"dataframe\">\n  <thead>\n    <tr style=\"text-align: right;\">\n      <th></th>\n      <th>date</th>\n      <th>position</th>\n      <th>title</th>\n      <th>artist</th>\n      <th>position_last_week</th>\n      <th>peak</th>\n      <th>weeks_on_chart</th>\n    </tr>\n  </thead>\n  <tbody>\n    <tr>\n      <th>0</th>\n      <td>1963-07-17</td>\n      <td>1</td>\n      <td>days of wine and roses</td>\n      <td>andy williams</td>\n      <td>-</td>\n      <td>1</td>\n      <td>1</td>\n    </tr>\n    <tr>\n      <th>1</th>\n      <td>1963-07-17</td>\n      <td>2</td>\n      <td>little stevie wonder/the 12 year old genius</td>\n      <td>stevie wonder</td>\n      <td>-</td>\n      <td>2</td>\n      <td>1</td>\n    </tr>\n    <tr>\n      <th>2</th>\n      <td>1963-07-17</td>\n      <td>3</td>\n      <td>west side story</td>\n      <td>soundtrack</td>\n      <td>-</td>\n      <td>3</td>\n      <td>1</td>\n    </tr>\n    <tr>\n      <th>3</th>\n      <td>1963-07-17</td>\n      <td>4</td>\n      <td>moving</td>\n      <td>peter</td>\n      <td>-</td>\n      <td>4</td>\n      <td>1</td>\n    </tr>\n    <tr>\n      <th>4</th>\n      <td>1963-07-17</td>\n      <td>5</td>\n      <td>trini lopez at pj's</td>\n      <td>trini lopez</td>\n      <td>-</td>\n      <td>5</td>\n      <td>1</td>\n    </tr>\n    <tr>\n      <th>5</th>\n      <td>1963-07-17</td>\n      <td>6</td>\n      <td>peter, paul and mary</td>\n      <td>peter</td>\n      <td>-</td>\n      <td>6</td>\n      <td>1</td>\n    </tr>\n    <tr>\n      <th>6</th>\n      <td>1963-07-17</td>\n      <td>7</td>\n      <td>live at the apollo</td>\n      <td>james brown</td>\n      <td>-</td>\n      <td>7</td>\n      <td>1</td>\n    </tr>\n    <tr>\n      <th>7</th>\n      <td>1963-07-17</td>\n      <td>8</td>\n      <td>shut down</td>\n      <td>various artists</td>\n      <td>-</td>\n      <td>8</td>\n      <td>1</td>\n    </tr>\n    <tr>\n      <th>8</th>\n      <td>1963-07-17</td>\n      <td>9</td>\n      <td>cleopatra</td>\n      <td>soundtrack</td>\n      <td>-</td>\n      <td>9</td>\n      <td>1</td>\n    </tr>\n    <tr>\n      <th>9</th>\n      <td>1963-07-17</td>\n      <td>10</td>\n      <td>bye bye birdie</td>\n      <td>soundtrack</td>\n      <td>-</td>\n      <td>10</td>\n      <td>1</td>\n    </tr>\n    <tr>\n      <th>10</th>\n      <td>1963-07-17</td>\n      <td>11</td>\n      <td>lawrence of arabia</td>\n      <td>soundtrack</td>\n      <td>-</td>\n      <td>11</td>\n      <td>1</td>\n    </tr>\n    <tr>\n      <th>11</th>\n      <td>1963-07-17</td>\n      <td>12</td>\n      <td>call on me/that's the way love is</td>\n      <td>bobby bland</td>\n      <td>-</td>\n      <td>12</td>\n      <td>1</td>\n    </tr>\n    <tr>\n      <th>12</th>\n      <td>1963-07-17</td>\n      <td>13</td>\n      <td>how the west was won</td>\n      <td>soundtrack</td>\n      <td>-</td>\n      <td>13</td>\n      <td>1</td>\n    </tr>\n    <tr>\n      <th>13</th>\n      <td>1963-07-17</td>\n      <td>14</td>\n      <td>i love you because</td>\n      <td>al martino</td>\n      <td>-</td>\n      <td>14</td>\n      <td>1</td>\n    </tr>\n    <tr>\n      <th>14</th>\n      <td>1963-07-17</td>\n      <td>15</td>\n      <td>surfin' u.s.a.</td>\n      <td>the beach boys</td>\n      <td>-</td>\n      <td>15</td>\n      <td>1</td>\n    </tr>\n    <tr>\n      <th>15</th>\n      <td>1963-07-17</td>\n      <td>16</td>\n      <td>the concert sinatra</td>\n      <td>frank sinatra riddle</td>\n      <td>-</td>\n      <td>16</td>\n      <td>1</td>\n    </tr>\n    <tr>\n      <th>16</th>\n      <td>1963-07-17</td>\n      <td>17</td>\n      <td>the barbra streisand album</td>\n      <td>barbra streisand</td>\n      <td>-</td>\n      <td>17</td>\n      <td>1</td>\n    </tr>\n    <tr>\n      <th>17</th>\n      <td>1963-07-17</td>\n      <td>18</td>\n      <td>broadway-my way</td>\n      <td>nancy wilson</td>\n      <td>-</td>\n      <td>18</td>\n      <td>1</td>\n    </tr>\n    <tr>\n      <th>18</th>\n      <td>1963-07-17</td>\n      <td>19</td>\n      <td>joan baez in concert</td>\n      <td>joan baez</td>\n      <td>-</td>\n      <td>19</td>\n      <td>1</td>\n    </tr>\n    <tr>\n      <th>19</th>\n      <td>1963-07-17</td>\n      <td>20</td>\n      <td>moon river &amp; other great movie themes</td>\n      <td>andy williams</td>\n      <td>-</td>\n      <td>20</td>\n      <td>1</td>\n    </tr>\n  </tbody>\n</table>\n</div>"
     },
     "metadata": {},
     "execution_count": 34
    }
   ],
   "source": [
    "#splitting artists \n",
    "df['artist'] = df['artist'].str.split(',').str[0]\n",
    "df.head(n=20)"
   ]
  },
  {
   "cell_type": "code",
   "execution_count": 35,
   "metadata": {},
   "outputs": [],
   "source": [
    "df.to_csv(r'C:\\Users\\koenm\\OneDrive\\Bureaublad\\Thesis\\output\\cleaned\\billboardfinal0706.csv')"
   ]
  }
 ]
}