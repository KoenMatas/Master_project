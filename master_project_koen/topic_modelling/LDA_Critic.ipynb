{
 "metadata": {
  "language_info": {
   "codemirror_mode": {
    "name": "ipython",
    "version": 3
   },
   "file_extension": ".py",
   "mimetype": "text/x-python",
   "name": "python",
   "nbconvert_exporter": "python",
   "pygments_lexer": "ipython3",
   "version": "3.9.5"
  },
  "orig_nbformat": 2,
  "kernelspec": {
   "name": "python395jvsc74a57bd081e1f5df5c7d84a9530967da31609a1625d589fbc5ca7ab8ade995e2c5fae065",
   "display_name": "Python 3.9.5 64-bit"
  }
 },
 "nbformat": 4,
 "nbformat_minor": 2,
 "cells": [
  {
   "cell_type": "code",
   "execution_count": 46,
   "metadata": {},
   "outputs": [],
   "source": [
    "# Importing modules\n",
    "import pandas as pd\n",
    "import os\n",
    "import re\n",
    "os.chdir('..')"
   ]
  },
  {
   "cell_type": "code",
   "execution_count": 47,
   "metadata": {},
   "outputs": [
    {
     "output_type": "execute_result",
     "data": {
      "text/plain": [
       "   Document_No                                                url  \\\n",
       "0            0  https://www.metacritic.com/music/the-order-of-...   \n",
       "1            1  https://www.metacritic.com/music/the-order-of-...   \n",
       "2            2  https://www.metacritic.com/music/the-order-of-...   \n",
       "3            3  https://www.metacritic.com/music/the-order-of-...   \n",
       "4            4  https://www.metacritic.com/music/the-order-of-...   \n",
       "\n",
       "                                  critic_review_body  \n",
       "0  followup s sublime pushin stone finds valerie ...  \n",
       "1  june ingénue girldonewrong persona creator spe...  \n",
       "2  order time unique presents confident dynamic s...  \n",
       "3  triumph form order time completely idiosyncrat...  \n",
       "4  times atmospheric grounded mysticism astral pl...  "
      ],
      "text/html": "<div>\n<style scoped>\n    .dataframe tbody tr th:only-of-type {\n        vertical-align: middle;\n    }\n\n    .dataframe tbody tr th {\n        vertical-align: top;\n    }\n\n    .dataframe thead th {\n        text-align: right;\n    }\n</style>\n<table border=\"1\" class=\"dataframe\">\n  <thead>\n    <tr style=\"text-align: right;\">\n      <th></th>\n      <th>Document_No</th>\n      <th>url</th>\n      <th>critic_review_body</th>\n    </tr>\n  </thead>\n  <tbody>\n    <tr>\n      <th>0</th>\n      <td>0</td>\n      <td>https://www.metacritic.com/music/the-order-of-...</td>\n      <td>followup s sublime pushin stone finds valerie ...</td>\n    </tr>\n    <tr>\n      <th>1</th>\n      <td>1</td>\n      <td>https://www.metacritic.com/music/the-order-of-...</td>\n      <td>june ingénue girldonewrong persona creator spe...</td>\n    </tr>\n    <tr>\n      <th>2</th>\n      <td>2</td>\n      <td>https://www.metacritic.com/music/the-order-of-...</td>\n      <td>order time unique presents confident dynamic s...</td>\n    </tr>\n    <tr>\n      <th>3</th>\n      <td>3</td>\n      <td>https://www.metacritic.com/music/the-order-of-...</td>\n      <td>triumph form order time completely idiosyncrat...</td>\n    </tr>\n    <tr>\n      <th>4</th>\n      <td>4</td>\n      <td>https://www.metacritic.com/music/the-order-of-...</td>\n      <td>times atmospheric grounded mysticism astral pl...</td>\n    </tr>\n  </tbody>\n</table>\n</div>"
     },
     "metadata": {},
     "execution_count": 47
    }
   ],
   "source": [
    "#loading the user review data\n",
    "criticreviews = pd.read_csv(r'C:\\Users\\koenm\\OneDrive\\Bureaublad\\Thesis\\Metacritic_thesis\\4 Topic_modeling\\Topic modelling input\\criticcleanforlda.csv', delimiter=\";\")\n",
    "\n",
    "#print head\n",
    "criticreviews.head()"
   ]
  },
  {
   "cell_type": "code",
   "execution_count": 58,
   "metadata": {},
   "outputs": [],
   "source": [
    "#Prepare data for LDA Analysis because it has already been preprocessed, therefor no cleaning is needed"
   ]
  },
  {
   "cell_type": "code",
   "execution_count": 48,
   "metadata": {},
   "outputs": [
    {
     "output_type": "stream",
     "name": "stderr",
     "text": [
      "[nltk_data] Downloading package stopwords to\n[nltk_data]     C:\\Users\\koenm\\AppData\\Roaming\\nltk_data...\n[nltk_data]   Package stopwords is already up-to-date!\n"
     ]
    }
   ],
   "source": [
    "import gensim\n",
    "from gensim.utils import simple_preprocess\n",
    "import nltk\n",
    "nltk.download('stopwords')\n",
    "from nltk.corpus import stopwords\n",
    "\n",
    "stop_words = stopwords.words('english')\n",
    "stop_words.extend(['from', 'subject', 're', 'edu', 'use'])"
   ]
  },
  {
   "cell_type": "code",
   "execution_count": 49,
   "metadata": {},
   "outputs": [
    {
     "output_type": "stream",
     "name": "stdout",
     "text": [
      "['followup', 'sublime', 'pushin', 'stone', 'finds', 'valerie', 'june', 'expanding', 'unique', 'blend', 'blues', 'soul', 'mountain', 'music', 'create', 'distinctive', 'hybrid', 'past', 'future', 'coalesce', 'gentle', 'power']\n"
     ]
    }
   ],
   "source": [
    "def sent_to_words(sentences):\n",
    "    for sentence in sentences:\n",
    "        # deacc=True removes punctuations\n",
    "        yield(gensim.utils.simple_preprocess(str(sentence), deacc=True))\n",
    "def remove_stopwords(texts):\n",
    "    return [[word for word in simple_preprocess(str(doc)) \n",
    "             if word not in stop_words] for doc in texts]\n",
    "data = criticreviews.critic_review_body.values.tolist()\n",
    "data_words = list(sent_to_words(data))\n",
    "# remove stop words\n",
    "data_words = remove_stopwords(data_words)\n",
    "print(data_words[:1][0][:30])"
   ]
  },
  {
   "cell_type": "code",
   "execution_count": 50,
   "metadata": {},
   "outputs": [
    {
     "output_type": "stream",
     "name": "stdout",
     "text": [
      "[(0, 1), (1, 1), (2, 1), (3, 1), (4, 1), (5, 1), (6, 1), (7, 1), (8, 1), (9, 1), (10, 1), (11, 1), (12, 1), (13, 1), (14, 1), (15, 1), (16, 1), (17, 1), (18, 1), (19, 1), (20, 1), (21, 1)]\n"
     ]
    }
   ],
   "source": [
    "import gensim.corpora as corpora\n",
    "# Create Dictionary\n",
    "id2word = corpora.Dictionary(data_words)\n",
    "# Create Corpus\n",
    "texts = data_words\n",
    "# Term Document Frequency\n",
    "corpus = [id2word.doc2bow(text) for text in texts]\n",
    "# View\n",
    "print(corpus[:1][0][:30])"
   ]
  },
  {
   "cell_type": "code",
   "execution_count": 51,
   "metadata": {},
   "outputs": [],
   "source": [
    "from pprint import pprint\n",
    "\n",
    "# number of topics\n",
    "num_topics = 4"
   ]
  },
  {
   "cell_type": "code",
   "execution_count": 52,
   "metadata": {},
   "outputs": [],
   "source": [
    "# Build LDA model\n",
    "lda_model = gensim.models.LdaMulticore(corpus=corpus,\n",
    "                                       id2word=id2word,\n",
    "                                       num_topics=num_topics)"
   ]
  },
  {
   "cell_type": "code",
   "execution_count": 53,
   "metadata": {},
   "outputs": [
    {
     "output_type": "stream",
     "name": "stdout",
     "text": [
      "[(0,\n  '0.011*\"album\" + 0.009*\"like\" + 0.008*\"one\" + 0.007*\"still\" + 0.006*\"songs\" '\n  '+ 0.005*\"new\" + 0.005*\"sound\" + 0.005*\"band\" + 0.005*\"even\" + '\n  '0.005*\"albums\"'),\n (1,\n  '0.010*\"album\" + 0.010*\"music\" + 0.008*\"may\" + 0.007*\"record\" + 0.006*\"best\" '\n  '+ 0.006*\"pop\" + 0.004*\"like\" + 0.004*\"sound\" + 0.004*\"yet\" + '\n  '0.004*\"theres\"'),\n (2,\n  '0.012*\"like\" + 0.010*\"album\" + 0.006*\"time\" + 0.005*\"tracks\" + '\n  '0.005*\"record\" + 0.005*\"songs\" + 0.004*\"theres\" + 0.004*\"music\" + '\n  '0.004*\"one\" + 0.004*\"new\"'),\n (3,\n  '0.020*\"album\" + 0.011*\"songs\" + 0.006*\"one\" + 0.006*\"much\" + 0.005*\"record\" '\n  '+ 0.005*\"like\" + 0.005*\"band\" + 0.004*\"sound\" + 0.004*\"little\" + '\n  '0.004*\"good\"')]\n"
     ]
    }
   ],
   "source": [
    "# Print the Keyword in the 20 topics\n",
    "pprint(lda_model.print_topics())\n",
    "doc_lda = lda_model[corpus]"
   ]
  },
  {
   "cell_type": "code",
   "execution_count": 65,
   "metadata": {},
   "outputs": [],
   "source": [
    "# 6. What is the Dominant topic and its percentage contribution in each document"
   ]
  },
  {
   "cell_type": "code",
   "execution_count": 66,
   "metadata": {},
   "outputs": [],
   "source": [
    "def format_topics_sentences(ldamodel=None, corpus=corpus, texts=criticreviews['critic_review_body']):\n",
    "    # Init output\n",
    "    sent_topics_df = pd.DataFrame()\n",
    "\n",
    "    # Get main topic in each document\n",
    "    for i, row_list in enumerate(lda_model[corpus]):\n",
    "        row = row_list[0] if lda_model.per_word_topics else row_list            \n",
    "        # print(row)\n",
    "        row = sorted(row, key=lambda x: (x[1]), reverse=True)\n",
    "        # Get the Dominant topic, Perc Contribution and Keywords for each document\n",
    "        for j, (topic_num, prop_topic) in enumerate(row):\n",
    "            if j == 0:  # => dominant topic\n",
    "                wp = lda_model.show_topic(topic_num)\n",
    "                topic_keywords = \", \".join([word for word, prop in wp])\n",
    "                sent_topics_df = sent_topics_df.append(pd.Series([int(topic_num), round(prop_topic,4), topic_keywords]), ignore_index=True)\n",
    "            else:\n",
    "                break\n",
    "    sent_topics_df.columns = ['Dominant_Topic', 'Perc_Contribution', 'Topic_Keywords']\n",
    "\n",
    "    # Add original text to the end of the output\n",
    "    contents = pd.Series(texts)\n",
    "    sent_topics_df = pd.concat([sent_topics_df, contents], axis=1)\n",
    "    return(sent_topics_df)"
   ]
  },
  {
   "cell_type": "code",
   "execution_count": 55,
   "metadata": {},
   "outputs": [
    {
     "output_type": "execute_result",
     "data": {
      "text/plain": [
       "   Document_No  Dominant_Topic  Topic_Perc_Contrib  \\\n",
       "0            0             8.0              0.9594   \n",
       "1            1            12.0              0.9451   \n",
       "2            2            10.0              0.9333   \n",
       "3            3            11.0              0.9333   \n",
       "4            4             6.0              0.9641   \n",
       "\n",
       "                                            Keywords  \\\n",
       "0  mountain, expanding, future, june, unique, fin...   \n",
       "1  sharp, world, girldonewrong, wickedly, creator...   \n",
       "2  dynamic, performer, influences, presents, back...   \n",
       "3  roots, completely, form, beholden, order, take...   \n",
       "4  voice, time, soul, door, grounded, strings, es...   \n",
       "\n",
       "                                                Text  \n",
       "0  followup s sublime pushin stone finds valerie ...  \n",
       "1  june ingénue girldonewrong persona creator spe...  \n",
       "2  order time unique presents confident dynamic s...  \n",
       "3  triumph form order time completely idiosyncrat...  \n",
       "4  times atmospheric grounded mysticism astral pl...  "
      ],
      "text/html": "<div>\n<style scoped>\n    .dataframe tbody tr th:only-of-type {\n        vertical-align: middle;\n    }\n\n    .dataframe tbody tr th {\n        vertical-align: top;\n    }\n\n    .dataframe thead th {\n        text-align: right;\n    }\n</style>\n<table border=\"1\" class=\"dataframe\">\n  <thead>\n    <tr style=\"text-align: right;\">\n      <th></th>\n      <th>Document_No</th>\n      <th>Dominant_Topic</th>\n      <th>Topic_Perc_Contrib</th>\n      <th>Keywords</th>\n      <th>Text</th>\n    </tr>\n  </thead>\n  <tbody>\n    <tr>\n      <th>0</th>\n      <td>0</td>\n      <td>8.0</td>\n      <td>0.9594</td>\n      <td>mountain, expanding, future, june, unique, fin...</td>\n      <td>followup s sublime pushin stone finds valerie ...</td>\n    </tr>\n    <tr>\n      <th>1</th>\n      <td>1</td>\n      <td>12.0</td>\n      <td>0.9451</td>\n      <td>sharp, world, girldonewrong, wickedly, creator...</td>\n      <td>june ingénue girldonewrong persona creator spe...</td>\n    </tr>\n    <tr>\n      <th>2</th>\n      <td>2</td>\n      <td>10.0</td>\n      <td>0.9333</td>\n      <td>dynamic, performer, influences, presents, back...</td>\n      <td>order time unique presents confident dynamic s...</td>\n    </tr>\n    <tr>\n      <th>3</th>\n      <td>3</td>\n      <td>11.0</td>\n      <td>0.9333</td>\n      <td>roots, completely, form, beholden, order, take...</td>\n      <td>triumph form order time completely idiosyncrat...</td>\n    </tr>\n    <tr>\n      <th>4</th>\n      <td>4</td>\n      <td>6.0</td>\n      <td>0.9641</td>\n      <td>voice, time, soul, door, grounded, strings, es...</td>\n      <td>times atmospheric grounded mysticism astral pl...</td>\n    </tr>\n  </tbody>\n</table>\n</div>"
     },
     "metadata": {},
     "execution_count": 55
    }
   ],
   "source": [
    "df_topic_sents_keywords = format_topics_sentences(ldamodel=lda_model, corpus=corpus, texts=criticreviews['critic_review_body'])\n",
    "\n",
    "# Format\n",
    "df_dominant_topic = df_topic_sents_keywords.reset_index()\n",
    "df_dominant_topic.columns = ['Document_No', 'Dominant_Topic', 'Topic_Perc_Contrib', 'Keywords', 'Text']\n",
    "df_dominant_topic.head(10)"
   ]
  },
  {
   "cell_type": "code",
   "execution_count": null,
   "metadata": {},
   "outputs": [],
   "source": []
  }
 ]
}