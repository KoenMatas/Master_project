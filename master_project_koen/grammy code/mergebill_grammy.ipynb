{
 "metadata": {
  "language_info": {
   "codemirror_mode": {
    "name": "ipython",
    "version": 3
   },
   "file_extension": ".py",
   "mimetype": "text/x-python",
   "name": "python",
   "nbconvert_exporter": "python",
   "pygments_lexer": "ipython3",
   "version": "3.9.5"
  },
  "orig_nbformat": 4,
  "kernelspec": {
   "name": "python3",
   "display_name": "Python 3.9.5 64-bit"
  },
  "interpreter": {
   "hash": "81e1f5df5c7d84a9530967da31609a1625d589fbc5ca7ab8ade995e2c5fae065"
  }
 },
 "nbformat": 4,
 "nbformat_minor": 2,
 "cells": [
  {
   "cell_type": "code",
   "execution_count": 1,
   "metadata": {},
   "outputs": [],
   "source": [
    "import pandas as pd"
   ]
  },
  {
   "cell_type": "code",
   "execution_count": 2,
   "metadata": {},
   "outputs": [],
   "source": [
    "#load billboard and grammy data\n",
    "billboard = pd.read_csv(r'C:\\Users\\koenm\\OneDrive\\Bureaublad\\Thesis\\Metacritic_thesis\\grammy\\input\\billboard_average_per_artist.csv')\n",
    "grammy = pd.read_csv(r'C:\\Users\\koenm\\OneDrive\\Bureaublad\\Thesis\\Metacritic_thesis\\grammy\\input\\grammyalteredformerge.csv', delimiter=\";\")"
   ]
  },
  {
   "cell_type": "code",
   "execution_count": 3,
   "metadata": {},
   "outputs": [
    {
     "output_type": "execute_result",
     "data": {
      "text/plain": [
       "   year         artist  Median_position  Min_peak  Max_weeks_on_chart  \\\n",
       "0  1963        al hirt             94.0        34                  15   \n",
       "1  1963      al jolson            101.0        87                   4   \n",
       "2  1963     al martino             23.0         9                  20   \n",
       "3  1963  allan sherman             63.0         1                  20   \n",
       "4  1963   andre previn            134.0       130                   4   \n",
       "\n",
       "   Unnamed: 0  wins  nominated  total_previous_wins  total_previous_nomination  \n",
       "0         NaN   NaN        NaN                  NaN                        NaN  \n",
       "1         NaN   NaN        NaN                  NaN                        NaN  \n",
       "2         NaN   NaN        NaN                  NaN                        NaN  \n",
       "3         NaN   NaN        NaN                  NaN                        NaN  \n",
       "4         NaN   NaN        NaN                  NaN                        NaN  "
      ],
      "text/html": "<div>\n<style scoped>\n    .dataframe tbody tr th:only-of-type {\n        vertical-align: middle;\n    }\n\n    .dataframe tbody tr th {\n        vertical-align: top;\n    }\n\n    .dataframe thead th {\n        text-align: right;\n    }\n</style>\n<table border=\"1\" class=\"dataframe\">\n  <thead>\n    <tr style=\"text-align: right;\">\n      <th></th>\n      <th>year</th>\n      <th>artist</th>\n      <th>Median_position</th>\n      <th>Min_peak</th>\n      <th>Max_weeks_on_chart</th>\n      <th>Unnamed: 0</th>\n      <th>wins</th>\n      <th>nominated</th>\n      <th>total_previous_wins</th>\n      <th>total_previous_nomination</th>\n    </tr>\n  </thead>\n  <tbody>\n    <tr>\n      <th>0</th>\n      <td>1963</td>\n      <td>al hirt</td>\n      <td>94.0</td>\n      <td>34</td>\n      <td>15</td>\n      <td>NaN</td>\n      <td>NaN</td>\n      <td>NaN</td>\n      <td>NaN</td>\n      <td>NaN</td>\n    </tr>\n    <tr>\n      <th>1</th>\n      <td>1963</td>\n      <td>al jolson</td>\n      <td>101.0</td>\n      <td>87</td>\n      <td>4</td>\n      <td>NaN</td>\n      <td>NaN</td>\n      <td>NaN</td>\n      <td>NaN</td>\n      <td>NaN</td>\n    </tr>\n    <tr>\n      <th>2</th>\n      <td>1963</td>\n      <td>al martino</td>\n      <td>23.0</td>\n      <td>9</td>\n      <td>20</td>\n      <td>NaN</td>\n      <td>NaN</td>\n      <td>NaN</td>\n      <td>NaN</td>\n      <td>NaN</td>\n    </tr>\n    <tr>\n      <th>3</th>\n      <td>1963</td>\n      <td>allan sherman</td>\n      <td>63.0</td>\n      <td>1</td>\n      <td>20</td>\n      <td>NaN</td>\n      <td>NaN</td>\n      <td>NaN</td>\n      <td>NaN</td>\n      <td>NaN</td>\n    </tr>\n    <tr>\n      <th>4</th>\n      <td>1963</td>\n      <td>andre previn</td>\n      <td>134.0</td>\n      <td>130</td>\n      <td>4</td>\n      <td>NaN</td>\n      <td>NaN</td>\n      <td>NaN</td>\n      <td>NaN</td>\n      <td>NaN</td>\n    </tr>\n  </tbody>\n</table>\n</div>"
     },
     "metadata": {},
     "execution_count": 3
    }
   ],
   "source": [
    "#merge on artis and year\n",
    "merged = pd.merge(billboard, grammy, on=['artist','year'], how='left')\n",
    "merged.head()"
   ]
  },
  {
   "cell_type": "code",
   "execution_count": 4,
   "metadata": {},
   "outputs": [
    {
     "output_type": "execute_result",
     "data": {
      "text/plain": [
       "   year         artist  Median_position  Min_peak  Max_weeks_on_chart  \\\n",
       "0  1963        al hirt             94.0        34                  15   \n",
       "1  1963      al jolson            101.0        87                   4   \n",
       "2  1963     al martino             23.0         9                  20   \n",
       "3  1963  allan sherman             63.0         1                  20   \n",
       "4  1963   andre previn            134.0       130                   4   \n",
       "\n",
       "   Unnamed: 0  wins  nominated  total_previous_wins  total_previous_nomination  \n",
       "0         0.0   0.0        0.0                  0.0                        0.0  \n",
       "1         0.0   0.0        0.0                  0.0                        0.0  \n",
       "2         0.0   0.0        0.0                  0.0                        0.0  \n",
       "3         0.0   0.0        0.0                  0.0                        0.0  \n",
       "4         0.0   0.0        0.0                  0.0                        0.0  "
      ],
      "text/html": "<div>\n<style scoped>\n    .dataframe tbody tr th:only-of-type {\n        vertical-align: middle;\n    }\n\n    .dataframe tbody tr th {\n        vertical-align: top;\n    }\n\n    .dataframe thead th {\n        text-align: right;\n    }\n</style>\n<table border=\"1\" class=\"dataframe\">\n  <thead>\n    <tr style=\"text-align: right;\">\n      <th></th>\n      <th>year</th>\n      <th>artist</th>\n      <th>Median_position</th>\n      <th>Min_peak</th>\n      <th>Max_weeks_on_chart</th>\n      <th>Unnamed: 0</th>\n      <th>wins</th>\n      <th>nominated</th>\n      <th>total_previous_wins</th>\n      <th>total_previous_nomination</th>\n    </tr>\n  </thead>\n  <tbody>\n    <tr>\n      <th>0</th>\n      <td>1963</td>\n      <td>al hirt</td>\n      <td>94.0</td>\n      <td>34</td>\n      <td>15</td>\n      <td>0.0</td>\n      <td>0.0</td>\n      <td>0.0</td>\n      <td>0.0</td>\n      <td>0.0</td>\n    </tr>\n    <tr>\n      <th>1</th>\n      <td>1963</td>\n      <td>al jolson</td>\n      <td>101.0</td>\n      <td>87</td>\n      <td>4</td>\n      <td>0.0</td>\n      <td>0.0</td>\n      <td>0.0</td>\n      <td>0.0</td>\n      <td>0.0</td>\n    </tr>\n    <tr>\n      <th>2</th>\n      <td>1963</td>\n      <td>al martino</td>\n      <td>23.0</td>\n      <td>9</td>\n      <td>20</td>\n      <td>0.0</td>\n      <td>0.0</td>\n      <td>0.0</td>\n      <td>0.0</td>\n      <td>0.0</td>\n    </tr>\n    <tr>\n      <th>3</th>\n      <td>1963</td>\n      <td>allan sherman</td>\n      <td>63.0</td>\n      <td>1</td>\n      <td>20</td>\n      <td>0.0</td>\n      <td>0.0</td>\n      <td>0.0</td>\n      <td>0.0</td>\n      <td>0.0</td>\n    </tr>\n    <tr>\n      <th>4</th>\n      <td>1963</td>\n      <td>andre previn</td>\n      <td>134.0</td>\n      <td>130</td>\n      <td>4</td>\n      <td>0.0</td>\n      <td>0.0</td>\n      <td>0.0</td>\n      <td>0.0</td>\n      <td>0.0</td>\n    </tr>\n  </tbody>\n</table>\n</div>"
     },
     "metadata": {},
     "execution_count": 4
    }
   ],
   "source": [
    "#change nan to 0 \n",
    "merged = merged.fillna(0)\n",
    "merged.head()"
   ]
  },
  {
   "cell_type": "code",
   "execution_count": 5,
   "metadata": {},
   "outputs": [],
   "source": [
    "#save file\n",
    "merged.to_csv(r'C:\\Users\\koenm\\OneDrive\\Bureaublad\\Thesis\\Metacritic_thesis\\grammy\\output\\grammybillboardmerge.csv')"
   ]
  },
  {
   "cell_type": "code",
   "execution_count": null,
   "metadata": {},
   "outputs": [],
   "source": []
  }
 ]
}